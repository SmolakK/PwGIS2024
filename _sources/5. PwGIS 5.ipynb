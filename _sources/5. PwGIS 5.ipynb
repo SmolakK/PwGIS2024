{
 "cells": [
  {
   "cell_type": "markdown",
   "id": "ebd4d0d6",
   "metadata": {},
   "source": [
    "# Moduł 5 - (Q)GIS - Kalkulator pól"
   ]
  },
  {
   "cell_type": "markdown",
   "id": "dee80c05",
   "metadata": {},
   "source": [
    "## Kalkulator pól\n",
    "\n",
    "**W końcu nadszedł czas na wykonywanie zadań, których bez Pythona nie wykonacie**\n",
    "\n",
    "Jednym z przydatnych narzędzi GIS jest kalkulator pól. Pozwala on na obliczanie wartości w wierszach na podstawie wartości z pozostałych kolumn lub atrybutów warstwy.\n",
    "\n",
    "Najpierw spójrzmy jak normalnie działa kalkulator pól w QGIS:\n",
    "\n",
    "Na początku wczytujemy warstwę i otwieramy tabelę atrybutów. Dla przykładu otworzymy warstwę strefy_ABC_lotnisko:"
   ]
  },
  {
   "cell_type": "markdown",
   "id": "703747bd",
   "metadata": {},
   "source": [
    "<img src='wyk5_img/1.png'/>"
   ]
  },
  {
   "cell_type": "markdown",
   "id": "0213f986",
   "metadata": {},
   "source": [
    "Następnie otwieramy \"Kalkulator pól\""
   ]
  },
  {
   "cell_type": "markdown",
   "id": "c37edcbd",
   "metadata": {},
   "source": [
    "<img src='wyk5_img/2.png'/>"
   ]
  },
  {
   "cell_type": "markdown",
   "id": "f63afccc",
   "metadata": {},
   "source": [
    "W nowym oknie możemy ustalić kilka parametrów:\n",
    "\n",
    "    Dodanie nowego pola czy akutalizacja już istniejącego\n",
    "    \n",
    "    Jeśli dodanie nowego pola -> typ danej i jej długość (liczba znaków) i w przypadku liczby zmiennoprzecinkowej liczba miejsc po przecinku"
   ]
  },
  {
   "cell_type": "markdown",
   "id": "67babbc9",
   "metadata": {},
   "source": [
    "<img src='wyk5_img/3.png'/>"
   ]
  },
  {
   "cell_type": "markdown",
   "id": "93d645fb",
   "metadata": {},
   "source": [
    "Poniżej znajdują się trzy okna. Idąc od lewej:\n",
    "\n",
    "    Pole wyrażenia -> tu wpisuje się funkcję, która zostanie wywowałana\n",
    "    \n",
    "    Pole funkcji -> stąd można wyszukać funkcje które możemu użyć, w tym nazwy pól, operatory geometryczne itd.\n",
    "    \n",
    "    Pole podpowiedzi -> krótki opis funkcji wybranej w polu funkcji.\n",
    "    \n",
    "    \n",
    "Wpiszmy funkcję, która podzieli pole \"area\" przez 1000. Wynik zapisywany jest do nowego pola.\n",
    "\n",
    "Poniżej widać, że w podpowiedziach \"Pola i wartości\" widzimy nazwy dostępnych pól"
   ]
  },
  {
   "cell_type": "markdown",
   "id": "6aaff76f",
   "metadata": {},
   "source": [
    "<img src='wyk5_img/4.png'/>"
   ]
  },
  {
   "cell_type": "markdown",
   "id": "34d6e5b5",
   "metadata": {},
   "source": [
    "Po wybraniu \"OK\" funkcja wykonuje się i dodaje nowe pole z obliczonymi wartościami do tabeli atrybutów warstwy.\n",
    "\n",
    "Tryb edycji włącza się automatycznie, można go wyłączyć i zapisać stan.\n",
    "\n",
    "GOTOWE!"
   ]
  },
  {
   "cell_type": "markdown",
   "id": "5e516c04",
   "metadata": {},
   "source": [
    "<img src='wyk5_img/5.png'/>"
   ]
  },
  {
   "cell_type": "markdown",
   "id": "2559699a",
   "metadata": {},
   "source": [
    "Można również korzystać z operatorów geometrycznych, np.\n",
    "\n",
    "pole -> $area\n",
    "\n",
    "długość -> $length\n",
    "\n",
    "Więcej operatorów znajdziemy w oknie funkcji"
   ]
  },
  {
   "cell_type": "markdown",
   "id": "4a083cbf",
   "metadata": {},
   "source": [
    "<img src='wyk5_img/6.png'/>"
   ]
  },
  {
   "cell_type": "markdown",
   "id": "727d8aeb",
   "metadata": {},
   "source": [
    "### Kalkulator pól w Pythonie"
   ]
  },
  {
   "cell_type": "markdown",
   "id": "72fadbec",
   "metadata": {},
   "source": [
    "Najpierw podczytamy sobie warstwę, załóżmy że mamy ją już w QGIS, więc odwołujemy się przez iface"
   ]
  },
  {
   "cell_type": "code",
   "execution_count": null,
   "id": "3663193f",
   "metadata": {},
   "outputs": [],
   "source": [
    "warstwa = iface.activeLayer()"
   ]
  },
  {
   "cell_type": "markdown",
   "id": "d8474511",
   "metadata": {},
   "source": [
    "Następnie dostajemy się do dataProvider żeby móc edytować warstwę, czyli w tym przypadku dodać nowe pole:"
   ]
  },
  {
   "cell_type": "code",
   "execution_count": null,
   "id": "344bea39",
   "metadata": {},
   "outputs": [],
   "source": [
    "pr = warstwa.dataProvider()"
   ]
  },
  {
   "cell_type": "markdown",
   "id": "dc27a578",
   "metadata": {},
   "source": [
    "Dodajemy nowe pole metodą klasy dataProvider - add.Attributes (zupłenie jak addFeatures - dodawanie obiektów do warstwy, ale tym razem dodajemy pole danych!)\n",
    "\n",
    "Przyjmuje jako argument listę pól. A pole definiujemy jako klasę QgsField (już  wspomniana na wykładzie), która składa  się z (minimalnie) nazwy oraz typu zmienej. Typ zmiennej definiowany jest jako klasa QVariant. Double to liczba zmiennoprzecinkowa."
   ]
  },
  {
   "cell_type": "code",
   "execution_count": null,
   "id": "0879ab83",
   "metadata": {},
   "outputs": [],
   "source": [
    "pr.addAttributes([QgsField(\"Nazwa\",QVariant.Double)])\n",
    "warstwa.updateFields() #pamiętamy o odświeżaniu!"
   ]
  },
  {
   "cell_type": "markdown",
   "id": "d3671e5f",
   "metadata": {},
   "source": [
    "Typy QVariant znajdziemy oczywiście w dokumentacji (dokumentacji Qt, nie QGIS API!):"
   ]
  },
  {
   "cell_type": "markdown",
   "id": "ad783aa6",
   "metadata": {},
   "source": [
    "<img src='wyk5_img/7.png'/>"
   ]
  },
  {
   "cell_type": "markdown",
   "id": "ee92486b",
   "metadata": {},
   "source": [
    "Teraz dla każdego obiektu, możemy ustalić nową wartość utworzonego pola przy pomocy pozostałych pól:"
   ]
  },
  {
   "cell_type": "code",
   "execution_count": null,
   "id": "dd1078c4",
   "metadata": {},
   "outputs": [],
   "source": [
    "for obiekt in warstwa.getFeatures(): #iterujemy się przez obiekty\n",
    "    obiekt.setAttribute(obiekt.fieldNameIndex('Nazwa'),obiekt['area']/1000) \n",
    "    warstwa.updateFeature(obiekt)  #Każdy obiekt odświeżamy!"
   ]
  },
  {
   "cell_type": "markdown",
   "id": "a87acab7",
   "metadata": {},
   "source": [
    "Dla obiektu w iteracji ustalamy wartość atrybutu metodą setAttribute. Metoda jako argument nr 1) przyjmuje współrzędne pola, którego wartość ma zmieniać, a jako drugi argument - wartość.\n",
    "\n",
    "Wykorzystujemy metodę fieldNameIndex, które te współrzędne określa, należy podać tylko nazwę kolumny. \n",
    "    \n",
    "Podajemy wartość, która ma zostać wprowadzone w pole z argumentu nr 1. Tym razem jest to wartość kolumny \"area\" dzielona przez 1000."
   ]
  },
  {
   "cell_type": "markdown",
   "id": "8280e0a4",
   "metadata": {},
   "source": [
    "Możemy zrobić to samo, korzystając z powierzchni będącej atrybutem obiektu warstwy:"
   ]
  },
  {
   "cell_type": "code",
   "execution_count": null,
   "id": "5ed64bc1",
   "metadata": {},
   "outputs": [],
   "source": [
    "for obiekt in warstwa.getFeatures(): #iterujemy się przez obiekty\n",
    "    obiekt.setAttribute(obiekt.fieldNameIndex('Nazwa'),obiekt.geometry().area()/1000) \n",
    "    warstwa.updateFeature(obiekt)  #Każdy obiekt odświeżamy!"
   ]
  },
  {
   "cell_type": "markdown",
   "id": "20f9f156",
   "metadata": {},
   "source": [
    "**Czas na zadanie, którego nie da się wykonać nieprogramistycznie!**\n",
    "\n",
    "Na początku dodajemy do QGIS plik \"siatka.shp\""
   ]
  },
  {
   "cell_type": "markdown",
   "id": "22abfc21",
   "metadata": {},
   "source": [
    "<img src='wyk5_img/8.png'/>"
   ]
  },
  {
   "cell_type": "markdown",
   "id": "a2bd593a",
   "metadata": {},
   "source": [
    "Warstwa to siatka agregacji zliczeń wystąpienia radzkiego gatunku ptaka na obszarze Szkocji. Celem jest obliczenie prawdopodobieństwa występowania tych ptaków w danej lokacji."
   ]
  },
  {
   "cell_type": "markdown",
   "id": "0f4c8b86",
   "metadata": {},
   "source": [
    "<img src='wyk5_img/9.png'/>"
   ]
  },
  {
   "cell_type": "markdown",
   "id": "0f3c7791",
   "metadata": {},
   "source": [
    "Warstwa składa się z pól:\n",
    "\n",
    "    id - identyfikator\n",
    "    xmin,xmax,ymin,ymax - współrzędne narożników\n",
    "    NUMPOINTS - liczba wystąpień ptaków\n",
    "    \n",
    "Prawodpodobieństwo wystąpienia to stosunek częstości wystąpienia ptaka w danym miejscu w stosunku do całkowitej populacji ptaków (czyli sumy zliczeń).\n",
    "\n",
    "<b>Uwaga: suma prawdopodobieństw powinna się równać jedności."
   ]
  },
  {
   "cell_type": "markdown",
   "id": "fc1f6bbc",
   "metadata": {},
   "source": [
    "Napiszmy skrypt, który w warstwie \\\"siatka.shp\\\" stworzy kolumnę o nazwie \\\"P\\\" typu Double, która będzie zawierała prawdopodobieństwo wystąpienia obecności obserwowanych gatunków ptaków."
   ]
  },
  {
   "cell_type": "markdown",
   "id": "70ee7a40",
   "metadata": {},
   "source": [
    "<img src='wyk5_img/10.png'/>"
   ]
  },
  {
   "cell_type": "markdown",
   "id": "21bd5cca",
   "metadata": {},
   "source": [
    "Teraz należy obliczyć prawdopodobieństwo. Wynik przedstawiam po posortowaniu wartości po kolumnie \"id\"."
   ]
  },
  {
   "cell_type": "markdown",
   "id": "d8a642c7",
   "metadata": {},
   "source": [
    "<img src='wyk5_img/11.png'/>"
   ]
  },
  {
   "cell_type": "markdown",
   "id": "12cdf966",
   "metadata": {},
   "source": [
    "Dodatkowo należy sprawdzić, czy wartości prawdodobieństwa równają się jedności. Wynik wyświetl do konsoli. Niestety ze względu na dokładność pola, wynik może wyjść nieznacznie różny od zera. Jest to akceptowalne."
   ]
  },
  {
   "cell_type": "markdown",
   "id": "2621238f",
   "metadata": {},
   "source": [
    "<img src='wyk5_img/12.png'/>"
   ]
  },
  {
   "cell_type": "markdown",
   "id": "89ff2c74",
   "metadata": {},
   "source": [
    "### Inny przykład - bez kalkulatora pól\n",
    "\n",
    "Tym razem nie będziemy już korzystać z kalkulatora. Wykonany kilka przykładów  innych operacji na danych przestrzennych za pomocą Pythona, by zdobyć pewne wartościowe informacje."
   ]
  },
  {
   "cell_type": "markdown",
   "id": "0f8ec86b",
   "metadata": {},
   "source": [
    "Warstwa \"Slady\" zawiera dane zgromadzone przy pomocy rejestratora GPS - pozycje odczytywane co 10 sekund. W danych zarejestrowana jest jedna wycieczka - częściowo samochodem, częściowo pieszo. Warstwa zawiera kolumny:\n",
    "\n",
    "    INDEX - indeks danych\n",
    "    \n",
    "    TIME - czas rejestracji\n",
    "    \n",
    "    HEIGHT - wysokość punktu n.p.m."
   ]
  },
  {
   "cell_type": "markdown",
   "id": "626dc761",
   "metadata": {},
   "source": [
    "<img src='wyk5_img/13.png'/>"
   ]
  },
  {
   "cell_type": "markdown",
   "id": "1daad5c6",
   "metadata": {},
   "source": [
    "**Przykładowe zadanie**\n",
    "    \n",
    "    1. Oblicz całkowity czas trwania wycieczki w sekundach\n",
    "    \n",
    "    2. Oblicz sumę przewyższeń zarejestrowanych w śladzie\n",
    "    \n",
    "    3. Oblicz ile czasu zajęłoby pokonanie całej trasy, gdyby poruszać się ze średnią prędkością 18km/h (wynik podaj w godzinach, minutach i sekundach gg:mm:ss)\n",
    "    "
   ]
  },
  {
   "cell_type": "markdown",
   "id": "5ae15a83",
   "metadata": {},
   "source": [
    "<b> Zadanie 1 </b>\n",
    "\n",
    "Do zadania 1 wykorzystamy pole \"TIME\", które jest polem tekstowym. Możemy je transformować na typ danej czasu lub dokonać operacji bezpośredno na tekście zrzutowanym na liczbę. Druga wersja nie wymaga wykorzystania bibliotek (pierwsze rozwiązanie jest lepsze i szybsze, ale zrobimy nr 2).\n",
    "\n",
    "Wybierzemy wartość najwyższą i najniżsżą a następnie obliczymy różnicę czasu.\n",
    "\n",
    "Na początku wybierzmy wszystkie dane za pomocą wyrażenia listowego. Wybieram tylko czas bo data jest ta sama:"
   ]
  },
  {
   "cell_type": "code",
   "execution_count": null,
   "id": "a46e8f75",
   "metadata": {},
   "outputs": [],
   "source": [
    "x = [feat['TIME'].split(' ')[1] for feat in warstwa.getFeatures()]"
   ]
  },
  {
   "cell_type": "markdown",
   "id": "b4d8be0a",
   "metadata": {},
   "source": [
    "Następnie sortujemy dane:"
   ]
  },
  {
   "cell_type": "code",
   "execution_count": null,
   "id": "1774aa40",
   "metadata": {},
   "outputs": [],
   "source": [
    "x = sorted(x) #polecam funkcję sorted"
   ]
  },
  {
   "cell_type": "markdown",
   "id": "e30bcb5b",
   "metadata": {},
   "source": [
    "Wybieramy pierwszy i ostatni zarejestrowany czas i rozbijamy go na godziny, minuty i sekundy (w tym momencie moglibyśmy też skorzystać z biblioteki datetime i wykorzystać typ zmiennej \"czas\" z innej bilbioteki Pythona)."
   ]
  },
  {
   "cell_type": "code",
   "execution_count": null,
   "id": "4a32cf81",
   "metadata": {},
   "outputs": [],
   "source": [
    "first_x = x[0].split(':')\n",
    "last_x = x[-1].split(':')"
   ]
  },
  {
   "cell_type": "markdown",
   "id": "778b7831",
   "metadata": {},
   "source": [
    "Zamieniamy dane z tekstowych na liczbowe. Można to zrobić wprost:"
   ]
  },
  {
   "cell_type": "code",
   "execution_count": null,
   "id": "af13b02e",
   "metadata": {},
   "outputs": [],
   "source": [
    "first_x = [int(x) for x in first_x]\n",
    "last_x = [int(x) for x in last_x]"
   ]
  },
  {
   "cell_type": "markdown",
   "id": "e35409e4",
   "metadata": {},
   "source": [
    "Lub bardzo przydatną funkcją wbudowaną Pythona (nie omawiałem jej wcześniej!) map()"
   ]
  },
  {
   "cell_type": "code",
   "execution_count": null,
   "id": "51b1d964",
   "metadata": {},
   "outputs": [],
   "source": [
    "first_x = map(int,first_x)\n",
    "last_x = map(int, last_x) #zwracają iteratory nie listy"
   ]
  },
  {
   "cell_type": "markdown",
   "id": "740ccd03",
   "metadata": {},
   "source": [
    "teraz musimy odjąć godziny, minuty i sekundy od siebie. Ja skorzystam z funkcji wbudowanej Pythona zip(). Sprawdźcie w dokumentacji jak działa:"
   ]
  },
  {
   "cell_type": "code",
   "execution_count": null,
   "id": "299bc3fa",
   "metadata": {},
   "outputs": [],
   "source": [
    "wyniki = []\n",
    "for x,y in zip(last_x,first_x):\n",
    "    wyniki.append(x-y)\n",
    "    \n",
    "#Wynik: [1, -1, 15]\n",
    "\n"
   ]
  },
  {
   "cell_type": "markdown",
   "id": "a9b19138",
   "metadata": {},
   "source": [
    "Jeszcze przeliczamy na sekundy:"
   ]
  },
  {
   "cell_type": "code",
   "execution_count": null,
   "id": "387bed04",
   "metadata": {},
   "outputs": [],
   "source": [
    "w_w_sekundach = 0\n",
    "mnoznik = [3600,60,1]\n",
    "for w,t in zip(wyniki,mnoznik):\n",
    "    w_w_sekundach += w*t\n",
    "    \n",
    "print(w_w_sekundach)\n",
    "\n",
    "#Wynik: 3555"
   ]
  }
 ],
 "metadata": {
  "kernelspec": {
   "display_name": "Python 3 (ipykernel)",
   "language": "python",
   "name": "python3"
  },
  "language_info": {
   "codemirror_mode": {
    "name": "ipython",
    "version": 3
   },
   "file_extension": ".py",
   "mimetype": "text/x-python",
   "name": "python",
   "nbconvert_exporter": "python",
   "pygments_lexer": "ipython3",
   "version": "3.9.12"
  }
 },
 "nbformat": 4,
 "nbformat_minor": 5
}
