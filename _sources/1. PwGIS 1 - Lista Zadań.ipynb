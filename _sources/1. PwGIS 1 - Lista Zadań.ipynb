{
 "cells": [
  {
   "cell_type": "markdown",
   "id": "983628fd",
   "metadata": {},
   "source": [
    "# Moduł 1 - Lista Zadań"
   ]
  },
  {
   "cell_type": "markdown",
   "id": "436f0880",
   "metadata": {},
   "source": [
    "1. Napisz funkcję, która oblicza pole powierzchni trójkąta, koła lub kwadratu w zalezności od podanych argumentów."
   ]
  },
  {
   "cell_type": "markdown",
   "id": "764ddbdc",
   "metadata": {},
   "source": [
    "2. Napisz funkcję, która dokonuje konwersji temperatur mięzy skalami Celsjusza, Kelwina i Fahrenheita. Niech funkcja przyjmuje dwa dodatkowe argumenty \"z\" i \"do\", których wartości to domyślnie \"C\" (Celsjusz) oraz \"F\" (Fahrenheit)."
   ]
  },
  {
   "cell_type": "markdown",
   "id": "916e714a",
   "metadata": {},
   "source": [
    "3. Napisz klasę \"Mecz\". Klasa ma mieć atrybuty: druzyna_domowa, druzyna_gosci, nazwa_stadionu, pogoda, wynik. \n",
    "\n",
    "* Atrybuty druzyna_domowa i druzyna_gosci są wymagane do utworzenia klasy.\n",
    "* Pozostałe są domyślnie puste.\n",
    "\n",
    "    Napisz metodę \"graj\", która losuje wynik (z liczb całkowitych) oraz pogodę (z predefiniowanej listy)"
   ]
  },
  {
   "cell_type": "markdown",
   "id": "f85b9925",
   "metadata": {},
   "source": [
    "4. Do klasy mecz dodaj enkapsulację atrybutów. Nie pozwól na zmianę wyniku. Wynik może być jedynie losowany."
   ]
  },
  {
   "cell_type": "markdown",
   "id": "d8f2f663",
   "metadata": {},
   "source": [
    "5. Do klasy Mecz dodaj funkcje magiczne __repr__ oraz __str__ które zwracają opis meczu. Sprawdź ich działanie."
   ]
  },
  {
   "cell_type": "markdown",
   "id": "9c655915",
   "metadata": {},
   "source": [
    "5. Napisz klasę \"Wektor\", która obsługuje zachowanie dwuwymiarowych wektorów. Przygotuj klasę, jej atrybuty oraz hermetyzację."
   ]
  },
  {
   "cell_type": "markdown",
   "id": "155b0ec5",
   "metadata": {},
   "source": [
    "6. Użyj magicznych metod do odpowiedniej obsługi dodawania i odejmowania wektorów w klasie Wektor. Sprawdź ich działanie."
   ]
  },
  {
   "cell_type": "markdown",
   "id": "fdb21b8d",
   "metadata": {},
   "source": [
    "7. Użyj magicznych metod do odpowiedniej obsługi mnożenia (przez skalar i przez wektor - zastosuj instrukcję warunkową by wymusić polimorficzność funkcji). Pamiętaj o enkapsulacji i dokumentacji."
   ]
  },
  {
   "cell_type": "markdown",
   "id": "0313f5d9",
   "metadata": {},
   "source": [
    "8. Napisz klasę KontoBankowe, które przechwouje 3 wybrane atrybuty oraz atrybut \"stan\". Zastosuj enkapsulację. Pozwól na zmianę atrybutu stan, ale w ten sposób, że podana wartość jest dodawana do stanu (nie podmienia wartości)."
   ]
  },
  {
   "cell_type": "markdown",
   "id": "1b946b6d",
   "metadata": {},
   "source": [
    "9. Napisz klasę KontoOszczednosciowe, która dziedziczy po klasie KontoBankowe. Dodaj metodę symuluj(), która przyjmuje dwa argumenty: miesiace oraz procent oraz symuluje przyrost oszczędności w określonym czasie z miesięczną kapitalizacją odsetek."
   ]
  },
  {
   "cell_type": "code",
   "execution_count": null,
   "id": "50de7973",
   "metadata": {},
   "outputs": [],
   "source": []
  }
 ],
 "metadata": {
  "kernelspec": {
   "display_name": "Python 3 (ipykernel)",
   "language": "python",
   "name": "python3"
  },
  "language_info": {
   "codemirror_mode": {
    "name": "ipython",
    "version": 3
   },
   "file_extension": ".py",
   "mimetype": "text/x-python",
   "name": "python",
   "nbconvert_exporter": "python",
   "pygments_lexer": "ipython3",
   "version": "3.9.12"
  }
 },
 "nbformat": 4,
 "nbformat_minor": 5
}
