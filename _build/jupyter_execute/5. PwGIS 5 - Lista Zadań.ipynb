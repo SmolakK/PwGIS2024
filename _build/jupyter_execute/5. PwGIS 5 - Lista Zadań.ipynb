{
 "cells": [
  {
   "cell_type": "markdown",
   "id": "92f5689a",
   "metadata": {},
   "source": [
    "# Moduł 5 - Lista Zadań\n",
    "\n",
    "Ćwiczenia odbywają się z wykorzystaniem warstw wykorzystywanych wcześniej oraz warstwy \"Slady\" dostępnej tutaj: "
   ]
  },
  {
   "cell_type": "markdown",
   "id": "526c98fe",
   "metadata": {},
   "source": [
    "1. Napisz funkcję, która stworzy kolumnę w warstwie `kraje świata` z powierzchnią danego kraju."
   ]
  },
  {
   "cell_type": "markdown",
   "id": "84d25c52",
   "metadata": {},
   "source": [
    "2. Napisz funkcję, która stworzy kolejną kolumnę w warstwe `kraje świata` w której będzie zawarty **procentowy udział** powierzchni tego kraju w powierzchni wszystkich lądów na świecie."
   ]
  },
  {
   "cell_type": "markdown",
   "id": "9e83f99d",
   "metadata": {},
   "source": [
    "3. Używając warstwy \"Slady\" z wykładu oblicz sumę przewyższeń zarejestrowanych w śladzie, czyli sumę przewyższeń w wycieczce.\n",
    "\n",
    "\n",
    "    Suma przewyższeń będzie wymagała od nas wykonania pewnego rodzaju \"kroczącej\" różnicy. Pole \"HEIGHT\" zawiera wysokości punktów, różnica pomiędzy dwoma następującymi po sobie punktami to właśnie przwyższenie. Za każdym razem więc należy obliczyć różnicę wysokości pomiędzy dwoma kolejnymi punktami."
   ]
  },
  {
   "cell_type": "markdown",
   "id": "0ee31709",
   "metadata": {},
   "source": [
    "4. Używając warstwy \"Slady\" oblicz ile czasu zajęłoby pokonanie całej trasy, gdyby poruszać się ze średnią prędkością 18km/h (wynik podaj w godzinach, minutach i sekundach gg:mm:ss)\n",
    "\n",
    "\n",
    "    Aby obliczyć czas, który zajmie pokonanie trasy wystarczy policzyć długość trasy i podzelić ją przez prędkość. Istnieje jednak kilka trudności związanych z policzeniem długości trasy. Normalnie gdyby dane znajdowały się w układzie metrycznym, moglibysmy skorzystać z prostej metody pozyskiwania współrzędnych z danych x oraz y. Dane jednak znajdują się w układzie kątowym. Przekształć je do układu metrycznego"
   ]
  },
  {
   "cell_type": "markdown",
   "id": "8afc7d4a",
   "metadata": {},
   "source": [
    "5. Używając warstwy \"Slady\" oblicz prędkość obiektu w konkretnych punktach i postaraj się określić w którym momencie nastąpiła zmiana środka lokomocji z samochodu na pieszy."
   ]
  }
 ],
 "metadata": {
  "kernelspec": {
   "display_name": "Python 3 (ipykernel)",
   "language": "python",
   "name": "python3"
  },
  "language_info": {
   "codemirror_mode": {
    "name": "ipython",
    "version": 3
   },
   "file_extension": ".py",
   "mimetype": "text/x-python",
   "name": "python",
   "nbconvert_exporter": "python",
   "pygments_lexer": "ipython3",
   "version": "3.9.12"
  }
 },
 "nbformat": 4,
 "nbformat_minor": 5
}