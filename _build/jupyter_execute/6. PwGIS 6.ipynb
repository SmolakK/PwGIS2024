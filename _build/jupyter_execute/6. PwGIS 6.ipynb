{
 "cells": [
  {
   "cell_type": "markdown",
   "id": "d327a36b",
   "metadata": {},
   "source": [
    "# Moduł 6 - Własna wtyczka do QGIS"
   ]
  },
  {
   "cell_type": "markdown",
   "id": "6935f9ff",
   "metadata": {},
   "source": [
    "Tematem dzisiejszego wykładu będzie pisanie własnych wtyczek do QGISa. To ostateczne zadanie tego semestru - kreacja własnej wtyczki. Oczywiście, cała wiedza dotycząca programowania w QGIS jest użyteczna w kontekście tworzenia wtyczki - funkcjonalności programuje się tak samo.\n",
    "\n",
    "W przypadku wtyczek dochodzi również kwestia związana z tworzeniem modułów Pythona oraz kreacją interfejsu graficznego. Zagadnienie to jest na tyle duże, że podzielimy je pomiędzy następne wykłady.\n",
    "\n",
    "Startujemy!"
   ]
  },
  {
   "cell_type": "markdown",
   "id": "4c7ad7a0",
   "metadata": {},
   "source": [
    "Od samego początku. Czym jest wtyczka?\n",
    "\n",
    "Wtyczka ma za zadanie rozszerzać funkcjonalność QGISa, udostępniać narzędzia w wygodny sposób z intefrejsem graficznym pozwalając na operowanie narzędziami. Wszystko w QGISie może zostać zmodyfikowane i nie ma ku temu żadnych przeszkód (możemy też modyfikować zachowanie samego QGISa). Wtyczki pisane są również przez społeczność QGISa i udostępniane w oficjalnym repozytorium  wtyczek dostępnym w oprogramowaniu:"
   ]
  },
  {
   "cell_type": "markdown",
   "id": "103cd6c0",
   "metadata": {},
   "source": [
    "<img src='wyk6_img/1.PNG' />"
   ]
  },
  {
   "cell_type": "markdown",
   "id": "22ad3a50",
   "metadata": {},
   "source": [
    "Nie każda, ale większość wtyczek ma interfejs graficzny w postaci otwieranego okienka (niektóre po prostu uruchamiają się z paska). Przykładowo, może to wyglądać tak:"
   ]
  },
  {
   "cell_type": "markdown",
   "id": "cb458492",
   "metadata": {},
   "source": [
    "<img src='wyk6_img/2.png' />"
   ]
  },
  {
   "cell_type": "markdown",
   "id": "9f8ac2bc",
   "metadata": {},
   "source": [
    "Cały interfejs oraz zachowania przycisków zostały wcześniej oprogramowane i są uruchamione \"pod spodem\" podczas pracy QGISa."
   ]
  },
  {
   "cell_type": "markdown",
   "id": "e0808d51",
   "metadata": {},
   "source": [
    "## Tworzymy własny plugin"
   ]
  },
  {
   "cell_type": "markdown",
   "id": "dcb5e52a",
   "metadata": {},
   "source": [
    "Na początek <b> gdzie przechowywać </b>?\n",
    "\n",
    "Pluginy przechowywane są w folderze wewnętrznym QGISa pod ścieżką (w Windows):\n",
    "\n",
    "    C:\\Users\\NAZWA_UZYTKOWNIKA\\AppData\\Roaming\\QGIS\\QGIS3\\profiles\\default\\python\\plugins\n",
    "    \n",
    "Gdzie za \"NAZWA_UZYTKOWNIKA\" wstawiamy własną nazwę uzytkownika.\n",
    "\n",
    "Tam każdy folder to jeden plugin. Dla swojego plugina też tworzymy taki folder:\n"
   ]
  },
  {
   "cell_type": "markdown",
   "id": "32e6e258",
   "metadata": {},
   "source": [
    "<img src='wyk6_img/3.png' />"
   ]
  },
  {
   "cell_type": "markdown",
   "id": "304c04ab",
   "metadata": {},
   "source": [
    "Przygotowanie pluginu do QGISa wymaga stworzenia:\n",
    "<ul>\n",
    "    <li>modułów - jak w bibliotece progamistycznej</li>\n",
    "    <li>interfejsu graficznego użytkownika</li>\n",
    "</ul>\n",
    "Struktura jest z góry ustalona. To wszystko znajdzie się w tym folderze\n"
   ]
  },
  {
   "cell_type": "markdown",
   "id": "448b3b23",
   "metadata": {},
   "source": [
    "Każdy plugin musi zawierać ustalone pliki w folderze żeby został wczytany. Są to elementy, jakie musi zawierać moduł Python, aby został przez interpreter odnaleziony, a wiec plik `__init__.py` oraz plik interfejsu oraz kodu wykonywalnego:\n",
    "<ul>\n",
    "    <li>`__init__.py` - inicjalizacyjny (nawet jeśli pusty)</li>\n",
    "    <li>form.py - z interfejsem graficznym</li>\n",
    "    <li>plik z kodem wykonywalnym</li>\n",
    "</ul>\n",
    "\n",
    "\n",
    "Powinien być też dołączony plik z metadanymi `metadata.txt`"
   ]
  },
  {
   "cell_type": "markdown",
   "id": "80f61984",
   "metadata": {},
   "source": [
    "1. Plik `__init__.py` możemy stworzyć ręcznie\n",
    "2. Plik form.py wygenerujemy z narzędzia do projektowania interfejsów graficznych\n",
    "3. Plik z kodem wykonywalnym <b> musimy napisać sami </b> do tego polecam korzystać z czegoś lepszego niż notatnika - może być Notepad++ (ma kolorowanie składni), ale najlepiej korzystać z IDE (nie Jupyter) np Spyder lub (osobiście polecam JetBrains PyCharm). Dalej będę korzystał z PyCharma, więc od razu pokażę jak go używać. Uwaga: Dla uproszczenia, kod wykonywalny umieścimy w pliku `__init__.py`"
   ]
  },
  {
   "cell_type": "markdown",
   "id": "e7edbe28",
   "metadata": {},
   "source": [
    "Spyder zainstalowany został już z Anacondą a <b> PyCharm </b> dostępny jest za darmo na stronie: https://www.jetbrains.com/pycharm/"
   ]
  },
  {
   "cell_type": "markdown",
   "id": "a7fc5738",
   "metadata": {},
   "source": [
    "Po otwarciu IDE (czy to Spyder czy PyCharm), należy rozpocząć tworzenie nowego projektu w folderze, który stworzliśmy dla naszej wtyczki. Odbywa się to po prostu za pomocą ikony folderu:"
   ]
  },
  {
   "cell_type": "markdown",
   "id": "bbd826b4",
   "metadata": {},
   "source": [
    "<img src='wyk6_img/4.png' />"
   ]
  },
  {
   "cell_type": "markdown",
   "id": "95076e63",
   "metadata": {},
   "source": [
    "Lub File -> Open w PyCharm:"
   ]
  },
  {
   "cell_type": "markdown",
   "id": "6c42b532",
   "metadata": {},
   "source": [
    "<img src='wyk6_img/5.png' />"
   ]
  },
  {
   "cell_type": "markdown",
   "id": "cf2ad156",
   "metadata": {},
   "source": [
    "Następnie tworzymy pusty plik `__init__.py` w naszej wtyczce. Dzięki temu narzędzie ładujące wtyczki, wie, że jest to wtyczka Pythona.\n",
    "\n",
    "Już prawie jesteśmy przygotowani do tworzenia pluginu. Jeszcze tylko jedna rzecz....\n",
    "\n",
    "Każda zmiana we wtyczce wymaga wyłączenia i włączenia QGISa na nowo. Żeby tego uniknąć, warto zainstalować sobie wtyczkę z repozytorium <b> Plugin Reloader </b>. Wystarczy wtedy kliknąć ikonę wtyczki by odświeżyć nasz kod"
   ]
  },
  {
   "cell_type": "markdown",
   "id": "5b024ee5",
   "metadata": {},
   "source": [
    "<img src='wyk6_img/6.png' />"
   ]
  },
  {
   "cell_type": "markdown",
   "id": "aef030d1",
   "metadata": {},
   "source": [
    "## Piszemy plugin!"
   ]
  },
  {
   "cell_type": "markdown",
   "id": "ecd30631",
   "metadata": {},
   "source": [
    "Zaczniemy od stworzenia potrzebnej struktury plików. Po pierwsze <b> skłamałem, bo </b> `__init.py__` nie może być pusty. Musi zawierać on definicję funkcji classFactory, która powoduje że plugin zostaje załadowany do QGIS. Jako atrybut przyjmuje QgisInterface (automatycznie taki parametr wysyła QGIS przy uruchomieniu), więc musimy funkcję na to przygotować. Funkcja zwrocić ma klasę - klasę, która jest naszą wtyczką. Kod ma wyglądać jak poniżej:"
   ]
  },
  {
   "cell_type": "code",
   "execution_count": 1,
   "id": "3bb13f0e",
   "metadata": {},
   "outputs": [],
   "source": [
    "def classFactory(iface):\n",
    "    return nazwaKlasyPluginu(iface)"
   ]
  },
  {
   "cell_type": "markdown",
   "id": "af81e70d",
   "metadata": {},
   "source": [
    "Zatem niech będzie:"
   ]
  },
  {
   "cell_type": "markdown",
   "id": "df2e5e6b",
   "metadata": {},
   "source": [
    "<img src='wyk6_img/7.png' />"
   ]
  },
  {
   "cell_type": "markdown",
   "id": "97a683db",
   "metadata": {},
   "source": [
    "Dygresja: <b> UWAGA: </b> wcięcia mają być 4 spacjami nie tabem, gdy mamy 4 spacje, QGIS po prostu nie czyta kodu. Ustawić to możemy w PyCharmie:"
   ]
  },
  {
   "cell_type": "markdown",
   "id": "27cad7b0",
   "metadata": {},
   "source": [
    "Moglibyśmy dokonać importu z kodu z innego pliku (wtedy funkcja classFactory wyglądała by inaczej!) i stworzyc osobny plik  z kodem wtyczki. Dla uproszczenia, wszystko będziemy pisać w jednym pliku `__init.py__`\n",
    "\n",
    "Gdybyśmy chcieli zrobić to w osobnym pliku to funkcja classFactory musiałaby wyglądać tak:\n",
    "\n",
    "    def classFactory(iface):\n",
    "    \n",
    "        from .plik_osobny import nazwaWtyczki\n",
    "        return nazwaWtyczki(iface)\n",
    "    \n",
    "Kontynuujemy w tym samym pliku. Nasza wtyczka jest klasą, która jak już ustaliliśmy nazywya się \"NaszPlugin\". Stwórzmy klasę i napiszmy też funkcję inicjalizującą"
   ]
  },
  {
   "cell_type": "markdown",
   "id": "984b5544",
   "metadata": {},
   "source": [
    "<img src='wyk6_img/8.png' />"
   ]
  },
  {
   "cell_type": "markdown",
   "id": "2a84f66a",
   "metadata": {},
   "source": [
    "Stworzyliśmy klasę o nazwie NaszPlugin, która ma funkcję inicjalizacji, która obowiązkowo (!) również ma przyjmować obiekt klasy QgisInterface. To warunek załadowania wtyczki. W classFactory zwracamy NaszPlugin(iface), czyli to jest instancjonowanie tej właśnie klasy."
   ]
  },
  {
   "cell_type": "code",
   "execution_count": 2,
   "id": "750cb9e4",
   "metadata": {},
   "outputs": [],
   "source": [
    "class NaszPlugin:\n",
    "    \"\"\"To klasa naszego pluginu\"\"\"\n",
    "    def __init__(self, iface):\n",
    "        \"\"\"\n",
    "        Inicjalizacja\n",
    "        :param iface: QgisInterface\n",
    "        :return:\n",
    "        \"\"\"\n",
    "        self.iface = iface\n"
   ]
  },
  {
   "cell_type": "markdown",
   "id": "c8950295",
   "metadata": {},
   "source": [
    "Do naszego pliku będziemy jeszcze wracać. Teraz zajmijmy się dwoma pozostałymi elementami czyli:\n",
    "\n",
    "    metadane\n",
    "    interfejs"
   ]
  },
  {
   "cell_type": "markdown",
   "id": "68401290",
   "metadata": {},
   "source": [
    "<b> Metadane </b> są obowiązkowe i bez nich wtyczka nie zostanie wczytana. Plik metadata.txt (taka nazwa jest obowiązkowa), musi znaleźć się w folderze z wtyczką. Zawierać ma informacje o wtyczce w ustalonych znacznikach. Wyglądać ma tak:"
   ]
  },
  {
   "cell_type": "markdown",
   "id": "1fb643d0",
   "metadata": {},
   "source": [
    "    [general]\n",
    "    name=NaszPlugin\n",
    "    description=opis\n",
    "    about=opis dlugi\n",
    "    version=1.0\n",
    "    qgisMinimumVersion=3.0\n",
    "    author=Ja\n",
    "    email=some@em.ail\n",
    "    repository=URL\n",
    "\n"
   ]
  },
  {
   "cell_type": "markdown",
   "id": "169084d7",
   "metadata": {},
   "source": [
    "Na samym dole możemy nieobowiązkowo dodać:\n",
    "\n",
    "        icon=icon.png\n",
    "        \n",
    "To nazwa pliku z ikoną, która zamieszczona jest w folderze wtyczki (Plik icon.png załączony do wykładu)."
   ]
  },
  {
   "cell_type": "markdown",
   "id": "c6f6f836",
   "metadata": {},
   "source": [
    "Wtyczka już powinna się wczytywać. Należy <b> na nowo </b> uruchomić teraz QGISa. Podczas uruchamiania pojawi się błąd - dlatego, że brakuje nam jeszcze kilku obowiązkowych funkcji. Niemniej jednak w repozytorium wtyczek plugin powinien być dostępny."
   ]
  },
  {
   "cell_type": "markdown",
   "id": "d37dd135",
   "metadata": {},
   "source": [
    "<img src='wyk6_img/9.png' />"
   ]
  },
  {
   "cell_type": "markdown",
   "id": "577d7348",
   "metadata": {},
   "source": [
    "Zaznaczmy ją i zamknijmy repozytorium. Wtyczka będzie już dostępna dla QGISa.\n",
    "\n",
    "Nadal brak nam jednak ważnych rzeczy - interfejsu i dwóch obowiązkowych funkcji w pliku `__init__`. Zacznijmy od interfejsu.\n",
    "\n",
    "Interfejs będziemy tworzyć w oprogramowaniu QtDesigner (zaznaczałem wcześniej że powinien się z QGISem zainstalować)."
   ]
  },
  {
   "cell_type": "markdown",
   "id": "2e3fb648",
   "metadata": {},
   "source": [
    "<img src='wyk6_img/10.png' />"
   ]
  },
  {
   "cell_type": "markdown",
   "id": "b892dc6a",
   "metadata": {},
   "source": [
    "Qtdesigner to dość intuicyjne narzędzie projektowania interfejsów. Po uruchomieniu pojawi nam się takie okno:"
   ]
  },
  {
   "cell_type": "markdown",
   "id": "9a8289f6",
   "metadata": {},
   "source": [
    "<img src='wyk6_img/11.png' />"
   ]
  },
  {
   "cell_type": "markdown",
   "id": "af9c44de",
   "metadata": {},
   "source": [
    "Możemy wybrać \"template\" z dwoma przyciskami na dole. Od razu dodane zostaną 3 elementy - okno główne oraz dwa przyciski."
   ]
  },
  {
   "cell_type": "markdown",
   "id": "de47d229",
   "metadata": {},
   "source": [
    "<img src='wyk6_img/12.png' />"
   ]
  },
  {
   "cell_type": "markdown",
   "id": "8dd1620c",
   "metadata": {},
   "source": [
    "Teraz omówmy podstawowe funkcjonalności QDesignera\n",
    "\n",
    "    -Tworzenie, otwieranie i zapisywanie interfejsu do formatu *.ui\n",
    "    -Panel widżetów - przeciąganie elementów\n",
    "    -Herarchia obiektów\n",
    "    -Parametry widżetów\n",
    "    -Nazewnictwo widżetów\n",
    "    \n",
    "    "
   ]
  },
  {
   "cell_type": "markdown",
   "id": "3fa3ea0f",
   "metadata": {},
   "source": [
    "Utworzony interfejs zapisujemy do pliku *.ui Najlepiej w folderze pluginu. Ja nazwałem go form.ui"
   ]
  },
  {
   "cell_type": "markdown",
   "id": "3460105b",
   "metadata": {},
   "source": [
    "<img src='wyk6_img/13.png' />"
   ]
  },
  {
   "cell_type": "markdown",
   "id": "4f88284c",
   "metadata": {},
   "source": [
    "Sam plik nie wystarczy, bo nie może być zrozumiany przez Pythona. Plik ui to tak naprawdę XML:"
   ]
  },
  {
   "cell_type": "markdown",
   "id": "99aff468",
   "metadata": {},
   "source": [
    "<img src='wyk6_img/14.png' />"
   ]
  },
  {
   "cell_type": "markdown",
   "id": "a445cc0e",
   "metadata": {},
   "source": [
    "Należy go konwertować do pliku *.py\n",
    "\n",
    "Niezbędne będzie środowisko PyQt5 (konwerter z Qt do Pythona), żeby je zainstalować uruchamiamy Anaconda Prompt i wpisujemy:\n",
    "\n",
    "    pip install pyqt5"
   ]
  },
  {
   "cell_type": "markdown",
   "id": "117737d6",
   "metadata": {},
   "source": [
    "Na pasku powinna pojawić sie informacja gdzie zainstalowano PyQt:"
   ]
  },
  {
   "cell_type": "markdown",
   "id": "57ba3da1",
   "metadata": {},
   "source": [
    "<img src='wyk6_img/15.png' />"
   ]
  },
  {
   "cell_type": "markdown",
   "id": "5ccad0f9",
   "metadata": {},
   "source": [
    "Tam będzie znajdować się plik pyuic5.exe, który nas interesuje. Zapamiętujemy ścieżkę do tego pliku.\n",
    "\n",
    "Teraz w folderze z wtyczką musimy otworzyć okno poleceń Windows PowerShell:\n",
    "\n",
    "shift + prawy przycisk myszy gdzies na folderze, przy odznaczonych wszystkich plikach:"
   ]
  },
  {
   "cell_type": "markdown",
   "id": "c6a24e0b",
   "metadata": {},
   "source": [
    "<img src='wyk6_img/16.png' />"
   ]
  },
  {
   "cell_type": "markdown",
   "id": "dbff37fe",
   "metadata": {},
   "source": [
    "Teraz musimy wywołać konwerter, czyli plik pyuic5.exe. Należy wpisać całą ścieżkę do pliku oraz podać dwa parametry plik wejściowy *.ui i wyjściowy *.py"
   ]
  },
  {
   "cell_type": "markdown",
   "id": "bdef78f6",
   "metadata": {},
   "source": [
    "<img src='wyk6_img/17.png' />"
   ]
  },
  {
   "cell_type": "markdown",
   "id": "01c926a6",
   "metadata": {},
   "source": [
    "U mnie to jest:\n",
    "\n",
    "C:\\users\\kamil\\appdata\\local\\programs\\python\\python37\\Scripts\\pyuic5.exe form.ui -o form.py"
   ]
  },
  {
   "cell_type": "markdown",
   "id": "7f04f9ab",
   "metadata": {},
   "source": [
    "Powstanie w folderze plik form.py, który będzie zawierać interfejs, który zaprojektowaliśmy w QtDesigner:"
   ]
  },
  {
   "cell_type": "markdown",
   "id": "70f9966e",
   "metadata": {},
   "source": [
    "<img src='wyk6_img/18.png' />"
   ]
  },
  {
   "cell_type": "markdown",
   "id": "b34d1060",
   "metadata": {},
   "source": [
    "<b> Za każdym razem gdy zmienimy coś w interfejsie, trzeba będzie ponownie wykonać konwersję! </b>"
   ]
  },
  {
   "cell_type": "markdown",
   "id": "03b5c494",
   "metadata": {},
   "source": [
    "Wpisywanie całej ścieżki na raz byłoby żmudne, więc dla ułatwienia możemy stworzyć sobie <b> batch file </b>, który będzie miał zapisną tę scieżkę.\n",
    "\n",
    "W folderze z pluginem tworzymy nowy plik \"konwert.bat\" i otwieramy go notatnikiem. W środku wpisujemy:\n",
    "\n",
    "@sciezka_do_pliku_exe %1 %2 %3 %4 %5 %6 %7 %8 %9\n",
    "\n",
    "U mnie to jest:\n",
    "\n",
    "@C:\\users\\kamil\\appdata\\local\\programs\\python\\python37\\Scripts\\pyuic5.exe %1 %2 %3 %4 %5 %6 %7 %8 %9\n",
    "\n",
    "Teraz zamiast wywoływać w PowerShell całą scieżkę piszę:\n",
    "\n",
    "./konwert form.ui -o form.py\n",
    "\n",
    "(kropka i ukośnik są ważne!)\n"
   ]
  },
  {
   "cell_type": "markdown",
   "id": "a5699272",
   "metadata": {},
   "source": [
    "## Interfejs gotowy!\n",
    "\n",
    "Wtyczka jeszcze nie zadziała. Brakuje nam dwóch ważnych funkcji w pliku głównym - initGui() oraz unload()\n",
    "\n",
    "initGui() odpowiada za to co dzieje się po uruchomieniu pluginu.\n",
    "\n",
    "unload() za to co dzieje się po jego zamknięciu."
   ]
  },
  {
   "cell_type": "markdown",
   "id": "91a214a5",
   "metadata": {},
   "source": [
    "Gdy dodamy te funkcje, nawet jako puste, przy ponownym uruchomieniu QGISa nie pojawi się nam już błąd"
   ]
  },
  {
   "cell_type": "code",
   "execution_count": 3,
   "id": "8fdf3c56",
   "metadata": {},
   "outputs": [],
   "source": [
    "    def initGui(self):\n",
    "        pass\n",
    "\n",
    "    def unload(self):\n",
    "        pass"
   ]
  },
  {
   "cell_type": "markdown",
   "id": "0b349a5e",
   "metadata": {},
   "source": [
    "Nie możemy jej jednak uruchomić, bo QGIS nie wie, gdzie ma się znaleźć ikonka do jej uruchamiania. Oprogramowujemy to w funkcji initGui().\n",
    "Zacznijmy od importu funkcjonalności PyQT na samej górze pliku:"
   ]
  },
  {
   "cell_type": "code",
   "execution_count": 4,
   "id": "383cbde2",
   "metadata": {},
   "outputs": [
    {
     "ename": "ModuleNotFoundError",
     "evalue": "No module named 'qgis'",
     "output_type": "error",
     "traceback": [
      "\u001b[1;31m---------------------------------------------------------------------------\u001b[0m",
      "\u001b[1;31mModuleNotFoundError\u001b[0m                       Traceback (most recent call last)",
      "Input \u001b[1;32mIn [4]\u001b[0m, in \u001b[0;36m<cell line: 1>\u001b[1;34m()\u001b[0m\n\u001b[1;32m----> 1\u001b[0m \u001b[38;5;28;01mfrom\u001b[39;00m \u001b[38;5;21;01mqgis\u001b[39;00m\u001b[38;5;21;01m.\u001b[39;00m\u001b[38;5;21;01mPyQt\u001b[39;00m\u001b[38;5;21;01m.\u001b[39;00m\u001b[38;5;21;01mQtGui\u001b[39;00m \u001b[38;5;28;01mimport\u001b[39;00m \u001b[38;5;241m*\u001b[39m\n\u001b[0;32m      2\u001b[0m \u001b[38;5;28;01mfrom\u001b[39;00m \u001b[38;5;21;01mqgis\u001b[39;00m\u001b[38;5;21;01m.\u001b[39;00m\u001b[38;5;21;01mPyQt\u001b[39;00m\u001b[38;5;21;01m.\u001b[39;00m\u001b[38;5;21;01mQtWidgets\u001b[39;00m \u001b[38;5;28;01mimport\u001b[39;00m \u001b[38;5;241m*\u001b[39m\n",
      "\u001b[1;31mModuleNotFoundError\u001b[0m: No module named 'qgis'"
     ]
    }
   ],
   "source": [
    "from qgis.PyQt.QtGui import *\n",
    "from qgis.PyQt.QtWidgets import *"
   ]
  },
  {
   "cell_type": "markdown",
   "id": "46f02dfa",
   "metadata": {},
   "source": [
    "W initGui oprogramowujemy to gdzie i jak w QGIS ma zostać osadzona wtyczka.\n",
    "\n",
    "Zaczynamy od stworzenia \"akcji\" czyli przycisku uruchomienia. To obiekt klasy QAction z biblioteki Qt. Wygląda on następująco:\n",
    "\n",
    "    QAction(ikona,nazwa,lokalizacja)\n",
    "\n",
    "Ikonę należy ująć w inny obiekt Qt - QIcon, którego syntax to:\n",
    "\n",
    "    QIcon(sciezka_do_pliku)\n",
    "\n",
    "Całość zatem to (z moją ścieżką do ikony):\n",
    "\n",
    "    QAction(QIcon(\"\"\"C:\\\\Users\\\\kamil\\\\AppData\\\\Roaming\\\\QGIS\\\\QGIS3\\\\profiles\\\\default\\\\python\\\\plugins\\\\plugin\\\\icon.png\"\"\"),\"NaszPlugin\",self.iface.mainWindow())\n",
    "\n",
    "Tworzymy dla niej atrybut klasy:\n"
   ]
  },
  {
   "cell_type": "code",
   "execution_count": null,
   "id": "fb8d3bb4",
   "metadata": {},
   "outputs": [],
   "source": [
    "self.action = QAction(QIcon(\"\"\"C:\\\\Users\\\\kamil\\\\AppData\\\\Roaming\\\\QGIS\\\\QGIS3\\\\profiles\\\\default\\\\python\\\\plugins\\\\plugin\\\\icon.png\"\"\"),\"NaszPlugin\",self.iface.mainWindow())\n"
   ]
  },
  {
   "cell_type": "markdown",
   "id": "096888ec",
   "metadata": {},
   "source": [
    "Następne polecenie informuje gdzie go umieścić, jest metodą interfejsu (który już przypisaliśmy wtyczce w funkcji inicjalizującej __init__:"
   ]
  },
  {
   "cell_type": "code",
   "execution_count": null,
   "id": "48b7e06d",
   "metadata": {},
   "outputs": [],
   "source": [
    "self.iface.addToolBarIcon(self.action) #ta funkcja dodaje na głównym pasku"
   ]
  },
  {
   "cell_type": "markdown",
   "id": "b0f19813",
   "metadata": {},
   "source": [
    "I ostatnie - co ma się stać jak klikniemy? Oczywiście uruchomić okno. Można to oprogramować w initGui, ale stwórzmy osobną funkcję na funkcjonalności własne wtyczki. \n",
    "\n",
    "Odwoływanie się do innych funkcji jest dość nietypowe. Aby uruchomić inną funkcję należy wpisać:\n",
    "\n",
    "    nazwa_obiektu_uruchamiającego.na_co_reagowac(nazwa_sygnalu).connect(nazwa_fukcji_uruchamianej)\n",
    "\n",
    "W tym przypadku:\n",
    "\n",
    "    self.action.triggered.connect(self.run)\n",
    "    \n",
    "Czyli self.action po byciu klikniętym (triggered) uruchamia funkcję run. Tę funkcję oczywiście należy dopisać na dole pliku.\n",
    "\n",
    "Razem initGui wygląda tak:"
   ]
  },
  {
   "cell_type": "code",
   "execution_count": null,
   "id": "9e951b15",
   "metadata": {},
   "outputs": [],
   "source": [
    "    def initGui(self):\n",
    "        self.action = QAction(QIcon(\"\"\"C:\\\\Users\\\\kamil\\\\AppData\\\\Roaming\\\\QGIS\\\\QGIS3\\\\profiles\\\\default\\\\python\\\\plugins\\\\plugin\\\\icon.png\"\"\"),\"NaszPlugin\",self.iface.mainWindow())\n",
    "        self.iface.addToolBarIcon(self.action)\n",
    "        self.action.triggered.connect(self.run)"
   ]
  },
  {
   "cell_type": "markdown",
   "id": "24f3be85",
   "metadata": {},
   "source": [
    "Zanim zaczniemy testować wtyczkę, należy oprogramować zamykanie wtyczki. W przeciwnym wypadku każde odświeżenie wtyczki spowoduje stworzenie nowej wtyczki (a więc dodanie nowej ikony na pasku) i tak w nieskończoność. Tworzmy funkcję unload() i przeciwnie do tego co zrobiliśmy w initGui teraz każemy usunąć ją z paska i usunąć akcję z pamięci QGISa:"
   ]
  },
  {
   "cell_type": "code",
   "execution_count": null,
   "id": "d2f23693",
   "metadata": {},
   "outputs": [],
   "source": [
    "    def unload(self):\n",
    "        self.iface.removeToolBarIcon(self.action)\n",
    "        del self.action"
   ]
  },
  {
   "cell_type": "markdown",
   "id": "2195e893",
   "metadata": {},
   "source": [
    "na dole dodajemy pustą funkcję run:"
   ]
  },
  {
   "cell_type": "code",
   "execution_count": null,
   "id": "8a6ff434",
   "metadata": {},
   "outputs": [],
   "source": [
    "    def run(self):\n",
    "        pass"
   ]
  },
  {
   "cell_type": "markdown",
   "id": "7c71340e",
   "metadata": {},
   "source": [
    "Teraz możemy uruchomić QGISa. Wtyczka powinna być dostępna na pasku:"
   ]
  },
  {
   "cell_type": "markdown",
   "id": "c91f0691",
   "metadata": {},
   "source": [
    "<img src='wyk6_img/20.png' />"
   ]
  },
  {
   "cell_type": "markdown",
   "id": "90f5468b",
   "metadata": {},
   "source": [
    "Po jej wciśnięciu nic się nie dzieje. To dlatego że nie oprogramowaliśmy uruchamiania interfejsu. Na początku musimy z naszego pliku form.py zaimportować stworozny interfejs (to jest klasa). Ja nazwałem główne okno \"Okno\" więc w pliku form.py mam klasę Ui_Okno.\n",
    "\n",
    "Importuję poprzez:"
   ]
  },
  {
   "cell_type": "code",
   "execution_count": null,
   "id": "5a4f65a2",
   "metadata": {},
   "outputs": [],
   "source": [
    "from .form import Ui_Okno"
   ]
  },
  {
   "cell_type": "markdown",
   "id": "5459a901",
   "metadata": {},
   "source": [
    "W run() oprogramowujemu uruchamianie okna po kliknięciu na wtyczkę:"
   ]
  },
  {
   "cell_type": "code",
   "execution_count": 29,
   "id": "c39d6a24",
   "metadata": {},
   "outputs": [],
   "source": [
    "    def run(self):\n",
    "        self.window = QDialog() #przygotowuje pustą klasę QDialog\n",
    "        self.form = Ui_Okno() #do self.form instancjonuje klasę Ui_Okno()\n",
    "        self.form.setupUi(self.window) #uruchamiamy metodę setupUi (z form.py) i jako argument podajemy nasz przygotowany obiekt QDialog\n",
    "        self.window.show() #pokazujemy okno"
   ]
  },
  {
   "cell_type": "markdown",
   "id": "6addd5f8",
   "metadata": {},
   "source": [
    "Odświeżamy wtyczkę i działa!"
   ]
  },
  {
   "cell_type": "markdown",
   "id": "1bae4c14",
   "metadata": {},
   "source": [
    "<img src='wyk6_img/21.png' />"
   ]
  },
  {
   "cell_type": "markdown",
   "id": "c2406899",
   "metadata": {},
   "source": [
    "Cały plik:"
   ]
  },
  {
   "cell_type": "code",
   "execution_count": null,
   "id": "af561160",
   "metadata": {},
   "outputs": [],
   "source": [
    "from qgis.PyQt.QtGui import *\n",
    "from qgis.PyQt.QtWidgets import *\n",
    "from .form import Ui_Okno\n",
    "\n",
    "def classFactory(iface):\n",
    "    return NaszPlugin(iface)\n",
    "\n",
    "\n",
    "class NaszPlugin:\n",
    "    \"\"\"To klasa naszego pluginu\"\"\"\n",
    "    def __init__(self, iface):\n",
    "        \"\"\"\n",
    "        Inicjalizacja\n",
    "        :param iface: QgisInterface\n",
    "        :return:\n",
    "        \"\"\"\n",
    "        self.iface = iface\n",
    "\n",
    "    def initGui(self):\n",
    "        \"\"\"Inicjalizacja ikony i uruchomienia\"\"\"\n",
    "        self.action = QAction(QIcon(\"\"\"C:\\\\Users\\\\kamil\\\\AppData\\\\Roaming\\\\QGIS\\\\QGIS3\\\\profiles\\\\default\\\\python\\\\plugins\\\\plugin\\\\icon.png\"\"\"),\"NaszPlugin\",self.iface.mainWindow())\n",
    "        self.iface.addToolBarIcon(self.action)\n",
    "        self.action.triggered.connect(self.run)\n",
    "\n",
    "    def unload(self):\n",
    "        \"\"\"Usuwanie wtyczki po zamknięciu\"\"\"\n",
    "        self.iface.removeToolBarIcon(self.action)\n",
    "        del self.action\n",
    "\n",
    "    def run(self):\n",
    "        \"\"\"Uruchamianie wtyczki, główny moduł\"\"\"\n",
    "        self.window = QDialog()\n",
    "        self.form = Ui_Okno()\n",
    "        self.form.setupUi(self.window)\n",
    "        self.window.show()\n"
   ]
  },
  {
   "cell_type": "markdown",
   "id": "37e226bc",
   "metadata": {},
   "source": [
    "## Od teraz można już kodować wtyczkę!"
   ]
  }
 ],
 "metadata": {
  "kernelspec": {
   "display_name": "Python 3 (ipykernel)",
   "language": "python",
   "name": "python3"
  },
  "language_info": {
   "codemirror_mode": {
    "name": "ipython",
    "version": 3
   },
   "file_extension": ".py",
   "mimetype": "text/x-python",
   "name": "python",
   "nbconvert_exporter": "python",
   "pygments_lexer": "ipython3",
   "version": "3.9.12"
  }
 },
 "nbformat": 4,
 "nbformat_minor": 5
}