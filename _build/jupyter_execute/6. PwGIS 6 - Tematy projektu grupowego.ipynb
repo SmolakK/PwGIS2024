{
 "cells": [
  {
   "cell_type": "markdown",
   "id": "92f5689a",
   "metadata": {},
   "source": [
    "# Moduł 6 - Tematy projektu grupowego\n",
    " \n",
    " \n",
    " Zasady:\n",
    "\n",
    "    Projekt realizujemy w grupach (2 razy 3 osoby, jedna para);\n",
    "    Projekt ma być przesłany przed 24.06, na ostatnich ćwiczeniach będzie czas na poprawki;\n",
    "    \n",
    "    Wtyczka ma realizować jeden z podanych tematów, w komentarzu ogólnym na classroom proszę podać temat (np. 1b) i osoby, które dany temat wybrały do realizacji. Tematy nie mogą się powtarzać;\n",
    "    \n",
    "    Istnieje dowolność zaproponowania własnego tematu, który należy najpierw ze mną skonsultować (można na Google Classroom, można na maila);\n",
    "    \n",
    "    Wtyczkę należy przesłać jako cały folder, który zostanie zinterpretowany jako wtyczka do QGISa.\n",
    "    \n",
    "Poza wymaganiem realizacji tematu wtyczki, każda wtyczka musi implementować poniższe minimalne wymagania:\n",
    "    \n",
    "    Wtyczka musi być zaprojektowana w QtDesigner;\n",
    "    \n",
    "    Wtyczka musi być wybieralna z menu QGISa, może być jako ikona na pasku lub z rozwijalnego menu;\n",
    "    \n",
    "    W każdej wtyczce należy umieścić przynajmniej trzy różne widżety, które mają oprogramowaną funkcjonalność na zasadzie interakcji z użytkownikiem (zatem nie liczą się wszelkiego rodzaju widżety organizujące układ przycisków itp.);\n",
    "    \n",
    "    Należy oprogramować przynajmniej dwie interakcje pomiędzy widżetami - na przykład przenoszenie ścieżki pliku do linii edycji lub blokowanie przycisku, gdy na przykład nie wczytano jeszcze danych;\n",
    "    \n",
    "    Należy zaprogramować pojawianie się wiadomości na pasku lub w oknie, która przedstawia jakąś informację związaną z procesem (na przykład \"zakończono pomyślnie!\") - o programowaniu takich wiadomości jeszcze powiem.\n"
   ]
  },
  {
   "cell_type": "markdown",
   "id": "1561248a",
   "metadata": {},
   "source": [
    "<h3> Tematy do wyboru </h3>\n",
    "\n",
    "Poniżej znajduje się kilka tematów do wyboru, należy wybrać jeden.\n",
    "\n",
    "    1. Narzędzie służące do rysowania kół lub pierścieni w oparciu o:\n",
    "    \n",
    "        1a. Podane w oknie parametry (środek, promień, grubość).\n",
    "        \n",
    "        1b. Podane parametry, z których część (jak np. współrzędne środka) będą wprowadzane poprzez kliknięcie użytkownika na mapę [funkcjonalność wyboru obiektów na mapie w czasie działania wtyczki zostanie jeszcze przedstawiona]\n",
    "        \n",
    "    2. Narzędzie do rysowania krzywych na podstawie trzech wybranych punktów.\n",
    "    \n",
    "    3. Narzędzie pozwalające na wygodną zmianę koloru zaznaczenia obiektów oraz koloru tła (z wykorzystaniem widżetu QColorDialog Class).\n",
    "    \n",
    "    4. Narzędzie pozwalające na transformację i załadowanie do QGISa wybranych obiektów na warstwie wektorowej do układu wprowadzonego przez użytkownika w formie kodu EPSG. Opcjonalnie można umożliwić również otwarcie okna do wyboru układu współrzędnych.\n",
    "    \n",
    "    5. Narzędzie służące do obliczenia statystyk zaznaczonych obiektów dla jednego WYBRANEGO typu warstwy:\n",
    "    \n",
    "        5a. Dla wieloboków: Sumarycznego pola powierzchni, średniego pola powierzchni oraz odchylenia standardowego w wybranej z listy rozwijalnej jednostce powierzchni.\n",
    "        \n",
    "        5b. Dla linii: sumarycznej długości, średnej długości i odchylenia standradowego długości w wybranej z listy rozwijalnej jednostce długości.\n",
    "    \n",
    "    6. Narzędzie do generowania losowych geometrii gdzie użytkownik może podać - zakres współrzędnych w których można generować, liczbę obiektów do wygenerowania oraz:\n",
    "    \n",
    "        6a. Opcja 1: narzędzie ma generować punkty, wtedy tylko dwa powyższe parametry;\n",
    "        \n",
    "        6b. Opcja 2: narzędzie ma generować linie, wtedy minimalnie jeden dodatkowy parametr - np. liczba wierzchołków linii lub jej długość\n",
    "        \n",
    "        6c. Opcja 3: narzędzie ma generować wieloboki, wtedy minimalnie jeden dodatkowy parametr - np. liczba wierzchołków lub pole powierzchni"
   ]
  },
  {
   "cell_type": "code",
   "execution_count": null,
   "id": "f52318b0",
   "metadata": {},
   "outputs": [],
   "source": []
  }
 ],
 "metadata": {
  "kernelspec": {
   "display_name": "Python 3 (ipykernel)",
   "language": "python",
   "name": "python3"
  },
  "language_info": {
   "codemirror_mode": {
    "name": "ipython",
    "version": 3
   },
   "file_extension": ".py",
   "mimetype": "text/x-python",
   "name": "python",
   "nbconvert_exporter": "python",
   "pygments_lexer": "ipython3",
   "version": "3.9.12"
  }
 },
 "nbformat": 4,
 "nbformat_minor": 5
}