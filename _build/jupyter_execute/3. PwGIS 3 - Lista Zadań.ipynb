{
 "cells": [
  {
   "cell_type": "markdown",
   "id": "92f5689a",
   "metadata": {},
   "source": [
    "# Moduł 3 - Lista Zadań\n",
    "\n",
    "Ćwiczenia odbywają się z wykorzystaniem warstw shp \n",
    "\n",
    "Raster powierzchni Ziemi: https://www.naturalearthdata.com/http//www.naturalearthdata.com/download/50m/raster/NE1_50M_SR_W.zip\n",
    "\n",
    "Kraje świata: https://public.opendatasoft.com/api/explore/v2.1/catalog/datasets/world-administrative-boundaries/exports/shp?lang=en&timezone=Europe%2FBerlin"
   ]
  },
  {
   "cell_type": "markdown",
   "id": "526c98fe",
   "metadata": {},
   "source": [
    "1. Napisz funkcję, która odczytuje z rastra jego metadane: wysokosc, szerokosc, liczba kanalow, rozdzielczosc przestrzenna, uklad odniesienia oraz wartosc maksymalna i minimalna pikseli w każdym z kanałów. Następnie funkcja ta zapisuje plik z metadanymi *.txt, gdzie * to nazwa rastra."
   ]
  },
  {
   "cell_type": "markdown",
   "id": "84d25c52",
   "metadata": {},
   "source": [
    "2. Wczytaj warstwę wektorową krajów świata. Napisz funkcję, która wyszukuje wszystkie kraje kończące się i zaczynającą na podaną literę oraz zaznacza je w kolorze wybranym przez użytkownika."
   ]
  },
  {
   "cell_type": "markdown",
   "id": "9e83f99d",
   "metadata": {},
   "source": [
    "3. Napisz funkcję, która dla zaznaczonej warstwy wybiera 20 pierwszych obiektów i zmienia ich geometrię, przesuwając je o podaną wartość współrzędnych X oraz Y. Policz sumaryczną powierzchnię wszystkich przesuniętych obiektów.\n",
    "\n",
    "Podpowiedź:\n",
    "\n",
    "Współrzędne danego obiektu mogą być pobrana jako lista. Typ geometri MULTIPOLYGON składa się z kilku list. Pierwszy poziom opisuje różne wieloboki w warstwie, drugi wieloboki oraz otwory. Aby dostać się do geometrii pierwszego (tylko ten będziemy modyfikować) wieloboku należy odwołać się poprzez podwójne indeksowanie do listy:\n",
    "\n",
    "    old_geom = [pt for pt in geom.asMultiPolygon()][0][0]\n",
    "\n",
    "Należy stworzyć sobie nową listę z geometrią do zapisania:\n",
    "\n",
    "    new_geom = []\n",
    "\n",
    "Do każdej współrzędnej w starej geometri dodać wektor przemieszczenia:\n",
    "\n",
    "    for pt in old_geom:\n",
    "        new_pt = pt+QgsVector(x,y)\n",
    "        new_geom.append(new_pt)"
   ]
  },
  {
   "cell_type": "markdown",
   "id": "0ee31709",
   "metadata": {},
   "source": [
    "4. Znajdź sposób na stworzenie nowej warstwy w QGIS. Napisz funkcję, która tworzy nową warstwę punktową z polami atrybutów podanych przez użytkownika w funkcji."
   ]
  },
  {
   "cell_type": "markdown",
   "id": "8dc4d1c9",
   "metadata": {},
   "source": [
    "5. Napisz funkcję, która w trybie edycji doda punkty o podanych współprzędnych do warstwy utworzonej w zadaniu 4."
   ]
  },
  {
   "cell_type": "code",
   "execution_count": null,
   "id": "516949de",
   "metadata": {},
   "outputs": [],
   "source": []
  }
 ],
 "metadata": {
  "kernelspec": {
   "display_name": "Python 3 (ipykernel)",
   "language": "python",
   "name": "python3"
  },
  "language_info": {
   "codemirror_mode": {
    "name": "ipython",
    "version": 3
   },
   "file_extension": ".py",
   "mimetype": "text/x-python",
   "name": "python",
   "nbconvert_exporter": "python",
   "pygments_lexer": "ipython3",
   "version": "3.9.12"
  }
 },
 "nbformat": 4,
 "nbformat_minor": 5
}