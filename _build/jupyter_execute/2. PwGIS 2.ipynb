{
 "cells": [
  {
   "cell_type": "markdown",
   "id": "f505eb78",
   "metadata": {},
   "source": [
    "# Moduł 2 - QGIS Wprowadzenie"
   ]
  },
  {
   "cell_type": "markdown",
   "id": "84b27a01",
   "metadata": {},
   "source": [
    "## Co to jest QGIS?\n",
    "\n",
    "W ramach dzisiejszego wykładu zapoznamy się z głównym i najważniejszym elementem naszego przedmiotu Programowanie w <b>GIS</b>. Jako, że programowanie już było, czas na dodanie do niego GISu.\n",
    "\n",
    "Programować będziemy w oprogramowaniu QGIS3 (dostępne na: https://www.qgis.org/pl/site/)\n",
    "\n",
    "QGIS to środowisko Open Source systemu informacji przestrzennej, które dzięki swojej otwartości jest całkowicie modyfikowalne - i to w Pythonie."
   ]
  },
  {
   "cell_type": "markdown",
   "id": "a5fd3ced",
   "metadata": {},
   "source": [
    "Należy pobrać odpowiednią dla naszego systemu wersję (32-bit lub 64-bit) i zainstalować zgodnie z poleceniami instalatora. Należy upewnić się, że mamy zainstalowane oba narzędzia z poniższego obrazka."
   ]
  },
  {
   "cell_type": "markdown",
   "id": "025acffd",
   "metadata": {},
   "source": [
    "<img src=\"QGISy.png\"/>"
   ]
  },
  {
   "cell_type": "markdown",
   "id": "bfe6502b",
   "metadata": {},
   "source": [
    "Możemy sprawdzić czy QGIS działa:"
   ]
  },
  {
   "cell_type": "markdown",
   "id": "b24d2f95",
   "metadata": {},
   "source": [
    "<img src='qgis.png'/>"
   ]
  },
  {
   "cell_type": "markdown",
   "id": "f10ea46d",
   "metadata": {},
   "source": [
    "## Przykładowe zastosowania Pythona w  QGIS"
   ]
  },
  {
   "cell_type": "markdown",
   "id": "6b8b9575",
   "metadata": {},
   "source": [
    "Python wprowadzony został w QGIS już w wersji 0.9 (obecnie mamy 3.36 - od 3 obsługuje Python 3).\n",
    " \n",
    "QGIS udostępnia szereg narzędzi przestrzennych, które możemy wykorzystać wedle własnego uznania by rozwiązywać nasze problemy.\n",
    "\n",
    "<b>Przykładowo:</b> możemy wykorzystać metody analiz przestrzennych - przecięcie, wybieranie atrybutów przez lokalizację łącznie z innymi bilbiotekami Pythona, aby stworzyć własny model klasyfikacji zdjęć lotniczych. Praca ta będzie o wiele łatwiejsza ze względu na georeferencję, którą QGIS ułatwia.\n",
    "\n",
    "<b> Inny przykład: </b> możemy wykorzystać QGISa i jego możliwości wizualizacji do stworzenia narzędzia do symulacji funkcjonowania miast - ładować dane, obliczać przepływy ludności, tworzyć mapy według własnej wizji.\n",
    "\n",
    "Programowanie umożliwia rozwinięcie możliwości QGISa do zadań, które z obecnie dostępnymi narzędziami nie byłyby możliwe lub byłyby bardzo żmudne.\n"
   ]
  },
  {
   "cell_type": "markdown",
   "id": "151d843e",
   "metadata": {},
   "source": [
    "## Programowanie w QGIS"
   ]
  },
  {
   "cell_type": "markdown",
   "id": "4337f235",
   "metadata": {},
   "source": [
    "QGIS umożliwia programowanie na 3 sposoby:\n",
    "\n",
    "<ol>\n",
    "    <li>Skryptowanie w konsoli</li>\n",
    "    <li>Tworzenie pluginów</li>\n",
    "    <li>Tworzenie własnych aplikacji z wykorzystaniem komponentów QGISa</li>\n",
    "</ol>"
   ]
  },
  {
   "cell_type": "markdown",
   "id": "d749b1de",
   "metadata": {},
   "source": [
    "### Konsola\n",
    "\n",
    "Umożliwia pisanie skryptów (nie funkcjonalnych wtyczek, których zachowanie możemy dowolnie modyfikować) wewnątrz QGISa. Możemy pracować na obecnie załadowanych danych lub oprogramować ładowanie i szybkie przetwarzanie danych (przydatne gdy mamy do przetworzenia wiele danych, przykładowo przycięcie 1000 warstw do pewnego obszaru).\n",
    "\n",
    "W otwartej konsoli możemy pisać dowolny kod Pythona jak również mieć dostęp do specjalnych funkcji QGISa"
   ]
  },
  {
   "cell_type": "markdown",
   "id": "7251b8da",
   "metadata": {},
   "source": [
    "<img src='console.png'/>"
   ]
  },
  {
   "cell_type": "markdown",
   "id": "582ba408",
   "metadata": {},
   "source": [
    "Możliwe jest pisanie kodu i wywoływanie zmiennych w oknie tymaczasowym lub pisanie pełnych skryptów, które możemy uruchamiać wielokrotnie."
   ]
  },
  {
   "cell_type": "markdown",
   "id": "aa8d773a",
   "metadata": {},
   "source": [
    "<img src='console2.png'/>"
   ]
  },
  {
   "cell_type": "markdown",
   "id": "76ab1b37",
   "metadata": {},
   "source": [
    "### Pluginy\n",
    "\n",
    "Pluginy służą do rozszerzania funkcjonalności QGIS, tworzenia nowych narzędzi. Takie narzędzia są właśnie tworzone i udostępniane przez społeczność QGIS za pomocą repozytorium wtyczek (odpowiednik Toolbox w ArcGIS)."
   ]
  },
  {
   "cell_type": "markdown",
   "id": "2c26436d",
   "metadata": {},
   "source": [
    "<img src='wtyczki.png'/>"
   ]
  },
  {
   "cell_type": "markdown",
   "id": "b5578afa",
   "metadata": {},
   "source": [
    "Przygotowanie pluginu do QGISa wymaga stworzenia:\n",
    "<ul>\n",
    "    <li>modułów - jak w bibliotece progamistycznej</li>\n",
    "    <li>interfejsu graficznego użytkownika</li>\n",
    "</ul>\n",
    "Struktura jest z góry ustalona.\n",
    "\n",
    "Poniżej przykładowa wtyczka:"
   ]
  },
  {
   "cell_type": "markdown",
   "id": "ad07d0c4",
   "metadata": {},
   "source": [
    "<img src='app.png'/>"
   ]
  },
  {
   "cell_type": "markdown",
   "id": "d6ee7df4",
   "metadata": {},
   "source": [
    "Każdy plugin musi zawierać ustalone pliki w folderze żeby został wczytany. Są to elementy, jakie musi zawierać moduł Python, aby został przez interpreter odnaleziony, a wiec plik $__init__.py$ oraz plik interfejsu oraz kodu wykonywalnego:\n",
    "<ul>\n",
    "    <li>$__init__.py$ - inicjalizacyjny (nawet jeśli pusty)</li>\n",
    "    <li>form.py - z interfejsem graficznym</li>\n",
    "    <li>plik z kodem wykonywalnym</li>\n",
    "</ul>\n",
    "\n",
    "Powinien być dołączony plik z metadanymi $metadata.txt$"
   ]
  },
  {
   "cell_type": "markdown",
   "id": "4fcfdbb1",
   "metadata": {},
   "source": [
    "### Własne aplikacje\n",
    "\n",
    "Możliwe jest używanie komponentów QGISa jak bilbioteki programistycznej i używanie jego narzędzi we własnych kodach, aplikacjach i zastosowaniach.\n",
    "\n",
    "Odbywa się to po prostu poprzez import bilbiotek qgisa, na przykład:"
   ]
  },
  {
   "cell_type": "code",
   "execution_count": 1,
   "id": "b4b39fe6",
   "metadata": {},
   "outputs": [
    {
     "ename": "ModuleNotFoundError",
     "evalue": "No module named 'qgis'",
     "output_type": "error",
     "traceback": [
      "\u001b[1;31m---------------------------------------------------------------------------\u001b[0m",
      "\u001b[1;31mModuleNotFoundError\u001b[0m                       Traceback (most recent call last)",
      "Input \u001b[1;32mIn [1]\u001b[0m, in \u001b[0;36m<cell line: 1>\u001b[1;34m()\u001b[0m\n\u001b[1;32m----> 1\u001b[0m \u001b[38;5;28;01mfrom\u001b[39;00m \u001b[38;5;21;01mqgis\u001b[39;00m\u001b[38;5;21;01m.\u001b[39;00m\u001b[38;5;21;01mcore\u001b[39;00m \u001b[38;5;28;01mimport\u001b[39;00m \u001b[38;5;241m*\u001b[39m\n\u001b[0;32m      2\u001b[0m QgsApplication\u001b[38;5;241m.\u001b[39msetPrefixPath(\u001b[38;5;124m\"\u001b[39m\u001b[38;5;124m/path/to/qgis/installation\u001b[39m\u001b[38;5;124m\"\u001b[39m, \u001b[38;5;28;01mTrue\u001b[39;00m)\n\u001b[0;32m      3\u001b[0m qgs \u001b[38;5;241m=\u001b[39m QgsApplication([], \u001b[38;5;28;01mFalse\u001b[39;00m)\n",
      "\u001b[1;31mModuleNotFoundError\u001b[0m: No module named 'qgis'"
     ]
    }
   ],
   "source": [
    "from qgis.core import *\n",
    "QgsApplication.setPrefixPath(\"/path/to/qgis/installation\", True)\n",
    "qgs = QgsApplication([], False)\n",
    "qgis.initQgis()\n",
    "#kod tutaj\n",
    "qgis.exitQgis()"
   ]
  },
  {
   "cell_type": "markdown",
   "id": "f9ee2b9b",
   "metadata": {},
   "source": [
    "## API QGISa\n",
    "\n",
    "Aby pracować z QGIS w Python musimy zapoznać się z jego API\n",
    "\n",
    "<h3>API</h3>\n",
    "\n",
    "API to Application Programming Interface, czyli interfejs programistyczny aplikacji. To zestaw ściśle określonych reguł i poleceń (wraz z opisem), który informuje w jaki sposób moduły oprogramowania komunikują się ze sobą, jakie mają funkcjonalności. Interfejs pozwala na dostęp do nich i na ich wykorzystanie. \n",
    "\n",
    "API udostępnia klasy wraz z metodami, funkcje, typy danych (w końcu to też klasy) oraz protokoły komunikacyjne.\n",
    "\n",
    "<h3>QGIS API</h3>\n",
    "\n",
    "Dostępne jest pod: https://qgis.org/api/\n",
    "\n",
    "Oczywiście wersji QGIS jest dużo i różnią się między sobą (zwłacza API), dlatego zawsze musimy odnaleźć dokumentację dla swojej wersji.\n"
   ]
  },
  {
   "cell_type": "markdown",
   "id": "8ebd8915",
   "metadata": {},
   "source": [
    "<img src=\"qgisapi.png\"/>"
   ]
  },
  {
   "cell_type": "markdown",
   "id": "6e4d3328",
   "metadata": {},
   "source": [
    "Należy pamiętać, że wciąż piszemy w języku obiektowym. Wszystko zatem jest w QGISie obiektem - projekty, warstwy, dane rastrowe, dane wektorowe, każdy punkty, linia i wielokąt. Każdy ma swoje atrybuty i parametry - wszystko opisane jest w API.\n",
    "\n",
    "API zaprojektowane jest zgodnie z paradygmatami programowania obiektowego - klasy są heremetyczne, istnieją klasy abstrakcyjne i dziedziczące. Funkcje są polimorficzne. Spójrzmy na przykładowy fragment relacji z QgsAPI:"
   ]
  },
  {
   "cell_type": "markdown",
   "id": "de4dba5a",
   "metadata": {},
   "source": [
    "<img width=800 src=\"drzewo.png\"/>"
   ]
  },
  {
   "cell_type": "markdown",
   "id": "fac8fc59",
   "metadata": {},
   "source": [
    "Ten (nieco niskiej rozdzielczości) obraz przedstawia relację pomiędzy warstwami danych QGISa a klasami abstrakcyjnymi. \n",
    "\n",
    "W QGISie znajdziemy 4 rodzaje warstw - \n",
    "    \n",
    "    Mesh, \n",
    "    Plugin, \n",
    "    Raster, \n",
    "    Vector. \n",
    "\n",
    "\n",
    "O ile dwie pierwsze nas nie interesują (mają dośc specyficzne zastosowania) to z dwiema ostatnimi będziemy dużo pracować. Są to odpowiednio warstwa danych rastrowych oraz wektorowych.\n",
    "\n",
    "Każda klasa warstwy dziedziczy po abstrakcyjnej klasie - QgsMapLayer, czyli abstrakcji warstwy danych w QGISie. Zawiera ona cechy i metody wspólne dla każdej warstwy. Ta z kolei dziedziczy po bardziej abstrakcyjnej klasie QObject.\n",
    "\n",
    "<b> QObject </b> - QGIS jest zbudowany na podstawie oprogramowania Qt, które służy do tworzenia intefejsów graficznych (GUI - Graphical User Interface) dla Pythona (do tego jest nam potrzebny QtDesigner pokazany na początku wykładu, będziemy takie interfejsy projektować). \n",
    "\n",
    "QObject to element tej biblioteki, który przechowuje dowolny obiekt zaprojektowanego interfejsu. Posiada on takie atrybuty jak:\n",
    "    \n",
    "    miejsce w pamięci\n",
    "    nazwa\n",
    "    \n",
    "Oraz metody jak:\n",
    "\n",
    "    uruchom inny obiekt połączony\n",
    "\n",
    "<b> QgsMapLayer </b> - to już obiekt QGISa, abstrakcja warstwy danych. Posiada takie atrybuty jak:\n",
    "\n",
    "    Stan warstwy (usunięta, obecna)\n",
    "    \n",
    "Oraz metody jak:\n",
    "\n",
    "    Określ układ odniesienia\n",
    "    Określ zakres przetrzenny\n",
    "    ...\n",
    "    \n",
    "<b> QgsVectorLayer </b> - to warstwa przechowujące dane wektorowe (i jedyna z tych 3, którą tak naprawdę w QGIS obsługujemy). Jako, że jest zaprojektowana do pracy z wektorami, to określa metody i atrybuty typowe dla tego typu danych (oczywiście dziedziczy wszystkie powyższe):\n",
    "\n",
    "    Stylizacja\n",
    "    Czy jest edytowalna\n",
    "    \n",
    "i metody:\n",
    "\n",
    "    zmień atrybuty\n",
    "    zmień geometrię\n",
    "    ..."
   ]
  },
  {
   "cell_type": "markdown",
   "id": "984b5ce9",
   "metadata": {},
   "source": [
    "_Od teraz będziemy śledzić najważniejsze komponenty API QGIS i będziemy przyglądać się jego funkcjonalnościom._"
   ]
  },
  {
   "cell_type": "markdown",
   "id": "dc59642f",
   "metadata": {},
   "source": [
    "## Pierwszy kod w QGIS"
   ]
  },
  {
   "cell_type": "markdown",
   "id": "9ede1176",
   "metadata": {},
   "source": [
    "Na pierwszy ogień:\n",
    "### Projekty - klasa QgsProject\n",
    "\n",
    "Czyli ładowanie projektów. Czasem istnieje potrzeba podczytania całego projektu.\n",
    "\n",
    "Klasa QgsProject umożliwia ładowanie i zapisywanie projektów - plików *.qgs"
   ]
  },
  {
   "cell_type": "code",
   "execution_count": 1,
   "id": "955a0ea1",
   "metadata": {},
   "outputs": [
    {
     "ename": "ModuleNotFoundError",
     "evalue": "No module named 'qgis'",
     "output_type": "error",
     "traceback": [
      "\u001b[1;31m---------------------------------------------------------------------------\u001b[0m",
      "\u001b[1;31mModuleNotFoundError\u001b[0m                       Traceback (most recent call last)",
      "Input \u001b[1;32mIn [1]\u001b[0m, in \u001b[0;36m<cell line: 1>\u001b[1;34m()\u001b[0m\n\u001b[1;32m----> 1\u001b[0m \u001b[38;5;28;01mfrom\u001b[39;00m \u001b[38;5;21;01mqgis\u001b[39;00m\u001b[38;5;21;01m.\u001b[39;00m\u001b[38;5;21;01mcore\u001b[39;00m \u001b[38;5;28;01mimport\u001b[39;00m QgsProject \u001b[38;5;66;03m#importujemy tylko klasę QgsProject\u001b[39;00m\n\u001b[0;32m      2\u001b[0m project \u001b[38;5;241m=\u001b[39m QgsProject\u001b[38;5;241m.\u001b[39minstance() \u001b[38;5;66;03m#tworzymy instancję projektu. W QGIS3 już nie jest to obowiązkowe\u001b[39;00m\n\u001b[0;32m      3\u001b[0m \u001b[38;5;66;03m#project jest pusty\u001b[39;00m\n",
      "\u001b[1;31mModuleNotFoundError\u001b[0m: No module named 'qgis'"
     ]
    }
   ],
   "source": [
    "from qgis.core import QgsProject #importujemy tylko klasę QgsProject\n",
    "project = QgsProject.instance() #tworzymy instancję projektu. W QGIS3 już nie jest to obowiązkowe\n",
    "#project jest pusty\n",
    "project.read(\"sciezka_do_pliku\") #otwieramy projekt\n",
    " \n",
    "project.write() #zapisujemy do tego samego pliku\n",
    "project.write(\"sciezka_do_zapisu\") #zapisujemy projekt do nowego pliku\n"
   ]
  },
  {
   "cell_type": "markdown",
   "id": "53d3d3aa",
   "metadata": {},
   "source": [
    "Zatem otwieranie i zapisywanie projektów odbywa się za pomocą polecenia $read$ oraz $write$\n",
    "\n",
    "### Inne moduły API QGIS\n",
    "\n",
    "<ul>\n",
    "    <li>qgis.core zawiera podstawowe funkcjonalności QGISa</li>\n",
    "    <li>qgis.gui zawiera widgety GUI - czyli okna, paski, ikonki i pozwala na ich edycję i wykorzystanie we własnych pluginach</li>\n",
    "    <li>qgis.analysis udostępnia narzędzia analiz przestrzennych </li>\n",
    "    <li>MapComposer to klasa która pozwala na tworzenie własnych kompozycji mapowych i wydrków</li>\n",
    "    <li>Network Analyst udostępnia narzędzia analiz sieciowych/grafowych</li>\n",
    "</ul>\n"
   ]
  },
  {
   "cell_type": "markdown",
   "id": "a69e1df1",
   "metadata": {},
   "source": [
    "### Import warstwy wektorowej"
   ]
  },
  {
   "cell_type": "code",
   "execution_count": null,
   "id": "ed63afe5",
   "metadata": {},
   "outputs": [],
   "source": [
    "from qgis.core import QgsVectorLayer #importujemy QgsVectorLayer, klasę warstw wektorowych\n",
    "vlayer = QgsVectorLayer(\"sciezka_do_warstwy\",\"Nazwa warstwy\",\"ogr\") #ogr to moduł obsługujący warstwy wektorowe, nazwa wyświetlana jest wewnątrz QGIS\n"
   ]
  },
  {
   "cell_type": "markdown",
   "id": "ac396f95",
   "metadata": {},
   "source": [
    "Po takim podczytaniu warstwa <b>nie wyświetli się</b>, dlatego też by ją dodać należy ją dodać do mapy. Odbywa się to za pomocą instancji $iface$.\n",
    "\n",
    "Instancja iface - czyli interfejs, to interfejs graficzny, który widzimy, gdy korzystamy z QGISa.\n",
    "\n",
    "Aby od razu załadować warstwę i dodać warstwę do interfejsu należy zastosować polecenie:"
   ]
  },
  {
   "cell_type": "code",
   "execution_count": null,
   "id": "a012748f",
   "metadata": {},
   "outputs": [],
   "source": [
    "vlayer = iface.addVectorLayer(\"sciezka_do_warstwy\",\"Nazwa warstwy\",\"ogr\")"
   ]
  },
  {
   "cell_type": "markdown",
   "id": "aee35637",
   "metadata": {},
   "source": [
    "### Import warstwy rastrowej"
   ]
  },
  {
   "cell_type": "code",
   "execution_count": null,
   "id": "e0156a02",
   "metadata": {},
   "outputs": [],
   "source": [
    "rlayer = QgsRasterLayer(\"sciezka_do_pliku\",\"Nazwa\")"
   ]
  },
  {
   "cell_type": "markdown",
   "id": "88ef12b2",
   "metadata": {},
   "source": [
    "LUB:"
   ]
  },
  {
   "cell_type": "code",
   "execution_count": null,
   "id": "b9174921",
   "metadata": {},
   "outputs": [],
   "source": [
    "iface.addRasterLayer(\"sciekza_do_liku\",\"Nazwa\")"
   ]
  },
  {
   "cell_type": "markdown",
   "id": "155d0316",
   "metadata": {},
   "source": [
    "### Warstwy w QgsProject\n",
    "\n",
    "Jeśli pracujemy w QgsProject, wtedy  możemy dodać warstwy z pamięci:"
   ]
  },
  {
   "cell_type": "code",
   "execution_count": null,
   "id": "562508b5",
   "metadata": {},
   "outputs": [],
   "source": [
    "QgsProject.instance().addMapLayer(rlayer) #dodwanie\n",
    "QgsProject.instance().removeMapLayer(rlayer.id()) #usuwanie\n",
    "QgsProject.instance().mapLayers() #lista warstw"
   ]
  },
  {
   "cell_type": "markdown",
   "id": "a14fd125",
   "metadata": {},
   "source": [
    "### Obsługa warstw danych"
   ]
  },
  {
   "cell_type": "markdown",
   "id": "2b4e68e2",
   "metadata": {},
   "source": [
    "#### Usuwanie warstw"
   ]
  },
  {
   "cell_type": "code",
   "execution_count": null,
   "id": "d3374a5e",
   "metadata": {},
   "outputs": [],
   "source": [
    "projekt.removeMapLayer(vlayer.id())"
   ]
  },
  {
   "cell_type": "markdown",
   "id": "a4d8a6ac",
   "metadata": {},
   "source": [
    "#### Lista warstw"
   ]
  },
  {
   "cell_type": "code",
   "execution_count": null,
   "id": "f122fa2d",
   "metadata": {},
   "outputs": [],
   "source": [
    "projekt.mapLayers()"
   ]
  },
  {
   "cell_type": "markdown",
   "id": "77ef5d71",
   "metadata": {},
   "source": [
    "#### Wybór aktywnej warstwy"
   ]
  },
  {
   "cell_type": "code",
   "execution_count": null,
   "id": "ac839553",
   "metadata": {},
   "outputs": [],
   "source": [
    "layer = iface.activeLayer()"
   ]
  },
  {
   "cell_type": "markdown",
   "id": "b8064f5f",
   "metadata": {},
   "source": [
    "## Biblioteka OS\n",
    "\n",
    "Do pracy z scieżkami plików przyda nam się bilioteka os - pozwala ona na przeglądanie struktury plików w naszym systemie lub na serwerze. Często istnieje potrzeba ładowania kolejno różnych warstw z różnych ścieżek. Dzięki tej bibliotece jesteśmy to w stanie zautomatyzować.\n",
    "\n",
    "Najbardziej przydatne polecenia $walk, join$"
   ]
  },
  {
   "cell_type": "code",
   "execution_count": 1,
   "id": "44c3c374",
   "metadata": {},
   "outputs": [],
   "source": [
    "import os"
   ]
  },
  {
   "cell_type": "code",
   "execution_count": 14,
   "id": "fd9a6411",
   "metadata": {},
   "outputs": [],
   "source": [
    "sciezka = 'folder'\n",
    "plik = 'plik.shp'"
   ]
  },
  {
   "cell_type": "code",
   "execution_count": 9,
   "id": "081d5219",
   "metadata": {},
   "outputs": [
    {
     "data": {
      "text/plain": [
       "'D:\\\\folder\\\\folder\\\\plik.shp'"
      ]
     },
     "execution_count": 9,
     "metadata": {},
     "output_type": "execute_result"
    }
   ],
   "source": [
    "os.path.join(sciezka,podsciezka,plik)"
   ]
  },
  {
   "cell_type": "code",
   "execution_count": 15,
   "id": "ef9d9582",
   "metadata": {},
   "outputs": [],
   "source": [
    "pelna = os.path.join(sciezka,plik)"
   ]
  },
  {
   "cell_type": "code",
   "execution_count": 16,
   "id": "097baeb2",
   "metadata": {},
   "outputs": [
    {
     "name": "stdout",
     "output_type": "stream",
     "text": [
      "folder\\plik.shp\n"
     ]
    }
   ],
   "source": [
    "print(pelna)"
   ]
  },
  {
   "cell_type": "code",
   "execution_count": 19,
   "id": "292b4c45",
   "metadata": {},
   "outputs": [
    {
     "data": {
      "text/plain": [
       "'plik.shp'"
      ]
     },
     "execution_count": 19,
     "metadata": {},
     "output_type": "execute_result"
    }
   ],
   "source": [
    "os.path.basename(pelna) #zwraca nazwe pliku"
   ]
  },
  {
   "cell_type": "code",
   "execution_count": 17,
   "id": "e60f8adc",
   "metadata": {},
   "outputs": [
    {
     "data": {
      "text/plain": [
       "'D:\\\\GitHub\\\\PwGIS2024\\\\folder\\\\plik.shp'"
      ]
     },
     "execution_count": 17,
     "metadata": {},
     "output_type": "execute_result"
    }
   ],
   "source": [
    "os.path.abspath(pelna) #ścieżka absolutna"
   ]
  },
  {
   "cell_type": "code",
   "execution_count": 18,
   "id": "f47e149e",
   "metadata": {},
   "outputs": [
    {
     "data": {
      "text/plain": [
       "'folder'"
      ]
     },
     "execution_count": 18,
     "metadata": {},
     "output_type": "execute_result"
    }
   ],
   "source": [
    "os.path.dirname(pelna) #ściezka do foldderu"
   ]
  },
  {
   "cell_type": "markdown",
   "id": "5e057336",
   "metadata": {},
   "source": [
    "### Polecenie walk"
   ]
  },
  {
   "cell_type": "code",
   "execution_count": 29,
   "id": "c59c732f",
   "metadata": {},
   "outputs": [
    {
     "name": "stdout",
     "output_type": "stream",
     "text": [
      "D:\\NE1_50M_SR_W\\NE1_50M_SR_W.tif\n"
     ]
    }
   ],
   "source": [
    "for r,d,f in os.walk(r'D:\\NE1_50M_SR_W'):\n",
    "    for ff in f:\n",
    "        if '.tif' in ff:\n",
    "            print(os.path.join(r,ff))"
   ]
  },
  {
   "cell_type": "code",
   "execution_count": 10,
   "id": "430a01fa",
   "metadata": {},
   "outputs": [],
   "source": [
    "for root,directory,filename in os.walk(sciezka):\n",
    "    for ffile in filename:\n",
    "        if '.shp' in ffile:\n",
    "            print(os.path.join(root,ffile))"
   ]
  },
  {
   "cell_type": "code",
   "execution_count": 11,
   "id": "47d4bd81",
   "metadata": {},
   "outputs": [
    {
     "ename": "StopIteration",
     "evalue": "",
     "output_type": "error",
     "traceback": [
      "\u001b[1;31m---------------------------------------------------------------------------\u001b[0m",
      "\u001b[1;31mStopIteration\u001b[0m                             Traceback (most recent call last)",
      "Input \u001b[1;32mIn [11]\u001b[0m, in \u001b[0;36m<cell line: 1>\u001b[1;34m()\u001b[0m\n\u001b[1;32m----> 1\u001b[0m \u001b[38;5;28;43mnext\u001b[39;49m\u001b[43m(\u001b[49m\u001b[43mos\u001b[49m\u001b[38;5;241;43m.\u001b[39;49m\u001b[43mwalk\u001b[49m\u001b[43m(\u001b[49m\u001b[43msciezka\u001b[49m\u001b[43m)\u001b[49m\u001b[43m)\u001b[49m\n",
      "\u001b[1;31mStopIteration\u001b[0m: "
     ]
    }
   ],
   "source": [
    "next(os.walk(sciezka)) #tylko główny folder"
   ]
  },
  {
   "cell_type": "markdown",
   "id": "8268bb17",
   "metadata": {},
   "source": [
    "## Dodatek do ćwiczeń: Obsługa warstw wektorowych - szczegóły warstwy\n",
    "\n",
    "Uzyskiwanie dostępu do danych:"
   ]
  },
  {
   "cell_type": "markdown",
   "id": "be8b6945",
   "metadata": {},
   "source": [
    "### Atrybuty:"
   ]
  },
  {
   "cell_type": "code",
   "execution_count": null,
   "id": "0c2c6f2b",
   "metadata": {},
   "outputs": [],
   "source": [
    "#Przegląd atrybutów\n",
    "for pole in drogi.fields():\n",
    "\tprint(pole.name(), pole.typeName())"
   ]
  },
  {
   "cell_type": "markdown",
   "id": "daa0a4e1",
   "metadata": {},
   "source": [
    "### Obiekty:"
   ]
  },
  {
   "cell_type": "code",
   "execution_count": null,
   "id": "8a841c91",
   "metadata": {},
   "outputs": [],
   "source": [
    "#Pozyskanie obiektów na warstwie\n",
    "layer.getFeatures() #zwraca iterator, nie listę, można się dopiero przez nią iterować\n",
    "features = [feature for feature in budynki.getFeatures()][:20]"
   ]
  },
  {
   "cell_type": "code",
   "execution_count": null,
   "id": "7da64c85",
   "metadata": {},
   "outputs": [],
   "source": [
    "for obiekt in features:\n",
    "    print(obiekt.id())\n",
    "    \n",
    "for obiekt in features:\n",
    "    print(obiekt.geometry()) #Zwraca klasę geometrii\n",
    "\n",
    "for obiekt in features:\n",
    "    print(obiekt.geometry().length())\n",
    "\n",
    "for obiekt in features:\n",
    "    print(obiekt.attributes())\n",
    "\n",
    "for obiekt in features:\n",
    "    print(obiekt[#nazwa_atrybutu])\n"
   ]
  }
 ],
 "metadata": {
  "kernelspec": {
   "display_name": "Python 3 (ipykernel)",
   "language": "python",
   "name": "python3"
  },
  "language_info": {
   "codemirror_mode": {
    "name": "ipython",
    "version": 3
   },
   "file_extension": ".py",
   "mimetype": "text/x-python",
   "name": "python",
   "nbconvert_exporter": "python",
   "pygments_lexer": "ipython3",
   "version": "3.9.12"
  }
 },
 "nbformat": 4,
 "nbformat_minor": 5
}