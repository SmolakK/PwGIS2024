{
 "cells": [
  {
   "cell_type": "markdown",
   "id": "92f5689a",
   "metadata": {},
   "source": [
    "# Moduł 4 - Lista Zadań\n",
    "\n",
    "Ćwiczenia odbywają się z wykorzystaniem warstw wykorzystywanych wcześniej."
   ]
  },
  {
   "cell_type": "markdown",
   "id": "526c98fe",
   "metadata": {},
   "source": [
    "1. Napisz funkcję, która przeszukuje wszystkie obiekty w warstwie `kraje świata` i odnajduje te, które składają się tylko z jednego wieloboku (nie mają wysp). Podświetl te kraje."
   ]
  },
  {
   "cell_type": "markdown",
   "id": "84d25c52",
   "metadata": {},
   "source": [
    "2. Napisz funkcję, która znajduje obiekty, których centroid nie znajduje się w tym właśnie obiekcie. Wykorzystaj warstwę z krajami świata."
   ]
  },
  {
   "cell_type": "markdown",
   "id": "9e83f99d",
   "metadata": {},
   "source": [
    "3. Napisz funkcję, która podświetla wszystkich sąsiadów kraju podanego przez użytkownika."
   ]
  },
  {
   "cell_type": "markdown",
   "id": "0ee31709",
   "metadata": {},
   "source": [
    "4.  Napisz funkcję, która podaje wartość długości obiektów na warstwie wektorowej w kilometrach oraz wyświetla TOP 5 wartości oraz wybraną kolumnę wartości."
   ]
  },
  {
   "cell_type": "code",
   "execution_count": null,
   "id": "b7a0a494",
   "metadata": {},
   "outputs": [],
   "source": []
  }
 ],
 "metadata": {
  "kernelspec": {
   "display_name": "Python 3 (ipykernel)",
   "language": "python",
   "name": "python3"
  },
  "language_info": {
   "codemirror_mode": {
    "name": "ipython",
    "version": 3
   },
   "file_extension": ".py",
   "mimetype": "text/x-python",
   "name": "python",
   "nbconvert_exporter": "python",
   "pygments_lexer": "ipython3",
   "version": "3.9.12"
  }
 },
 "nbformat": 4,
 "nbformat_minor": 5
}