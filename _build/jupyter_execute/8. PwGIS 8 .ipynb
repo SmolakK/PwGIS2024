{
 "cells": [
  {
   "cell_type": "markdown",
   "id": "c7bbed5f",
   "metadata": {},
   "source": [
    "# Moduł 8 - Własna wtyczka do QGIS (Część 3)"
   ]
  },
  {
   "cell_type": "markdown",
   "id": "e0ec786c",
   "metadata": {},
   "source": [
    "Dzisiejszy wykład ma za zadanie przedstawić zasadniczą funkcjonalność wtyczki - możliwość odnoszenia się do narzędzi już wbudowanych w QGIS i interakcję z mapą. Dodatkowo poruszymy kwestię processingu i komunikatów."
   ]
  },
  {
   "cell_type": "markdown",
   "id": "f1988d22",
   "metadata": {},
   "source": [
    "## Interakcja z mapą\n",
    "\n",
    "Zacznijmy od dodania kilku przycisków do naszej istniejącej już wtyczki. Oprogramujemy dla nich różne przykładowe funkcjonalności."
   ]
  },
  {
   "cell_type": "markdown",
   "id": "85f97e6b",
   "metadata": {},
   "source": [
    "<img src='wyk8_img/1.png' />"
   ]
  },
  {
   "cell_type": "markdown",
   "id": "b1c64d7e",
   "metadata": {},
   "source": [
    "Przyciski mają kolejno nazwy PushButton_3 _4 oraz _5.\n",
    "\n",
    "Interakcje, które możemy podejmować poprzez wtyczkę odbywają się (jak zresztą w bibliotece Qt oprogramowane są wszystkie interakcje) poprzez zestaw akcji i sygnałów.\n",
    "\n",
    "    Akcja jest uruchomieniem pewnego modułu (np. clicked.connect())\n",
    "    \n",
    "A sygnałem jest to co akcja zwraca.\n",
    "\n",
    "Akcje są elementem interfejsu, spis dostępnych akcji znajduje się w dokumentacji klasy QgisInterface: https://qgis.org/pyqgis/3.2/gui/other/QgisInterface.html\n",
    "\n",
    "Weźmy pierwszą z brzegu metodę \"actionAbout\" - czyli uruchomienie okna \"O programie\".\n",
    "\n",
    "Najpierw w metodzie run musimy oprogramować nowy przycisk:"
   ]
  },
  {
   "cell_type": "code",
   "execution_count": 1,
   "id": "af897339",
   "metadata": {},
   "outputs": [],
   "source": [
    "    def run(self):\n",
    "        self.window = QDialog()\n",
    "        self.form = Ui_Okno()\n",
    "        self.form.setupUi(self.window)\n",
    "        self.form.pushButton.setText(\"Otwieraj\")\n",
    "        self.form.pushButton.clicked.connect(self.otworz)\n",
    "        self.form.pushButton_2.released.connect(self.zapisz)\n",
    "        self.form.checkBox.clicked.connect(self.modyfikacje)\n",
    "        self.form.pushButton_3.clicked.connect(self.about) #nowy przycisk, przenosi do osobnej funkcji\n",
    "        self.window.show()"
   ]
  },
  {
   "cell_type": "markdown",
   "id": "b1a6ece3",
   "metadata": {},
   "source": [
    "Teraz oprogramujmy naszą metodą \"about\" tak by uruchamiała akcję przycisku actionAbout. Z pewnością potrzebne jest nam odniesienie do klasy interfejsu (to już mamy), na której wywołujemy metodę:"
   ]
  },
  {
   "cell_type": "code",
   "execution_count": 2,
   "id": "9810cfca",
   "metadata": {},
   "outputs": [],
   "source": [
    "    def about(self):\n",
    "        self.iface.actionAbout().trigger() #trigger jest niezbędny, oznacza uruchomienie akcji!"
   ]
  },
  {
   "cell_type": "markdown",
   "id": "c2d6f23e",
   "metadata": {},
   "source": [
    "Teraz po uruchomieniu wtyczki i wciśnięciu tego przycisku uruchomi nam się żądane okno:"
   ]
  },
  {
   "cell_type": "markdown",
   "id": "c9faf242",
   "metadata": {},
   "source": [
    "<img src='wyk8_img/2.png' />"
   ]
  },
  {
   "cell_type": "markdown",
   "id": "dfb84282",
   "metadata": {},
   "source": [
    "Spróbujmy coś bardziej skomplikowanego - akcję actionSelectRadius, która uruchamia metodę zaznaczania obiektu w zadanym promieniu. Oprogramowujemy kolejny przycisk:"
   ]
  },
  {
   "cell_type": "code",
   "execution_count": 3,
   "id": "87587523",
   "metadata": {},
   "outputs": [],
   "source": [
    "    def run(self):\n",
    "        self.window = QDialog()\n",
    "        self.form = Ui_Okno()\n",
    "        self.form.setupUi(self.window)\n",
    "        self.form.pushButton.setText(\"Otwieraj\")\n",
    "        self.form.pushButton.clicked.connect(self.otworz)\n",
    "        self.form.pushButton_2.released.connect(self.zapisz)\n",
    "        self.form.checkBox.clicked.connect(self.modyfikacje)\n",
    "        self.form.pushButton_3.clicked.connect(self.about) \n",
    "        self.form.pushButton_4.clicked.connect(self.select) #nowy przycisk\n",
    "        self.window.show()"
   ]
  },
  {
   "cell_type": "markdown",
   "id": "a45ea4ec",
   "metadata": {},
   "source": [
    "Teraz piszemy funkcję:"
   ]
  },
  {
   "cell_type": "code",
   "execution_count": 4,
   "id": "caebd8c9",
   "metadata": {},
   "outputs": [],
   "source": [
    "    def select(self):\n",
    "        self.iface.actionSelectRadius().trigger()"
   ]
  },
  {
   "cell_type": "markdown",
   "id": "b4299fe0",
   "metadata": {},
   "source": [
    "Uwaga: by działało musi być załadowana jakaś warstwa.\n",
    "\n",
    "Funkcja działa, ale dość niewygodne jest okno wtyczki, które zasłania nam widok. Dlatego oprogramujmy je tak by znikało, kiedy uruchomimy operację, a po kliknięciu na obiekt znów się pojawiało. I wbrew pozorom, niestety, wymaga to większej liczby linijek kodu:"
   ]
  },
  {
   "cell_type": "code",
   "execution_count": 5,
   "id": "72839139",
   "metadata": {},
   "outputs": [],
   "source": [
    "    def select(self):\n",
    "        self.iface.actionSelectRadius().trigger()\n",
    "        self.window.hide() #chowa okno\n",
    "        layer = self.iface.activeLayer() #aktywna warstwa w tle\n",
    "        layer.selectionChanged.connect(self.end_select)"
   ]
  },
  {
   "cell_type": "markdown",
   "id": "2c44d4f8",
   "metadata": {},
   "source": [
    "W linijce 5 musimy sprawdzić czy obiektu już zostały zaznaczone. Wykorzystujemy do tego sygnał \"selectionChanged\" na aktywnej warstwie. Czyli kiedy zaznaczenie zostało zmienione, wtedy należy znów pokazać okno. Sygnały mogą jednak łączyć się wyłącznie z innymi funkcjami, więc pokazanie okna musimy uruchomić w innej funkcji."
   ]
  },
  {
   "cell_type": "code",
   "execution_count": 6,
   "id": "8d66b055",
   "metadata": {},
   "outputs": [],
   "source": [
    "    def end_select(self):\n",
    "        self.window.show()"
   ]
  },
  {
   "cell_type": "markdown",
   "id": "9015ad30",
   "metadata": {},
   "source": [
    "Jednakże, w ten sposób narzędzie wyboru będzie nadal włączone w tle. Należy jeszcze przed pokazaniem okna je wyłączyć:"
   ]
  },
  {
   "cell_type": "code",
   "execution_count": 7,
   "id": "b1304f0e",
   "metadata": {},
   "outputs": [],
   "source": [
    "    def end_select(self):\n",
    "        layer = self.iface.activeLayer() #aktywna warstwa w tle\n",
    "        layer.selectionChanged.disconnect(self.end_select) #\"rozłączamy\" funkcję od sygnału\n",
    "        self.window.show()"
   ]
  },
  {
   "cell_type": "markdown",
   "id": "bd671789",
   "metadata": {},
   "source": [
    "Co możemy zrobić z wybranym obiektem? Na przykład odczytać jego koordynaty:"
   ]
  },
  {
   "cell_type": "code",
   "execution_count": 8,
   "id": "38015b7b",
   "metadata": {},
   "outputs": [],
   "source": [
    "    def end_select(self):\n",
    "        layer = self.iface.activeLayer() #aktywna warstwa w tle\n",
    "        feature = layer.selectedFeatures()[0] #pobieramy zaznaczony obiekt\n",
    "        geom = feature.geometry() #jego geometrię\n",
    "        x = geom.asPoint().x() #i jego współrzędne\n",
    "        y = geom.asPoint().y()\n",
    "        #tu można coś z nimi zrobić\n",
    "        layer.selectionChanged.disconnect(self.end_select) #\"rozłączamy\" funkcję od sygnału\n",
    "        self.window.show()"
   ]
  },
  {
   "cell_type": "markdown",
   "id": "549d9437",
   "metadata": {},
   "source": [
    "Jeśli chcemy te koordynaty zachować na później możemy przypisać te wartości do self lub zastosować trik polegający na ich zapisaniu w widżecie. Na przykład w pasku tekstu:"
   ]
  },
  {
   "cell_type": "code",
   "execution_count": 9,
   "id": "02932cc5",
   "metadata": {},
   "outputs": [],
   "source": [
    "    def end_select(self):\n",
    "        layer = self.iface.activeLayer() #aktywna warstwa w tle\n",
    "        feature = layer.selectedFeatures()[0] #pobieramy zaznaczony obiekt\n",
    "        geom = feature.geometry() #jego geometrię\n",
    "        x = geom.asPoint().x() #i jego współrzędne\n",
    "        y = geom.asPoint().y()\n",
    "        self.form.lineEdit.setText(\"{},{}\".format(str(x),str(y))) #i zapisujemy do lineEdit\n",
    "        layer.selectionChanged.disconnect(self.end_select) #\"rozłączamy\" funkcję od sygnału\n",
    "        self.window.show()"
   ]
  },
  {
   "cell_type": "markdown",
   "id": "d2c03460",
   "metadata": {},
   "source": [
    "<img src='wyk8_img/3.png' />"
   ]
  },
  {
   "cell_type": "markdown",
   "id": "fe759106",
   "metadata": {},
   "source": [
    "<h3> Komunikaty </h3>\n",
    "\n",
    "Czasem przydatne jest wyświetlanie komunikatów, które mogą być wyświetlane na górnym pasku lub w osobnym oknie. Zobaczmy, jak takie komunikaty oprogramować. Niech kliknięcie naszego trzeciego nowego przycisku uruchamia komunikat na pasku:"
   ]
  },
  {
   "cell_type": "code",
   "execution_count": 10,
   "id": "e08d851c",
   "metadata": {},
   "outputs": [],
   "source": [
    "    def run(self):\n",
    "        self.window = QDialog()\n",
    "        self.form = Ui_Okno()\n",
    "        self.form.setupUi(self.window)\n",
    "        self.form.pushButton.setText(\"Otwieraj\")\n",
    "        self.form.pushButton.clicked.connect(self.otworz)\n",
    "        self.form.pushButton_2.released.connect(self.zapisz)\n",
    "        self.form.checkBox.clicked.connect(self.modyfikacje)\n",
    "        self.form.pushButton_3.clicked.connect(self.about)\n",
    "        self.form.pushButton_4.clicked.connect(self.select)\n",
    "        self.form.pushButton_5.clicked.connect(self.inform) #nowa funkcja\n",
    "        self.window.show()"
   ]
  },
  {
   "cell_type": "markdown",
   "id": "28eab774",
   "metadata": {},
   "source": [
    "Oprogramowanie samego paska to jedna linijka. Atrybuty w kolejności to:\n",
    "\n",
    "    1 - tytuł błędu\n",
    "    2 - tekst błędu\n",
    "    3 - typ błędu (zmienia kolor paska i symbol)\n",
    "    4 - czas wyświetlania"
   ]
  },
  {
   "cell_type": "code",
   "execution_count": 11,
   "id": "14b7b707",
   "metadata": {},
   "outputs": [],
   "source": [
    "    def inform(self):\n",
    "        self.iface.messageBar().pushMessage(\"COTO\", \"Pasek z błędem\", level=Qgis.Critical, duration=3)"
   ]
  },
  {
   "cell_type": "markdown",
   "id": "e983a633",
   "metadata": {},
   "source": [
    "<img src='wyk8_img/4.png' />"
   ]
  },
  {
   "cell_type": "markdown",
   "id": "de86fbb8",
   "metadata": {},
   "source": [
    "Oczywiście w tekst błędu możemy wstawiać informacje dotyczące tego co obecnie dzieje się we wtyczce. Do tego należy użyć formatowania tekstu.\n",
    "Inne dostępne paski to:\n",
    "\n",
    "\n",
    "    Qgis.Info\n",
    "\n",
    "    Qgis.Warning\n",
    "\n",
    "    Qgis.Critical\n",
    "\n",
    "    Qgis.Success\n"
   ]
  },
  {
   "cell_type": "markdown",
   "id": "d13b21a2",
   "metadata": {},
   "source": [
    "O ile pasek jest elementem QGISa to już okno z informacją jest elementem biblioteki Qt. Dlatego też odwołujemy się do niej. Aby pokazać okno wystarczy wpisać:"
   ]
  },
  {
   "cell_type": "code",
   "execution_count": 12,
   "id": "a165375c",
   "metadata": {},
   "outputs": [],
   "source": [
    "    def inform(self):\n",
    "        QMessageBox.information(None, \"Tytuł\", \"Tekst\")"
   ]
  },
  {
   "cell_type": "markdown",
   "id": "acc53678",
   "metadata": {},
   "source": [
    "Pierwszy argument odpowiada za typ okna - wywoływane są liczbami od 0 do 4 włącznie."
   ]
  },
  {
   "cell_type": "markdown",
   "id": "f56f335a",
   "metadata": {},
   "source": [
    "<img src='wyk8_img/5.png' />"
   ]
  },
  {
   "cell_type": "markdown",
   "id": "84b60a91",
   "metadata": {},
   "source": [
    "<h3> Narzędzia processingu </h3>\n",
    "\n",
    "Narzędzia processingu są bardzo przydatnymi funkcjami do przetwarzania danych wektorowych i rastrowych. Mogą być używane zarówno w formie skryptów jak i części własnych wtyczek. Narzędzia processingu dostępne w QGIS są na górnym pasu w menu \"Processing -> Panel algorytmów\""
   ]
  },
  {
   "cell_type": "markdown",
   "id": "66f6af24",
   "metadata": {},
   "source": [
    "<img src='wyk8_img/6.png' />"
   ]
  },
  {
   "cell_type": "markdown",
   "id": "7d4011dd",
   "metadata": {},
   "source": [
    "Narzędzia processingu to takie metody jak operatory przecięcia, buforowania itp, ale również bardziej zaawansowane metody jak analizy sieciowe czy operacje na rastrach (stoki, ekspozycja, nachylenia). Aby korzystać z narzędzi processingu należy najpierw zaimportować moduł processingu:"
   ]
  },
  {
   "cell_type": "code",
   "execution_count": 13,
   "id": "bc879223",
   "metadata": {},
   "outputs": [
    {
     "ename": "ModuleNotFoundError",
     "evalue": "No module named 'processing'",
     "output_type": "error",
     "traceback": [
      "\u001b[1;31m---------------------------------------------------------------------------\u001b[0m",
      "\u001b[1;31mModuleNotFoundError\u001b[0m                       Traceback (most recent call last)",
      "Input \u001b[1;32mIn [13]\u001b[0m, in \u001b[0;36m<cell line: 1>\u001b[1;34m()\u001b[0m\n\u001b[1;32m----> 1\u001b[0m \u001b[38;5;28;01mimport\u001b[39;00m \u001b[38;5;21;01mprocessing\u001b[39;00m\n",
      "\u001b[1;31mModuleNotFoundError\u001b[0m: No module named 'processing'"
     ]
    }
   ],
   "source": [
    "import processing"
   ]
  },
  {
   "cell_type": "markdown",
   "id": "d717bb92",
   "metadata": {},
   "source": [
    "Nadpiszę funkcjonalność naszej funkcji z ostatniego przycisku. Wykorzystanie metody processingu ogranicza się do zapytania:"
   ]
  },
  {
   "cell_type": "code",
   "execution_count": null,
   "id": "e72628b0",
   "metadata": {},
   "outputs": [],
   "source": [
    "processing.run(#nazwa algorytmu, #argumenty)"
   ]
  },
  {
   "cell_type": "markdown",
   "id": "763e2f7e",
   "metadata": {},
   "source": [
    "Do tych algorytmów nie ma jednak dokumentacji. Zamiast tego możemy w konsoli sprawdzić jakie algorytmy są dostępne:"
   ]
  },
  {
   "cell_type": "code",
   "execution_count": null,
   "id": "64abbdbd",
   "metadata": {},
   "outputs": [],
   "source": [
    "for alg in QgsApplication.processingRegistry().algorithms():\n",
    "        print(alg.id(), \"->\", alg.displayName())"
   ]
  },
  {
   "cell_type": "markdown",
   "id": "28fba490",
   "metadata": {},
   "source": [
    "Wyświetli nam to listę algorytmów z opisem. Gdy znamy nazwę algorytmu, możemy sprawdzić jakie przyjmuje parametry:"
   ]
  },
  {
   "cell_type": "code",
   "execution_count": null,
   "id": "8325e7dd",
   "metadata": {},
   "outputs": [],
   "source": [
    "processing.algorithmHelp('native:buffer')"
   ]
  },
  {
   "cell_type": "markdown",
   "id": "87b5f00c",
   "metadata": {},
   "source": [
    "Odpowiedź:"
   ]
  },
  {
   "cell_type": "markdown",
   "id": "fedc2e22",
   "metadata": {},
   "source": [
    "Bufor (native:buffer)\n",
    "\n",
    "Algorytm oblicza obszar bufora dla wszystkich obiektów warstwy wejściowej wykorzystując stałą lub zmienna szerokość bufora.\n",
    "\n",
    "Parametr liczby segmentów określa stopień zaokrąglenia załamań bufora.\n",
    "\n",
    "Parametr stylu zakończenia określa jak będą traktowane zakończenia linii w buforze.\n",
    "\n",
    "Parametr stylu połączenia określa w jaki sposób łączone będą linie podczas tworzenia bufora wokół załamań linii.\n",
    "\n",
    "Parametr limitu fazy (uciosu) może być zastosowany tylko dla ostrych połączeń i określa maksymalną odległość od buforowanego załamania podczas tworzenia ostrych połączeń.\n",
    "\n",
    "\n",
    "----------------\n",
    "Input parameters\n",
    "----------------\n",
    "\n",
    "INPUT: Warstwa źródłowa\n",
    "\n",
    "\tParameter type:\tQgsProcessingParameterFeatureSource\n",
    "\n",
    "\tAccepted data types:\n",
    "\t\t- str: ID warstwy\n",
    "\t\t- str: nazwa warstwy\n",
    "\t\t- str: źródło warstwy\n",
    "\t\t- QgsProcessingFeatureSourceDefinition\n",
    "\t\t- QgsProperty\n",
    "\t\t- QgsVectorLayer\n",
    "\n",
    "DISTANCE: Odległość\n",
    "\n",
    "\tParameter type:\tQgsProcessingParameterDistance\n",
    "\n",
    "\tAccepted data types:\n",
    "\t\t- int\n",
    "\t\t- float\n",
    "\t\t- QgsProperty\n",
    "\n",
    "SEGMENTS: Segmenty\n",
    "\n",
    "\tParameter type:\tQgsProcessingParameterNumber\n",
    "\n",
    "\tAccepted data types:\n",
    "\t\t- int\n",
    "\t\t- float\n",
    "\t\t- QgsProperty\n",
    "\n",
    "END_CAP_STYLE: Styl zakończenia\n",
    "\n",
    "\tParameter type:\tQgsProcessingParameterEnum\n",
    "\n",
    "\tAvailable values:\n",
    "\t\t- 0: zaokrąglony\n",
    "\t\t- 1: płaski\n",
    "\t\t- 2: kwadratowy\n",
    "\n",
    "\tAccepted data types:\n",
    "\t\t- int\n",
    "\t\t- str: liczba rzeczywista zapisana jako string, np. '1'\n",
    "\t\t- QgsProperty\n",
    "\n",
    "JOIN_STYLE: Styl połączenia\n",
    "\n",
    "\tParameter type:\tQgsProcessingParameterEnum\n",
    "\n",
    "\tAvailable values:\n",
    "\t\t- 0: zaokrąglony\n",
    "\t\t- 1: ostry\n",
    "\t\t- 2: ścięty\n",
    "\n",
    "\tAccepted data types:\n",
    "\t\t- int\n",
    "\t\t- str: liczba rzeczywista zapisana jako string, np. '1'\n",
    "\t\t- QgsProperty\n",
    "\n",
    "MITER_LIMIT: Limit fazy (uciosu)\n",
    "\n",
    "\tParameter type:\tQgsProcessingParameterNumber\n",
    "\n",
    "\tAccepted data types:\n",
    "\t\t- int\n",
    "\t\t- float\n",
    "\t\t- QgsProperty\n",
    "\n",
    "DISSOLVE: Agreguj wyniki\n",
    "\n",
    "\tParameter type:\tQgsProcessingParameterBoolean\n",
    "\n",
    "\tAccepted data types:\n",
    "\t\t- bool\n",
    "\t\t- int\n",
    "\t\t- str\n",
    "\t\t- QgsProperty\n",
    "\n",
    "OUTPUT: Bufor\n",
    "\n",
    "\tParameter type:\tQgsProcessingParameterFeatureSink\n",
    "\n",
    "\tAccepted data types:\n",
    "\t\t- str: docelowy plik wektorowy, np. 'd:/test.shp'\n",
    "\t\t- str: 'memory:' w celu zachowania wyników jako warstwa tymczasowa\n",
    "\t\t- str: ID dostawcy danych wektorowych i adresu URI przeznaczenia, np. 'postgres:…', aby zachować wynik w tabeli PostGIS\n",
    "\t\t- QgsProcessingOutputLayerDefinition\n",
    "\t\t- QgsProperty\n",
    "\n",
    "----------------\n",
    "Outputs\n",
    "----------------\n",
    "\n",
    "OUTPUT:  <QgsProcessingOutputVectorLayer>\n",
    "\tBufor"
   ]
  },
  {
   "cell_type": "markdown",
   "id": "74ccbdf8",
   "metadata": {},
   "source": [
    "Oznacza to, że zapytanie dla tej funkcji processingu będzie wyglądać tak:"
   ]
  },
  {
   "cell_type": "code",
   "execution_count": null,
   "id": "3df60502",
   "metadata": {},
   "outputs": [],
   "source": [
    "processing.run(\"native:buffer\", {'INPUT': '/data/lines.shp',\n",
    "              'DISTANCE': 100.0,\n",
    "              'SEGMENTS': 10,\n",
    "              'DISSOLVE': True,\n",
    "              'END_CAP_STYLE': 0,\n",
    "              'JOIN_STYLE': 0,\n",
    "              'MITER_LIMIT': 10,\n",
    "              'OUTPUT': '/data/buffers.shp'})"
   ]
  },
  {
   "cell_type": "markdown",
   "id": "2e5e7e8b",
   "metadata": {},
   "source": [
    "Argumenty podajemy zatem w formie słownika. Przy opisie funkcji podane są postacie argumentów jakie są akceptowalne w funkcji."
   ]
  },
  {
   "cell_type": "markdown",
   "id": "b506e7a2",
   "metadata": {},
   "source": [
    "To koniec części teoretycznej zajęć: Z powyższą wiedzą powinniście być w stanie napisać wtyczki z tematów wybieralnych na ćwiczeniach!"
   ]
  },
  {
   "cell_type": "code",
   "execution_count": null,
   "id": "1636810c",
   "metadata": {},
   "outputs": [],
   "source": []
  }
 ],
 "metadata": {
  "kernelspec": {
   "display_name": "Python 3 (ipykernel)",
   "language": "python",
   "name": "python3"
  },
  "language_info": {
   "codemirror_mode": {
    "name": "ipython",
    "version": 3
   },
   "file_extension": ".py",
   "mimetype": "text/x-python",
   "name": "python",
   "nbconvert_exporter": "python",
   "pygments_lexer": "ipython3",
   "version": "3.9.12"
  }
 },
 "nbformat": 4,
 "nbformat_minor": 5
}