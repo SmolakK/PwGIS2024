{
 "cells": [
  {
   "cell_type": "markdown",
   "id": "ebd4d0d6",
   "metadata": {},
   "source": [
    "# Moduł 4 - (Q)GIS - szczegółowo o geometrii"
   ]
  },
  {
   "cell_type": "markdown",
   "id": "dee80c05",
   "metadata": {},
   "source": [
    "## Podsumowanie dotychczasowej wiedzy\n",
    "\n",
    "Na ostatnich ćwiczeniach ładowaliśmy warstwy, dokonywaliśmy selekcji i uzyskiwaliśmy dostęp do wartości używając klas warstw wektorowych, rastrowych, projektu QGIS oraz dataProvider przekazującego dane. Na poprzednim wykładzie pokazane były metody dodawania obiektów, atrybutów, modyfikacje geometrii oraz trzy nowe, ważne klasy. Podsumowując:\n",
    "\n",
    "Dotychczas mówiliśmy o klasach:\n",
    "\n",
    "    QgsProject - klasa projektu\n",
    "\n",
    "    QgsVectorLayer - klasa warstwy wektorowej\n",
    "\n",
    "    QgsRasterLayer - klasa warstwy rastrowej\n",
    "\n",
    "    QgsFeature - klasa obiektu warstwy wektorowej\n",
    "\n",
    "    QgsField - klasa pola wartości w atrybutach warstwy wektorowej\n",
    "\n",
    "    QgsGeometry - klasa geometrii obiektu\n",
    "    \n",
    "    QVariant - klasa typu danych\n",
    "\n",
    "    iface - odwołanie do klasy interfejsu aplikacji,\n",
    "\n",
    "O klasach geometrii:\n",
    "\n",
    "    QgsPoint, QgsPointXY,\n",
    "\n",
    "    QgsPolygonXY\n",
    "\n",
    "    QgsPolylineXY\n",
    "\n",
    "Oraz ważnej metodzie dataProvider() dającej dostęp do danych i właściwości obiektów warstw.\n",
    "\n",
    "Poznaliśmy również sposoby tworzenia geometrii:\n",
    "\n",
    "    z koordynatów:\n",
    "        \n",
    "        punkt = QgsGeometry.fromPointXY(QgsPointXY(1,1)) #Różnica między QgsPoint a QgsPointXY jest taka, że pierwsza wspiera wymiar Z lub M\n",
    "        \n",
    "        linia = QgsGeometry.fromPolyline([QgsPoint(1,1), QgsPoint(2,2)])\n",
    "        \n",
    "        polygon = QgsGeometry.fromPolygonXY([[QgsPointXY(1,1),QgsPointXY(2,2), QgsPointXY(2,1)]])\n",
    "    \n",
    "    Z WKT:\n",
    "\n",
    "        geom = QgsGeometry.fromWkt(\"POINT(3 4)\")\n",
    "\n",
    "    Z WKB (tego nie było, uzupełniam dla ciekawości, nie będziemy stosować):\n",
    "\n",
    "        wkb = bytes.fromhex(\"010100000000000000000045400000000000001440\") g.fromWkb(wkb)"
   ]
  },
  {
   "cell_type": "markdown",
   "id": "67babbc9",
   "metadata": {},
   "source": [
    "Oraz metody dostępu do geometrii:\n",
    "\n",
    "<h3> Dostęp do geometrii: </h3>\n",
    "\n",
    "    geometria.asPoint()\n",
    "    \n",
    "    geometria.asMultiPoint()\n",
    "    \n",
    "    geometria.asPolyline()\n",
    "    \n",
    "    geometria.asMultiPolyline()\n",
    "    \n",
    "    geometria.asPolygon()\n",
    "    \n",
    "    geometria.asMultiPolygon()\n",
    "    \n",
    "    geometria.asWkt()\n",
    "    \n",
    "    geometria.asWkb()\n",
    "    "
   ]
  },
  {
   "cell_type": "markdown",
   "id": "34d6e5b5",
   "metadata": {},
   "source": [
    "Sprawdźmy to praktyce na paru przykładach. Ładuję do QGIS warstwę nazwaną Budynki_JG.shp. Poniżej zamieszczam kod i wyniki, do własnego przetestowania.\n",
    "\n",
    "Na początku otwieram okno konsoli Pythona i edytora:"
   ]
  },
  {
   "cell_type": "markdown",
   "id": "5e516c04",
   "metadata": {},
   "source": [
    "<img src='cw6_img/1.png'/>"
   ]
  },
  {
   "cell_type": "markdown",
   "id": "2559699a",
   "metadata": {},
   "source": [
    "Zacznijmy od wybrania jednego obiektu z warstwy:"
   ]
  },
  {
   "cell_type": "code",
   "execution_count": 1,
   "id": "d6aaeb4c",
   "metadata": {},
   "outputs": [
    {
     "ename": "NameError",
     "evalue": "name 'iface' is not defined",
     "output_type": "error",
     "traceback": [
      "\u001b[1;31m---------------------------------------------------------------------------\u001b[0m",
      "\u001b[1;31mNameError\u001b[0m                                 Traceback (most recent call last)",
      "Input \u001b[1;32mIn [1]\u001b[0m, in \u001b[0;36m<cell line: 1>\u001b[1;34m()\u001b[0m\n\u001b[1;32m----> 1\u001b[0m warstwa \u001b[38;5;241m=\u001b[39m \u001b[43miface\u001b[49m\u001b[38;5;241m.\u001b[39mactiveLayer()\n\u001b[0;32m      2\u001b[0m features \u001b[38;5;241m=\u001b[39m [obiekt \u001b[38;5;28;01mfor\u001b[39;00m obiekt \u001b[38;5;129;01min\u001b[39;00m warstwa\u001b[38;5;241m.\u001b[39mgetFeatures()]\n\u001b[0;32m      3\u001b[0m pierwszy_obiekt \u001b[38;5;241m=\u001b[39m features[\u001b[38;5;241m0\u001b[39m]\n",
      "\u001b[1;31mNameError\u001b[0m: name 'iface' is not defined"
     ]
    }
   ],
   "source": [
    "warstwa = iface.activeLayer()\n",
    "features = [obiekt for obiekt in warstwa.getFeatures()]\n",
    "pierwszy_obiekt = features[0] #pierwszy obiekt"
   ]
  },
  {
   "cell_type": "markdown",
   "id": "72fadbec",
   "metadata": {},
   "source": [
    "Odczytujemy jego geometrię:"
   ]
  },
  {
   "cell_type": "code",
   "execution_count": null,
   "id": "3663193f",
   "metadata": {},
   "outputs": [],
   "source": [
    "geom = pierwszy_obiekt.geometry()"
   ]
  },
  {
   "cell_type": "markdown",
   "id": "d8474511",
   "metadata": {},
   "source": [
    "print(geom) zwraca:"
   ]
  },
  {
   "cell_type": "markdown",
   "id": "28ff4ffa",
   "metadata": {},
   "source": [
    "<QgsGeometry: MultiPolygon (((15.7402792999999992 50.9030161000000021, 15.74068950000000022 50.90302559999999943, 15.74071329999999946 50.90275609999999773, 15.74046760000000056 50.90274749999999671, 15.74030860000000054 50.90274089999999774, 15.7402792999999992 50.9030161000000021),(15.74040630000000007 50.90285010000000199, 15.74041360000000012 50.90277679999999805, 15.74056419999999967 50.90278289999999828, 15.74055689999999963 50.90285620000000222, 15.74040630000000007 50.90285010000000199)))>"
   ]
  },
  {
   "cell_type": "markdown",
   "id": "dc27a578",
   "metadata": {},
   "source": [
    "A to już jak wiemy, zostało zdefiniowane w metodzie __str__ klasy QgsGeometry.\n",
    "\n",
    "Spójrzmy teraz na inne reprezentacje:"
   ]
  },
  {
   "cell_type": "code",
   "execution_count": null,
   "id": "0879ab83",
   "metadata": {},
   "outputs": [],
   "source": [
    "print(geom.asMultiPolygon()) #oczywiście każda metoda jest do wyświetlania innych obiektów"
   ]
  },
  {
   "cell_type": "markdown",
   "id": "d3671e5f",
   "metadata": {},
   "source": [
    "Musieliśmy zastosować metodę MultiPolygon - jak widać z `print(geom)` z taką geometrią mamy do czynienia. Wynik:\n",
    "\n",
    "[[[<QgsPointXY: POINT(15.7402792999999992 50.9030161000000021)>, <QgsPointXY: POINT(15.74068950000000022 50.90302559999999943)>, <QgsPointXY: POINT(15.74071329999999946 50.90275609999999773)>, <QgsPointXY: POINT(15.74046760000000056 50.90274749999999671)>, <QgsPointXY: POINT(15.74030860000000054 50.90274089999999774)>, <QgsPointXY: POINT(15.7402792999999992 50.9030161000000021)>], [<QgsPointXY: POINT(15.74040630000000007 50.90285010000000199)>, <QgsPointXY: POINT(15.74041360000000012 50.90277679999999805)>, <QgsPointXY: POINT(15.74056419999999967 50.90278289999999828)>, <QgsPointXY: POINT(15.74055689999999963 50.90285620000000222)>, <QgsPointXY: POINT(15.74040630000000007 50.90285010000000199)>]]]\n",
    "\n",
    "Jakie daje nam to możliwości? Widzimy że dostaliśmy listę (zagnieżdżoną) obiektów klasy QgsPointXY - w ten sposób mamy dostęp do każdego wierzchołka geometrii obiektu.\n",
    "\n",
    "Przyjrzyjmy się tej liście. Widzimy że jest zagnieżdżona 3-krotnie:\n",
    "\n",
    "Poziom 1 - bo MultiPolygon - czyli może zawierać wiele wieloboków\n",
    "Poziom 2 - bo uwzględnia \"otwory\" w geometrii\n",
    "Poziom 3 - przechowuje kolejne wierzchołki.\n",
    "\n",
    "Na poziomie 1 mamy tylko jeden obiekt. Na poziomie 2 mamy dwie listy - pech (lub szczęście) chciało, że pierwszy obiekt jest geometrią z otworem. Dobrze zatem widać, jak działa definicja geometrii wieloboku. Nasz obiekt wygląda tak:\n",
    "\n",
    "(Ps. wybrałem go za pomocą polecenia warstwa.selectByIds([pierwszy_obiekt.id()]) - wtedy podświetla się na mapie)"
   ]
  },
  {
   "cell_type": "markdown",
   "id": "ad783aa6",
   "metadata": {},
   "source": [
    "<img src='cw6_img/2.png'/>"
   ]
  },
  {
   "cell_type": "markdown",
   "id": "ee92486b",
   "metadata": {},
   "source": [
    "Aby dostać się do wierzchołka obiektu należy skorzystać indeks. Na przykład pierwszy wierzchołek otworu:"
   ]
  },
  {
   "cell_type": "code",
   "execution_count": null,
   "id": "dd1078c4",
   "metadata": {},
   "outputs": [],
   "source": [
    "print(geom.asMultiPolygon()[0][1][0])"
   ]
  },
  {
   "cell_type": "markdown",
   "id": "a87acab7",
   "metadata": {},
   "source": [
    "Sprwadźmy jeszcze reprezentację WKT:"
   ]
  },
  {
   "cell_type": "code",
   "execution_count": null,
   "id": "5ed64bc1",
   "metadata": {},
   "outputs": [],
   "source": [
    "print(geom.asWkt())"
   ]
  },
  {
   "cell_type": "markdown",
   "id": "20f9f156",
   "metadata": {},
   "source": [
    "MultiPolygon (((15.7402792999999992 50.9030161000000021, 15.74068950000000022 50.90302559999999943, 15.74071329999999946 50.90275609999999773, 15.74046760000000056 50.90274749999999671, 15.74030860000000054 50.90274089999999774, 15.7402792999999992 50.9030161000000021),(15.74040630000000007 50.90285010000000199, 15.74041360000000012 50.90277679999999805, 15.74056419999999967 50.90278289999999828, 15.74055689999999963 50.90285620000000222, 15.74040630000000007 50.90285010000000199)))"
   ]
  },
  {
   "cell_type": "markdown",
   "id": "22abfc21",
   "metadata": {},
   "source": [
    "Reprezentacja WKB za wiele nam nie powie (tylko tyle, że jest to binarna reprezentacja):"
   ]
  },
  {
   "cell_type": "code",
   "execution_count": null,
   "id": "06bab13c",
   "metadata": {},
   "outputs": [],
   "source": [
    "print(geom.asWkb())"
   ]
  },
  {
   "cell_type": "markdown",
   "id": "0f4c8b86",
   "metadata": {},
   "source": [
    "b'\\x01\\x06\\x00\\x00\\x00\\x01\\x00\\x00\\x00\\x01\\x03\\x00\\x00\\x00\\x02\\x00\\x00\\x00\\x06\\x00\\x00\\x00\\xc1\\xcfn\\xe3\\x05{/@x\\xa1\\x14\\x08\\x96sI@/\\xfbu\\xa7;{/@\\xb3\\xb9\\xc5W\\x96sI@\\xaal\\x0e\\xc6>{/@\\xdb\\xe1\\n\\x83\\x8dsI@\\xc7~\\xbb\\x91\\x1e{/@\\xdb\\x85\\xe6:\\x8dsI@%\\xe5\\x93\\xba\\t{/@|!\\x89\\x03\\x8dsI@\\xc1\\xcfn\\xe3\\x05{/@x\\xa1\\x14\\x08\\x96sI@\\x05\\x00\\x00\\x006\\x81\\xd8\\x88\\x16{/@]X\\x92\\x97\\x90sI@\\xfa\\x06\\xcb}\\x17{/@4\\xcb\\xaf0\\x8esI@C-\\x17;+{/@\\xabq\\xdbc\\x8esI@\\x7f\\xa7$F*{/@\\xd4\\xfe\\xbd\\xca\\x90sI@6\\x81\\xd8\\x88\\x16{/@]X\\x92\\x97\\x90sI@'"
   ]
  },
  {
   "cell_type": "markdown",
   "id": "0f3c7791",
   "metadata": {},
   "source": [
    "Dobrze, ale po co nam to?\n",
    "\n",
    "W ten sposób możemy wygodnie kopiować i zmieniać geometrię obiektów w QGIS. Tak jak w zadaniu 3 z listy 6.\n",
    "Zobaczmy na innym przykładzie (komentarze opisują proces):"
   ]
  },
  {
   "cell_type": "code",
   "execution_count": null,
   "id": "b6361cfe",
   "metadata": {},
   "outputs": [],
   "source": [
    "warstwa = iface.activeLayer() #obecna warstwa\n",
    "features = [obiekt for obiekt in warstwa.getFeatures()] #iteracja przez obiektu\n",
    "pierwszy_obiekt = features[0] #pierwszy obiekt\n",
    "\n",
    "geom = pierwszy_obiekt.geometry() #pobieramy geometrię\n",
    "nowa_geometria = [] #szykujemy listy na nową geometrię\n",
    "nowy_otwor = []\n",
    "\n",
    "for obiekt in geom.asMultiPolygon(): #iteracja przez obiekty w MultiPolygon (jest 1)\n",
    "    nowa_geometria.append(obiekt[0]) #obrys sobie przepisujemy\n",
    "    for wierzcholek in obiekt[1]: #Iteracja przez wierzcholki otworu\n",
    "        wierzcholek.setX(wierzcholek.x()+.1) #Przesuwamy wspolrzedna X o .1 (w stopniach)\n",
    "        nowy_otwor.append(wierzcholek) #dodajemy zmienioną geometrię do listy\n",
    "\n",
    "nowa_geometria.append(nowy_otwor) #dodajemy zmieniony otwor do listy z nową geometrią\n",
    "nowa_geometria = QgsGeometry.fromPolygonXY(nowa_geometria) #i tworzymy z niej klasę QgsGeometry\n",
    "\n",
    "warstwa.dataProvider().changeGeometryValues({0: nowa_geometria}) #zmieniamy geometrię obiektu"
   ]
  },
  {
   "cell_type": "markdown",
   "id": "12cdf966",
   "metadata": {},
   "source": [
    "W rezultacie zmieniliśmy geometrię otworu. Tak naprawdę odsunęliśmy trochę za daleko i znikł :)\n",
    "\n",
    "<img src='cw6_img/3.png'/>"
   ]
  },
  {
   "cell_type": "code",
   "execution_count": 1,
   "id": "1a426a80",
   "metadata": {},
   "outputs": [
    {
     "data": {
      "text/plain": [
       "111.11111111111111"
      ]
     },
     "execution_count": 1,
     "metadata": {},
     "output_type": "execute_result"
    }
   ],
   "source": [
    "40000/360"
   ]
  },
  {
   "cell_type": "markdown",
   "id": "89ff2c74",
   "metadata": {},
   "source": [
    "## Sprawdzanie typu geometrii\n",
    "\n",
    "Wykorzystujemy do tego zapytanie wkbType(), które wykonujemy na geometrii. Zwracana jest enumeracja z definicjki klasy QgsWkbTypes. Dla naszego obiektu:"
   ]
  },
  {
   "cell_type": "code",
   "execution_count": null,
   "id": "09aa61f9",
   "metadata": {},
   "outputs": [],
   "source": [
    "print(geom.wkbType())"
   ]
  },
  {
   "cell_type": "markdown",
   "id": "0f8ec86b",
   "metadata": {},
   "source": [
    "Zwraca: 6\n",
    "\n",
    "Zaglądamy do dokumentacji i widzimy, że 6 = MultiPolygon\n"
   ]
  },
  {
   "cell_type": "markdown",
   "id": "626dc761",
   "metadata": {},
   "source": [
    "<img src='cw6_img/4.png'/>"
   ]
  },
  {
   "cell_type": "markdown",
   "id": "1daad5c6",
   "metadata": {},
   "source": [
    "Chcielibyśmy to robić jednak programistycznie. Możemy sprawdzić geometrię warunkiem i otrzymać wartośc logiczną poprzez odwołanie się do klasy QgsWkbTypes. Na przykład nasza geometria powinna zwrócić True dla QgsWkbTypes.MultiPolygon:"
   ]
  },
  {
   "cell_type": "markdown",
   "id": "75f33d01",
   "metadata": {},
   "source": [
    "    geom.wkbType() == QgsWkbTypes.Point\n",
    "\n",
    "    geom.wkbType() == QgsWkbTypes.LineString\n",
    "\n",
    "    geom.wkbType() == QgsWkbTypes.Polygon\n",
    "\n",
    "    geom.wkbType() == QgsWkbTypes.MultiPolygon\n",
    "\n",
    "Zwraca:\n",
    "\n",
    "    False\n",
    "\n",
    "    False\n",
    "\n",
    "    False\n",
    "\n",
    "    True\n",
    "    \n",
    "Samo QgsWkbTypes.MultiPolygon zwraca po prostu cyfrę 6."
   ]
  },
  {
   "cell_type": "markdown",
   "id": "a53c78e3",
   "metadata": {},
   "source": [
    "## Operatory geometrii"
   ]
  },
  {
   "cell_type": "markdown",
   "id": "f219348f",
   "metadata": {},
   "source": [
    "QGIS udostępnia narzędzia analizy przestrzennej wprost w formie metod. Pozwalają na wykonywanie operacji analizy przestrzennej bezpośrednio w Pythonie QGISa. Metody te to:\n",
    "\n",
    "Zwracające informację:\n",
    "\n",
    "    area - zwraca powierzchnię\n",
    "    length - zwraca długość obiektu\n",
    "    centroid - zwraca centroid obiektu\n",
    "    \n",
    "Zwracające geometrię:\n",
    "\n",
    "    buffer - tworzy bufor\n",
    "    combine - zwraca sumę obiektów\n",
    "    intersection - zwraca przeciecie obiektow\n",
    "    \n",
    "Zwracają wartośc logiczną:\n",
    "\n",
    "    compare - porównuje geometrię\n",
    "    contains - sprawdza czy jeden obiekt zawiera drugi\n",
    "    crosses - sprawdza czy jeden obiekt przecina drugi\n",
    "    equal - sprawdza czy obiekty sa takie same\n",
    "    disjoint - sprawdza czy obiekty sa rozlaczne\n",
    "    distance - sprawdza czy obiekty sa w zakresie pewnego dystanu\n",
    "    intersects - sprawdza czy obiekty sie przecinaja\n",
    "    overlaps - sprawdza czy obiekty sie nakladaja\n",
    "    touches - sprawdza czy obiekty sie stykają\n",
    "    within - sprawdza czy obiekt jest zawarty w innym obiekcie"
   ]
  },
  {
   "cell_type": "markdown",
   "id": "fe2afcf4",
   "metadata": {},
   "source": [
    "### Operatory informacji geometrycznej"
   ]
  },
  {
   "cell_type": "markdown",
   "id": "4385f7ad",
   "metadata": {},
   "source": [
    "Zacznijmy od operatorów zwracających informację o pojedynczym obiekcie. Używaliśmy ich już wczesniej:"
   ]
  },
  {
   "cell_type": "markdown",
   "id": "d24963db",
   "metadata": {},
   "source": [
    "print(geom.area())\n",
    "print(geom.length())\n",
    "print(geom.centroid())"
   ]
  },
  {
   "cell_type": "markdown",
   "id": "ca1ddf36",
   "metadata": {},
   "source": [
    "    1.2225330000197065e-07 - powierzchnia budynku w mierze stopniowej\n",
    "    \n",
    "    0.0018113738023408103 - obwód w mierze stopniowej\n",
    "    \n",
    "    <QgsGeometry: Point (15.74956188262261669 50.90287886603740475)> - centroid w aktualnym układzie"
   ]
  },
  {
   "cell_type": "markdown",
   "id": "8326fe73",
   "metadata": {},
   "source": [
    "### Przykład zastosowania operatorów geometrycznych - bufor\n",
    "\n",
    "Utworzymy teraz bufory pierwszych 50 budynków z wykorzystaniem warswy tymczasowej i metody buffer."
   ]
  },
  {
   "cell_type": "code",
   "execution_count": null,
   "id": "29af0ccd",
   "metadata": {},
   "outputs": [],
   "source": [
    "warstwa = iface.activeLayer() #akutalna warstwa\n",
    "features = [obiekt for obiekt in warstwa.getFeatures()][:50] #50 obiektów\n",
    "nowe = [] #lista z nowymi obiektami\n",
    "for x in features: #iteracja po obiektach\n",
    "    new_geom = x.geometry().buffer(0.0004,-1) #robimy bufor na 0.0004 stopnia kątowego - 1 onacza liczbe segmentow - możlwie wiele\n",
    "    nowe.append(new_geom) #dodajmy geometrię do listy\n",
    "    \n",
    "mem_layer = QgsVectorLayer(\"Polygon\",\"Buffer\",\"memory\") #tworzymy warstwę tymczasową\n",
    "pr = mem_layer.dataProvider() #przez dataProvider\n",
    "for n in range(len(nowe)): \n",
    "    bufor = QgsFeature(n) #tworzmy nowe obiekty o indeksie rosnącym\n",
    "    bufor.setGeometry(nowe[n]) #ustalamy ich geometrię z listy\n",
    "    pr.addFeatures([bufor]) #dodajemy przez dataProvider do warstwy\n",
    "QgsProject.instance().addMapLayer(mem_layer) #dodajemy warstwę do okna mapy"
   ]
  },
  {
   "cell_type": "markdown",
   "id": "36be9b8a",
   "metadata": {},
   "source": [
    "Wynik:"
   ]
  },
  {
   "cell_type": "markdown",
   "id": "978d61d1",
   "metadata": {},
   "source": [
    "<img src='cw6_img/5.png'/>"
   ]
  },
  {
   "cell_type": "markdown",
   "id": "f7bad6ee",
   "metadata": {},
   "source": [
    "### Przykład operatorów geometrycznych - intersection"
   ]
  },
  {
   "cell_type": "markdown",
   "id": "f0f929c2",
   "metadata": {},
   "source": [
    "Metoda intersection - przecięcie wymaga podania dwóch geometrii. Wykorzystajmy  nasze bufory, które niewątpliwie się pokrywają, żeby dokonać przecięcia. W poniższym przykładzie przecinamy tylko obiekty o sąsiadujących indeksach, a zatem obiekt 1 z 2, 2 z 3 itd. Przecięcie wszystkich wymagałoby utworzenia par wszystkich kombinacji indeksów."
   ]
  },
  {
   "cell_type": "code",
   "execution_count": null,
   "id": "9b2bc327",
   "metadata": {},
   "outputs": [],
   "source": [
    "warstwa = iface.activeLayer() #zaznaczamy warstwę bufory w oknie Warstwy\n",
    "features = [obiekt for obiekt in warstwa.getFeatures()][:50]\n",
    "nowe = []\n",
    "for x in range(len(features)-1): #po indeksach listy  - 1, bo x+1 spowodowałoby wyjście poza indeksy\n",
    "    new_geom = features[x].geometry().intersection(features[x+1].geometry()) #przecięcie geometrii x z x+1\n",
    "    nowe.append(new_geom)\n",
    "    \n",
    "\n",
    "mem_layer = QgsVectorLayer(\"Polygon\",\"Buffer_Intersection\",\"memory\") #warstwa tymczasowa j.w.\n",
    "pr = mem_layer.dataProvider()\n",
    "for n in range(len(nowe)):\n",
    "    bufor = QgsFeature(n)\n",
    "    bufor.setGeometry(nowe[n])\n",
    "    pr.addFeatures([bufor])\n",
    "QgsProject.instance().addMapLayer(mem_layer)"
   ]
  },
  {
   "cell_type": "markdown",
   "id": "b634f24d",
   "metadata": {},
   "source": [
    "<img src='cw6_img/6.png'/>"
   ]
  },
  {
   "cell_type": "markdown",
   "id": "244faf0e",
   "metadata": {},
   "source": [
    "### Przykład operatorów logicznych geometrii"
   ]
  },
  {
   "cell_type": "code",
   "execution_count": null,
   "id": "2cf8bbc6",
   "metadata": {},
   "outputs": [],
   "source": [
    "import numpy as np #skorzystamy z Numpy, żeby sprwadzić czy budynki się przecinają.\n",
    "\n",
    "warstwa = iface.activeLayer() #tym razem Budynki_JG\n",
    "features = [obiekt for obiekt in warstwa.getFeatures()][:50]\n",
    "lista_przeciec = []\n",
    "for x in range(len(features)):\n",
    "    for y in range(len(features)):\n",
    "        if x != y: #żeby nie przecinał ze sobą tych samych obiektów\n",
    "            if_true = features[x].geometry().intersects(features[y].geometry()) \n",
    "            lista_przeciec.append(if_true)\n",
    "\n",
    "print(np.array(lista_przeciec).any())"
   ]
  },
  {
   "cell_type": "markdown",
   "id": "b4f1e528",
   "metadata": {},
   "source": [
    "Otrzymujemy True, więc coś się przecina. Możemy sprawdzić w którym miejscu listy:"
   ]
  },
  {
   "cell_type": "code",
   "execution_count": null,
   "id": "910da2e5",
   "metadata": {},
   "outputs": [],
   "source": [
    "print(np.where(np.array(lista_przeciec) == True))"
   ]
  },
  {
   "cell_type": "markdown",
   "id": "e48e149e",
   "metadata": {},
   "source": [
    "    (array([ 300,  349,  800,  849,  950,  999, 1150, 1199, 1300, 1349, 1350,\n",
    "       1399, 1950, 1999], dtype=int64),)\n",
    "       \n",
    "Oczywiście są to indeksy listy, nie indeksy obiektów. Należałoby połączyć indeks listy z obiektami."
   ]
  },
  {
   "cell_type": "markdown",
   "id": "3aa928b4",
   "metadata": {},
   "source": [
    "## Konwersja jednostek stopniowych do innych"
   ]
  },
  {
   "cell_type": "markdown",
   "id": "e4d41b1f",
   "metadata": {},
   "source": [
    "Założmy, że tak jak w tym przypadku nasza warstwa jest w układzie WGS84, który jest kątowy. Jak w takiej sytuacji uzyskać wyniki w metrach?\n",
    "\n",
    "1. Konwertować wszystkie warstwy do układu metrycznego poprzez ich zapis,\n",
    "2. Konwertować tymczasowo w projekcie,\n",
    "3. W przypadku długości, odległości skorzystać z klasy QgsDistanceArea\n",
    "\n",
    "Zacznijmy od nr 3:"
   ]
  },
  {
   "cell_type": "markdown",
   "id": "1a792370",
   "metadata": {},
   "source": [
    "### Konwersja jednostek w obliczeniach geometrii"
   ]
  },
  {
   "cell_type": "code",
   "execution_count": null,
   "id": "99eb1f82",
   "metadata": {},
   "outputs": [],
   "source": [
    "warstwa = iface.activeLayer()\n",
    "features = [obiekt.geometry() for obiekt in warstwa.getFeatures()][:50]\n",
    "\n",
    "d = QgsDistanceArea() #nowa klasa - klasa pomiaru odległości lub obszaru\n",
    "d.setEllipsoid('WGS84') #wybieramy elipsoidę na której mierzymy\n",
    "\n",
    "for x in features:\n",
    "    print(d.measureArea(x)) #metoda pomiaru powierzchni, domyślnie w metrach"
   ]
  },
  {
   "cell_type": "markdown",
   "id": "10d4356b",
   "metadata": {},
   "source": [
    "Możemy obliczać powierzchnię w innych jednostkach:"
   ]
  },
  {
   "cell_type": "code",
   "execution_count": null,
   "id": "4696ce5b",
   "metadata": {},
   "outputs": [],
   "source": [
    "warstwa = iface.activeLayer()\n",
    "features = [obiekt.geometry() for obiekt in warstwa.getFeatures()][:5]\n",
    "\n",
    "d = QgsDistanceArea()\n",
    "d.setEllipsoid('WGS84')\n",
    "d.areaUnits()\n",
    "\n",
    "for x in features:\n",
    " "
   ]
  },
  {
   "cell_type": "markdown",
   "id": "45f29199",
   "metadata": {},
   "source": [
    "Jednostki, z których możemy skorzystac znajdziemy w dokumentacji:\n",
    "\n",
    "<img src='cw6_img/7.png'/>\n",
    "\n",
    "Dla długości metoda to measureLength(), resztę wykonujemy analogicznie."
   ]
  },
  {
   "cell_type": "markdown",
   "id": "fe595ab2",
   "metadata": {},
   "source": [
    "### Transformacje warstw"
   ]
  },
  {
   "cell_type": "markdown",
   "id": "422446a3",
   "metadata": {},
   "source": [
    "<b> Nowa klasa </b> klasa układu odniesienia:\n",
    "     \n",
    "    QgsCoordinateReferenceSystem\n",
    "    \n",
    "Definiowanie układu:"
   ]
  },
  {
   "cell_type": "code",
   "execution_count": null,
   "id": "b13341ef",
   "metadata": {},
   "outputs": [],
   "source": [
    "uklad = QgsCoordinateReferenceSystem(4326, QgsCoordinateReferenceSysten.PostgisCrsId)\n",
    "#Definiujemy uklad na podstawie id jak w PostGIS"
   ]
  },
  {
   "cell_type": "code",
   "execution_count": null,
   "id": "f9750ba5",
   "metadata": {},
   "outputs": [],
   "source": [
    "wgs = QgsCoordinateReferenceSystem(4326,QgsCoordinateReferenceSystem.EpsgCrsId)\n",
    "#Lub na podstawie numery EPSG"
   ]
  },
  {
   "cell_type": "markdown",
   "id": "6fec3a47",
   "metadata": {},
   "source": [
    "Układ naszej obecnej warstwy to (podaje EPSG):"
   ]
  },
  {
   "cell_type": "code",
   "execution_count": null,
   "id": "d6e5a68b",
   "metadata": {},
   "outputs": [],
   "source": [
    "warstwa.crs()"
   ]
  },
  {
   "cell_type": "markdown",
   "id": "650489e6",
   "metadata": {},
   "source": [
    "<QgsCoordinateReferenceSystem: EPSG:4326>\n",
    "\n",
    "Z klasy możemy pozyskać atrybuty:\n",
    "\n",
    "    uklad.srsid() - EPSG\n",
    "\n",
    "    uklad.postgisSrid() - ID układu z PostGIS\n",
    "\n",
    "    uklad.description() - opis\n",
    "   \n",
    "    uklad.mapUnits() - jednostka układu, zgodnie z enumeracją z dokumentacji (https://qgis.org/api/classQgsUnitTypes.html#a0602e8a06afd37c267e9e532bb27f50d  - tutaj 6 = kątowa)"
   ]
  },
  {
   "cell_type": "markdown",
   "id": "68760333",
   "metadata": {},
   "source": [
    "Proces transformacji jak poniżej:"
   ]
  },
  {
   "cell_type": "code",
   "execution_count": null,
   "id": "dfc2a7c9",
   "metadata": {},
   "outputs": [],
   "source": [
    "z = QgsCoordinateReferenceSystem(4326) #domyślnie EPSG\n",
    "do = QgsCoordinateReferenceSystem(2177) #uklad2000\n",
    "\n",
    "transformacja = QgsCoordinateTransform(z,do, QgsProject.instance()) \n",
    "#przygotowujemy transformację w projekcie\n",
    "\n",
    "warstwa = iface.activeLayer()\n",
    "features = [obiekt.geometry() for obiekt in warstwa.getFeatures()][:50] #pierwsze 50 geometrii\n",
    "for x in features:\n",
    "    x.transform(transformacja) #dokonujemy transformacji\n",
    "    print(x) #wyświetla nam się transformowana geometria\n",
    "    "
   ]
  },
  {
   "cell_type": "markdown",
   "id": "dd963166",
   "metadata": {},
   "source": [
    "Transformujmy więc pierwsze 50 budynków na warstwę tymczasową:"
   ]
  },
  {
   "cell_type": "code",
   "execution_count": null,
   "id": "65cb989f",
   "metadata": {},
   "outputs": [],
   "source": [
    "z = QgsCoordinateReferenceSystem(4326) #domyślnie EPSG\n",
    "do = QgsCoordinateReferenceSystem(2177) #uklad2000\n",
    "\n",
    "transformacja = QgsCoordinateTransform(z,do, QgsProject.instance()) \n",
    "#przygotowujemy transformację w projekcie\n",
    "\n",
    "warstwa = iface.activeLayer()\n",
    "\n",
    "nowa_warstwa = QgsVectorLayer(\"Polygon\",\"nowa\",\"memory\")\n",
    "nowa_warstwa.setCrs(do) #a co będzie bez? Tutaj ustalamy metadaną nowej warstwy, bez niej QGIS nie wie w jakim układzie jest warstwa == błąd\n",
    "\n",
    "features = [obiekt for obiekt in warstwa.getFeatures()][:50] #tym razem lista obiektów nie geometrii!\n",
    "\n",
    "for x in features:\n",
    "    geometria = x.geometry()\n",
    "    geometria.transform(transformacja)\n",
    "    x.setGeometry(geometria) #nadpisujemy obiekt, stąd pobraliśmy listę obiektów\n",
    "    \n",
    "    nowa_warstwa.dataProvider().addFeatures([x]) #dodajemy obiekty do nowej warstwy - możemy tak, bo skopiowaliśmy całe obiekty\n",
    "    \n",
    "QgsProject.instance().addMapLayer(nowa_warstwa)"
   ]
  },
  {
   "cell_type": "markdown",
   "id": "753e511d",
   "metadata": {},
   "source": [
    "<img src='cw6_img/8.png'/>"
   ]
  },
  {
   "cell_type": "markdown",
   "id": "7adeda4c",
   "metadata": {},
   "source": [
    "Transformowane obiekty podświetlone są innym kolorem. Oczywście dzięki transformacji w locie, znajdują się w tym samym miejscu."
   ]
  },
  {
   "cell_type": "markdown",
   "id": "5f7fc1c1",
   "metadata": {},
   "source": [
    "## Ekstra gratis do ćwiczeń:\n",
    "\n",
    "### Warstwy tymczasowe\n",
    "\n",
    "W QGIS2 warstwy tymaczasowe nie były w ogóle dopuszczalne w aplikacji QGISa. W QGIS3 są, lecz nie zawsze. Należy pamiętać że nie zawsze nadają się do geoprocessingu. Pozwalają oszczędzić pamięć i miejsce na dysku twardym podczas operacji."
   ]
  },
  {
   "cell_type": "code",
   "execution_count": null,
   "id": "e9712548",
   "metadata": {},
   "outputs": [],
   "source": [
    "from qgis.PyQt.QtCore import QVariant\n",
    "\n",
    "#pusta warstwa w pamięci\n",
    "temp_vlayer = QgsVectorLayer(\"Point\", \"tymczasowe_punkty\", \"memory\") #zamiast \"ogr\" dajemy \"memory\", a zamiast nazwy jej charakter (punktowy \"Point\")\n",
    "pr = temp_vlayer.dataProvider() #dataProvider warstwy tymaczasowej\n",
    "\n",
    "#Atrybuty - pola\n",
    "pr.addAttributes([QgsField(\"nazwa\", QVariant.String), QgsField(\"wiek\",QVariant.Int)])\n",
    "temp_vlayer.updateFields()\n",
    "\n",
    "#obiekt\n",
    "feat = QgsFeature() #pusty obiekt\n",
    "#Geometria\n",
    "feat.setGeometry(QgsGeometry.fromPointXY(QgsPointXY(10,10)))\n",
    "#Atrybuty\n",
    "feat.setAttributes([\"Bobby\",12])\n",
    "#Dodaj\n",
    "pr.addFeatures([feat])\n",
    "temp_vlayer.updateExtents() #odśwież warstwę"
   ]
  },
  {
   "cell_type": "markdown",
   "id": "0d014662",
   "metadata": {},
   "source": [
    "I teraz możemy ją dodac do okna mapy:"
   ]
  },
  {
   "cell_type": "code",
   "execution_count": null,
   "id": "d5b2b66c",
   "metadata": {},
   "outputs": [],
   "source": [
    "QgsProject.instance().addMapLayer(temp_vlayer)"
   ]
  },
  {
   "cell_type": "markdown",
   "id": "67142adf",
   "metadata": {},
   "source": [
    "### Zapis warstw\n",
    "\n",
    "Zapisywanie warstw wektorowych obsługuje inna klasa - $QgsVectorFileWriter$ i jej funkcja $writeAsVectorFormat()$, która wspiera wszystkie formaty danych OGR (GeoPackage, Shapefile, GeoJSON, KML i inne)"
   ]
  },
  {
   "cell_type": "code",
   "execution_count": null,
   "id": "d41f02db",
   "metadata": {},
   "outputs": [],
   "source": [
    "QgsVectorFileWriter.writeAsVectorFormat(warstwa, \"nazwa\", \"UTF-8\") #(warstwa, nazwa, kodowanie znaków)"
   ]
  },
  {
   "cell_type": "code",
   "execution_count": null,
   "id": "e9bdbd26",
   "metadata": {},
   "outputs": [],
   "source": [
    "QgsVectorFileWriter.writeAsVectorFormat(warstwa, \"nazwa\", \"UTF-8\", driverName=\"GeoJSON\")"
   ]
  },
  {
   "cell_type": "code",
   "execution_count": null,
   "id": "1673c322",
   "metadata": {},
   "outputs": [],
   "source": [
    "crs = QgsCoordinateReferenceSystem(\"epsg:4326\")\n",
    "QgsVecotFileWriter.writeAsVectorFormat(warswa, \"nazwa\", \"UTF-8\", crs = crs, driverName=\"GeoJSON\")"
   ]
  },
  {
   "cell_type": "markdown",
   "id": "eb151dcf",
   "metadata": {},
   "source": [
    "<h1> Koniec wykładu 4 </h1>"
   ]
  }
 ],
 "metadata": {
  "kernelspec": {
   "display_name": "Python 3 (ipykernel)",
   "language": "python",
   "name": "python3"
  },
  "language_info": {
   "codemirror_mode": {
    "name": "ipython",
    "version": 3
   },
   "file_extension": ".py",
   "mimetype": "text/x-python",
   "name": "python",
   "nbconvert_exporter": "python",
   "pygments_lexer": "ipython3",
   "version": "3.9.12"
  }
 },
 "nbformat": 4,
 "nbformat_minor": 5
}