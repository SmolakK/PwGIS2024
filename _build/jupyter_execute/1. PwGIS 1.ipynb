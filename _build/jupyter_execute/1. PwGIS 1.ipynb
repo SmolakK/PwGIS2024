{
 "cells": [
  {
   "cell_type": "markdown",
   "id": "b1469f51",
   "metadata": {},
   "source": [
    "\n",
    "----\n",
    "\n",
    "# Wprowadzenie"
   ]
  },
  {
   "cell_type": "markdown",
   "id": "fae34798",
   "metadata": {},
   "source": [
    "# Prowadzący zajęcia:\n",
    "\n",
    "* Dr Kamil Smolak; email: <kamil.smolak@upwr.edu.pl>"
   ]
  },
  {
   "cell_type": "markdown",
   "id": "af8c6bf5",
   "metadata": {},
   "source": [
    "## Jaki jest cel tego kursu?\n",
    "-----\n",
    "\n",
    "Naszym zadaniem jest zdobyć wiedzę z zakresu programowania w środowisku Systemów Informacji Przestrzennej (GIS). Kurs ma na celu zapoznanie z możliwościami przetwarzania danych przestrzennych z wykorzystaniem języka programowania Python. Docelowo nauczymy się wykorzystywać język Python do:\n",
    "\n",
    "* Automatyzacji zadań związanych z przetwarzaniem danych przestrzennych\n",
    "* Rozszerzania funkcjonalności środowiska GIS\n",
    "* Projektowania i implementowania analiz przestrzennych"
   ]
  },
  {
   "cell_type": "markdown",
   "id": "c6ce7551",
   "metadata": {},
   "source": [
    "## System pracy i program\n",
    "\n",
    "---\n",
    "\n",
    "- Moduł 1 - Organizacja bibliotek programistycznych - funckje, klasy, moduły\n",
    "- Moduł 2 - QGIS - obsługa konsoli, proste operacje na danych przestrzennych\n",
    "- Moduł 3 - Operacje na warstwach wektorowych, zapis geometrii w środowisku GIS\n",
    "- Moduł 4 - Operatory przestrzenne i kalkulator danych\n",
    "- Moduł 5 - Operacje na warstwach rastrowych\n",
    "- Moduł 6 - Własny plugin rozszerzający funkcjonalność środowiska QGIS (projekt)\n",
    "- Moduł 7 - Inne sposoby przetwarzania danych przestrzennych w Pythonie"
   ]
  },
  {
   "cell_type": "markdown",
   "id": "d6a614bb",
   "metadata": {},
   "source": [
    "## Zasady kursu\n",
    "\n",
    "---\n",
    "\n",
    "- Wykłady odbywają się co dwa tygodnie, pomiędzy wykładami są dwie sesje ćwiczeń\n",
    "- Wiedza teoretycznia przekazywana jest jedynie na wykładzie. Student ma obowiązek się z nią zapoznać.\n",
    "- Na ćwiczeniach będą dwa kolokwia.\n",
    "- Przedmiot zakończy się jednym dużym sprawdzianem z całego przedmiotu.\n",
    "- Na każde ćwiczenia obowiązuje lista ćwiczeń <b> którą należy wykonać na ćwiczeniach </b>\n",
    "- Na każdych ćwiczeniach do wykonania zadań z listy studenci będą <b> wybierani losowo </b> i wykonywać będą zadania na ocenę.\n",
    "\n",
    "- Ocena końcowa z kursu wystawiana jest na podstawie średniej oceny z wykonanych zadań na ćwiczeniach oraz kolokwiów."
   ]
  },
  {
   "cell_type": "markdown",
   "id": "34dea1aa",
   "metadata": {},
   "source": [
    "## Materiały do wykładów\n",
    "\n",
    "* Dokumentacja techniczna PyQGIS Developer Cookbook - http://docs.qgis.org/latest/en/docs/pyqgis_developer_cookbook/\n",
    "\n",
    "* Dokumentacja techniczna QGIS API: http://qgis.org/api/\n",
    "\n",
    "* Dokumentacja GeoPandas: https://geopandas.org/en/stable/\n"
   ]
  },
  {
   "cell_type": "markdown",
   "id": "c2a30e79",
   "metadata": {},
   "source": [
    "# Moduł 1 - organizacja bibliotek programistycznych: funkcje, klasy, moduły"
   ]
  },
  {
   "cell_type": "markdown",
   "id": "115505c8",
   "metadata": {},
   "source": [
    "## Środowisko programistyczne w którym odbywać będzie się teraz kurs jest tym samym środowiskiem, w którym programowali Państwo na zajęciach z Elementów Programowania"
   ]
  },
  {
   "cell_type": "markdown",
   "id": "c706c49a",
   "metadata": {},
   "source": [
    "Programowanie w środowiskach GIS będzie wymagało od nas zrozumienia podstaw związancych z organizacją bibliotek programistycznych, bo żeby korzystać ze struktury środowiska, musimy zrozumieć jak ono jest skonstruowane.\n",
    "\n",
    "Dlatego też, proces omawiania zagadnienia rozpoczniemy od omówienia organizacji kodu w bibliotekach programistycznych (a zatem również i w QGIS). \n",
    "\n",
    "Są trzy podstawowe poziomy organizacji kodu:\n",
    "\n",
    "* funkcje\n",
    "* klasy\n",
    "* moduły"
   ]
  },
  {
   "cell_type": "markdown",
   "id": "e65c760b",
   "metadata": {},
   "source": [
    "## Funkcje\n",
    "\n",
    "Funkcje już znamy. Są to wykonywalne bloki kodu.\n",
    "\n",
    "Funcje mają strukturę (syntax) następującej postaci:\n",
    "\n",
    "<i><b>nazwa</b>(parametr_1,parametr_2,...,parametr_n)</i>\n",
    "\n",
    "Wyróżniamy <b>funkcje wbudowane</b> i <b> funkcje zdefiniowane przez użytkownika</b>.\n",
    "\n",
    "* Funkcje wbudowane są dostepne poprzez wywołanie ich nazwy wprost w kodzie (dostępne tu: https://docs.python.org/2/library/functions.html). Przykładem takiej funkcji jest <b>print()</b>\n",
    "\n",
    "* Funkcje definiowane przez użytkownika pozwalają na utworzenie nowej funkcjonalności.\n",
    "\n",
    "* Biblioteki programistyczne zawierają funkcje, które możemy zaimportować i ich używać. \n",
    "\n",
    "Funkcje Są szczególnie przydatne gdy używamy pewnego fragmentu kodu <b>wielokrotnie</b>\n",
    "\n",
    "Mogą (nie muszą) przyjmować parametry/argumenty\n",
    "\n",
    "Mogą (nie muszą) zwracać obiekt"
   ]
  },
  {
   "cell_type": "code",
   "execution_count": 1,
   "id": "d4facd65",
   "metadata": {},
   "outputs": [],
   "source": [
    "def nazwa_funkcji(argumenty):\n",
    "    instrukcje\n",
    "    ...\n",
    "    return obiekt"
   ]
  },
  {
   "cell_type": "code",
   "execution_count": 2,
   "id": "cadc98cd",
   "metadata": {},
   "outputs": [],
   "source": [
    "def dzielniki(liczba):\n",
    "    \"\"\"Zwraca wszystkie dzielniki podanej liczby\n",
    "    param: liczba -- liczba do odszukania dzielników\n",
    "    return: lista dzielników\"\"\"\n",
    "    zgodne = []\n",
    "    for n in range(1,liczba):\n",
    "        if liczba%n == 0:\n",
    "            zgodne.append(n)\n",
    "    return zgodne"
   ]
  },
  {
   "cell_type": "markdown",
   "id": "b1e06a80",
   "metadata": {},
   "source": [
    "## Klasy\n",
    "\n",
    "Żeby zrozumieć istotę działania metod i ich różność od funkcji, przyjrzyjmy się czym jest obiekt.\n",
    "\n",
    "Obiekt to <b>wszystko</b> co napiszemy w Pythonie. To zarówno klasy jak i funkcje.\n",
    "\n",
    "Spotkamy się z metodami przypisanymi do klas. Klasa to bardzo ważny element języków obiektowych.\n"
   ]
  },
  {
   "cell_type": "markdown",
   "id": "4c2ac1c9",
   "metadata": {},
   "source": [
    "<h2>Czym zatem jest klasa?</h2>\n",
    "\n",
    "<b>Klasa</b> to <i>abstrakcja</i> pewnego obiektu. Oznacza to uogólnieniony opis pewnego elementu, który zdefiniowany jest przez taką klasę poprzez określenie jego typowych <b>cech (atrybutów) i operacji (metod), które można na nim wykonać</b>. Tą samą strukturą opisujemy elementy świata rzeczywistego.\n",
    "    \n",
    "Przykład obrazujący:\n",
    "\n",
    "<b>Pizza</b> to abstrakcyjna klasa, którą opisujemy pewien typ dania. \n",
    "Ma cechy (atrybuty):\n",
    "<ul>\n",
    "    <li>Składniki</li>\n",
    "    <li>Sos</li>\n",
    "</ul>\n",
    "\n",
    "Oraz metody:\n",
    "<ul>\n",
    "    <li>Jedz</li>\n",
    "    <li>Polej oliwą</li>\n",
    "</ul>"
   ]
  },
  {
   "cell_type": "markdown",
   "id": "3274e30b",
   "metadata": {},
   "source": [
    "<h1>Instancja</h1>\n",
    "\n",
    "To praktyczna realizacja klasy.\n",
    "\n",
    "Kontynuując przykład obrazujący:\n",
    "\n",
    "Piekąc pizzę nadajemy jej atrybuty - składniki (pieczarki, ser) i sos (pomidorowy). Wtedy otrzymujemy <b> instancję</b> klasy pizza w postaci <i>pizzy funghi</i>.\n",
    "\n",
    "<b>Pizza</b> to abstrakcyjna klasa, którą opisujemy pewien typ dania. \n",
    "Ma cechy (atrybuty):\n",
    "<ul>\n",
    "    <li>Składniki = [pieczarki, ser]</li>\n",
    "    <li>Sos = pomidorowy</li>\n",
    "</ul>\n",
    "\n",
    "Teraz możemy wywołać metodę na naszej instancji, która zdefiniowana już jest w klasie:\n",
    "\n",
    "pizza_funghi.jedz()"
   ]
  },
  {
   "cell_type": "markdown",
   "id": "2836142d",
   "metadata": {},
   "source": [
    "<img src=\"bell_fig5.jpg\"/>"
   ]
  },
  {
   "cell_type": "markdown",
   "id": "95893302",
   "metadata": {},
   "source": [
    "## Klasy a paradygmaty programowania obiektowego\n",
    "\n",
    "Klasy są realizacją intencji programowania obiektowego, czyli takiego dla którego Python został stworzony.\n",
    "\n",
    "Będąc przy programowaniu obiektowym. Programowanie obiektowe opiera się na czterech paradygmatach.\n",
    "<ul>\n",
    "    <li>Abstrakcja</li>\n",
    "    <li>Hermetyzacja</li>\n",
    "    <li>Dziedziczenie</li>\n",
    "    <li>Polimorfizm</li>\n",
    "</ul>"
   ]
  },
  {
   "cell_type": "markdown",
   "id": "ec24d011",
   "metadata": {},
   "source": [
    "### Abstrakcja\n",
    "\n",
    "Polega na zredukowanie właściwości opisywanego obiektu do najbardziej podstawowych, ograniczenie zakresu funkcjonalności do kluczowych.\n",
    "\n",
    "Inaczej uogólnienie"
   ]
  },
  {
   "cell_type": "markdown",
   "id": "c13708e8",
   "metadata": {},
   "source": [
    "<img src=\"01-uml-base-class-and-object-explained.png\"/>"
   ]
  },
  {
   "cell_type": "markdown",
   "id": "8161ab7c",
   "metadata": {},
   "source": [
    "Abstrakcyjna klasa PIES - ma atrybuty:\n",
    "    \n",
    "    Kolor\n",
    "    Kolor oczu\n",
    "    Wysokość\n",
    "    Długość\n",
    "    Waga\n",
    "    \n",
    "I metody:\n",
    "\n",
    "    Usiądź\n",
    "    Połóż się\n",
    "    Machaj ogonem\n",
    "    Przyjść\n",
    "    \n",
    "A Bobby jest praktyczną realizacją, ma te same metody i ma nadane chechy."
   ]
  },
  {
   "cell_type": "markdown",
   "id": "6dbcc6e1",
   "metadata": {},
   "source": [
    "### Hermetyzacja\n",
    "\n",
    "Polega na ograniczeniu dostępu do danych w klasie za pomocą interfejsu. Obiekt udostępnia pewien zbiór metod, które widoczne są z zewnątrz, ale nie pozwala na całkowitą ingerencję w jego strukturę.\n",
    "\n",
    "Dostęp do atrybutów jest realizowanych przez tzw. settery - do przypisania wartości oraz gettery - do pobrania wartości. Nie me bezpośredniego dostępu do danych."
   ]
  },
  {
   "cell_type": "markdown",
   "id": "bac417be",
   "metadata": {},
   "source": [
    "### Dziedziczenie\n",
    "\n",
    "Pozwala na przejęcie części cech i metod przez klasy wywodzące się z klas wyższego rzędu. Dzięki temu uzyskujemy funkcjonalności już istniejące, które możemy rozszerzyć i ewentualnie zmienić."
   ]
  },
  {
   "cell_type": "markdown",
   "id": "5423b6b2",
   "metadata": {},
   "source": [
    "<img src=\"Image5905.gif\"/>"
   ]
  },
  {
   "cell_type": "markdown",
   "id": "86080bf0",
   "metadata": {},
   "source": [
    "Powyżej widzimy diagram klas UML.\n",
    "\n",
    "Klasa nadrzędna - Osoba, posiada atrybuty - imię, nazwisko, data urodzenia oraz metodę policz wiek\n",
    "\n",
    "Klasa dziedzicząca (podrzędna) - Pracownik, posiada atrybuty pensja, stanowisko oraz wszystkie metody klasy nadrzędnej (imię, nazwisko, data urodzenia) oraz metody zmień pensję i policz wiek.\n",
    "\n",
    "Klasa IPracownik jest interfejsem - jeszcze jednym elementem realizującym paradygmat programowania obiektowego - hermetyzacji/enkapsulacji - stanowi interfejs operujący na cechach pracownika, czyli jest pośrednikiem dokonującym zmiany w instancjach klasy Pracownik. Interfejs ma za zadanie kontrolować zmiany i ograniczać pożądane ingerencję w cechy instancji klas.\n",
    "\n",
    "Klasy pozwalają na realizację wszystkich czterech paradygmatów programowania obiektowego. Diagram klas UML jak powyżej może zostać przeniesiony i zaimplementowany w Pythonie."
   ]
  },
  {
   "cell_type": "markdown",
   "id": "45987d37",
   "metadata": {},
   "source": [
    "### Polimorfizm\n",
    "\n",
    "Dopuszczalne jest <b> przeciążanie </b> metod. Oznacza to, że wywołując jedną funkcję lub metodę otrzymujemy inne jej zachowanie w zależności od użytych parametrów i danych.\n",
    "\n",
    "Przykładowo, konwertując do ciągu znaków za pomocą polecenia str(), funkcja zachowuje się inaczej, zależnie od tego czy konwertujemy typ <i>int, float</i> czy <i>boolean</i>."
   ]
  },
  {
   "cell_type": "code",
   "execution_count": 3,
   "id": "bf1b1348",
   "metadata": {},
   "outputs": [
    {
     "data": {
      "text/plain": [
       "'22'"
      ]
     },
     "execution_count": 3,
     "metadata": {},
     "output_type": "execute_result"
    }
   ],
   "source": [
    "'2'+'2'"
   ]
  },
  {
   "cell_type": "markdown",
   "id": "72244146",
   "metadata": {},
   "source": [
    "## Paradygmat 1 - Generalizacja:\n",
    "\n",
    "<h2> Definicja klasy </h2>\n",
    "\n",
    "    class Nazwa(dziedziczenie):\n",
    "        instrukcje\n",
    "        ..."
   ]
  },
  {
   "cell_type": "code",
   "execution_count": 4,
   "id": "0831efc3",
   "metadata": {},
   "outputs": [],
   "source": [
    "class Osoba(): #puste dziedziczenie oznacza brak klasy nadrzędnej\n",
    "    pass #polecenie pominięcia"
   ]
  },
  {
   "cell_type": "code",
   "execution_count": 5,
   "id": "64d6bf3d",
   "metadata": {},
   "outputs": [
    {
     "data": {
      "text/plain": [
       "__main__.Osoba"
      ]
     },
     "execution_count": 5,
     "metadata": {},
     "output_type": "execute_result"
    }
   ],
   "source": [
    "Jurek = Osoba() #realizacja klasy\n",
    "type(Jurek)"
   ]
  },
  {
   "cell_type": "code",
   "execution_count": 6,
   "id": "4c7eb7fe",
   "metadata": {},
   "outputs": [
    {
     "name": "stdout",
     "output_type": "stream",
     "text": [
      "<__main__.Osoba object at 0x000002C4B3D05880>\n"
     ]
    }
   ],
   "source": [
    "print(Jurek)"
   ]
  },
  {
   "cell_type": "markdown",
   "id": "36b2f3c4",
   "metadata": {},
   "source": [
    "Klasa osoba nie ma reprezentacji tekstowej, więc wyświetla nam się tekst domyślny. (zmienimy to później)"
   ]
  },
  {
   "cell_type": "markdown",
   "id": "1b5615b9",
   "metadata": {},
   "source": [
    "Powyzej widzimy, że Jurek jest typu Osoba (klasy, którą właśnie stworzyliśmy)"
   ]
  },
  {
   "cell_type": "markdown",
   "id": "1f20171e",
   "metadata": {},
   "source": [
    "<h2> Inicjalizacja </h2>\n",
    "\n",
    "Inicjalizacja klasy odbywa się za pomocą <b> funkcji magicznej </b> __init__ - wywoływany jest przy instancjonowaniu\n",
    "\n",
    "Klasa do sebie samej odwołuje się przez $self$"
   ]
  },
  {
   "cell_type": "code",
   "execution_count": 7,
   "id": "60638f56",
   "metadata": {},
   "outputs": [],
   "source": [
    "class Osoba():\n",
    "    \n",
    "    #dwie linijki przerwy zgodnie z PEP8\n",
    "    def __init__(self, imie, nazwisko, data_urodzenia): #w funkcjach klasy pierwszy argument to zawsze self\n",
    "        self.imie = imie\n",
    "        self.nazwisko = nazwisko\n",
    "        self.data_urodzenia = data_urodzenia"
   ]
  },
  {
   "cell_type": "markdown",
   "id": "d88a4bb7",
   "metadata": {},
   "source": [
    "Powyżej w funkcji magicznej __init__ przypisaliśmy klasie 3 cechy - imię, nazwisko i data urodzenia. __init__ uruchamiany jest zawsze przy instancjonowaniu klasy, zatem wywołując nazwę klasy Osoba() w paramterach podajemy to co znajduje się w funkcji __init__, te cechy są przekazywane do funkcji __init__.\n",
    "\n",
    "self.imie - oznacza, że pod atrybutem .imie, będzie znajdowała się podana wartość. \n"
   ]
  },
  {
   "cell_type": "markdown",
   "id": "51fd8e1b",
   "metadata": {},
   "source": [
    "Realizacja jak poniżej. Tworzymy obiekt o nazwie Jurek typu Osoba i nadajemy mu 3 cechy, zgodnie z definicją klasy:"
   ]
  },
  {
   "cell_type": "code",
   "execution_count": 8,
   "id": "26d78ced",
   "metadata": {},
   "outputs": [],
   "source": [
    "Jurek = Osoba(\"Jurek\",\"Kiler\",\"10-10-1974\")"
   ]
  },
  {
   "cell_type": "markdown",
   "id": "dab8d602",
   "metadata": {},
   "source": [
    "Teraz możemy wyświetlić te cechy:"
   ]
  },
  {
   "cell_type": "code",
   "execution_count": 9,
   "id": "643c16a2",
   "metadata": {},
   "outputs": [
    {
     "name": "stdout",
     "output_type": "stream",
     "text": [
      "Jurek Kiler 10-10-1974\n"
     ]
    }
   ],
   "source": [
    "print(Jurek.imie, Jurek.nazwisko, Jurek.data_urodzenia)"
   ]
  },
  {
   "cell_type": "markdown",
   "id": "6803960e",
   "metadata": {},
   "source": [
    "Stworzyliśmy klasę, ale paradygmaty nie są zachowane:"
   ]
  },
  {
   "cell_type": "code",
   "execution_count": 10,
   "id": "a31bf93e",
   "metadata": {},
   "outputs": [
    {
     "data": {
      "text/plain": [
       "'Andrzej'"
      ]
     },
     "execution_count": 10,
     "metadata": {},
     "output_type": "execute_result"
    }
   ],
   "source": [
    "Jurek.imie = \"Andrzej\" #imie można zmienić dowolnie (BRAK HERMETYZACJI)\n",
    "Jurek.imie"
   ]
  },
  {
   "cell_type": "markdown",
   "id": "e0ec13ec",
   "metadata": {},
   "source": [
    "<h3> Metody klas </h3>"
   ]
  },
  {
   "cell_type": "markdown",
   "id": "87022443",
   "metadata": {},
   "source": [
    "Dodajmy teraz metodę do klasy. Definiuje się je jako kolejne funkcje:"
   ]
  },
  {
   "cell_type": "code",
   "execution_count": 11,
   "id": "9a61a1a9",
   "metadata": {},
   "outputs": [],
   "source": [
    "class Osoba():\n",
    "    \n",
    "    \n",
    "    def __init__(self, imie, nazwisko, data_urodzenia):\n",
    "        self.imie = imie\n",
    "        self.nazwisko = nazwisko\n",
    "        self.data_urodzenia = data_urodzenia\n",
    "        \n",
    "    def wiek(self): #w funkcjach klasy pierwszy argument to zawsze self\n",
    "        return 2019 - int(self.data_urodzenia.split('-')[2])"
   ]
  },
  {
   "cell_type": "code",
   "execution_count": 12,
   "id": "0f11b9f9",
   "metadata": {},
   "outputs": [],
   "source": [
    "Jurek = Osoba(\"Jurek\",\"Kiler\",\"10-10-1974\")"
   ]
  },
  {
   "cell_type": "markdown",
   "id": "6a6c967f",
   "metadata": {},
   "source": [
    "Metody wywołujemy w znany nam sposób. Mogą przyjmowąć parametry:"
   ]
  },
  {
   "cell_type": "code",
   "execution_count": 13,
   "id": "1d635adf",
   "metadata": {},
   "outputs": [
    {
     "data": {
      "text/plain": [
       "45"
      ]
     },
     "execution_count": 13,
     "metadata": {},
     "output_type": "execute_result"
    }
   ],
   "source": [
    "Jurek.wiek()"
   ]
  },
  {
   "cell_type": "markdown",
   "id": "780e8dca",
   "metadata": {},
   "source": [
    "<h2> Inne funkcje magiczne </h2>\n",
    "\n",
    "Tych jest dużo, poznajmy dwie służące reprezentacji instancji klas:\n",
    "<ul>\n",
    "    <li> $__repr__$ - reprezentacja obiektu. Wywoływana jest poprzez $repr(nazwa_obiektu)$ lub po wpisaniu nazwy zmiennej w interpreterze</li>\n",
    "    <li> $__str__$ - tekstowa reprezentacja obiektu. Wywoływana poprzez str(nazwa_obiektu) lub print</li>\n",
    "</ul>"
   ]
  },
  {
   "cell_type": "code",
   "execution_count": 14,
   "id": "0bca391b",
   "metadata": {},
   "outputs": [],
   "source": [
    "class Osoba():\n",
    "    \n",
    "    \n",
    "    def __init__(self, imie, nazwisko, data_urodzenia):\n",
    "        self.imie = imie\n",
    "        self.nazwisko = nazwisko\n",
    "        self.data_urodzenia = data_urodzenia\n",
    "        \n",
    "    def __str__(self): #metoda magiczna __str__ definiuje to co zostanie zwrócone przez funkcję print() wywołaną na obiekcie\n",
    "        return \"Człowiek imieniem {}, w wieku {} lat\".format(self.imie, str(self.wiek())) #formatowanie tekstu, wykorzystaliśmy funkcję wiek\n",
    "    \n",
    "    def __repr__(self): #metoda magiczna __repr__ definiuje to co zostanie wyświetlone jako opis obiektu w rejestrze pamięci\n",
    "        return \"Osoba class(name: {}, surname: {}, birth date: {})\".format(self.imie, self.nazwisko, self.data_urodzenia)\n",
    "        \n",
    "    def wiek(self):\n",
    "        return 2019 - int(self.data_urodzenia.split('-')[2])"
   ]
  },
  {
   "cell_type": "code",
   "execution_count": 15,
   "id": "d9060cc8",
   "metadata": {},
   "outputs": [],
   "source": [
    "Jurek = Osoba(\"Jurek\",\"Kiler\",\"10-10-1974\")"
   ]
  },
  {
   "cell_type": "code",
   "execution_count": 16,
   "id": "560609b3",
   "metadata": {},
   "outputs": [
    {
     "name": "stdout",
     "output_type": "stream",
     "text": [
      "Człowiek imieniem Jurek, w wieku 45 lat\n"
     ]
    }
   ],
   "source": [
    "print(Jurek)"
   ]
  },
  {
   "cell_type": "code",
   "execution_count": 17,
   "id": "79c955d8",
   "metadata": {},
   "outputs": [
    {
     "data": {
      "text/plain": [
       "Osoba class(name: Jurek, surname: Kiler, birth date: 10-10-1974)"
      ]
     },
     "execution_count": 17,
     "metadata": {},
     "output_type": "execute_result"
    }
   ],
   "source": [
    "Jurek"
   ]
  },
  {
   "cell_type": "markdown",
   "id": "74bef299",
   "metadata": {},
   "source": [
    "<h1> Więcej funkcji magicznych zmieniających zachowanie klas </h1>\n",
    "\n",
    "Teraz czas na funkcje magiczne modyfikujące zachowanie operatorów. Przykładowo funkcja __add__ definiuje zachowanie obiektu klas przy operatorze '+'"
   ]
  },
  {
   "cell_type": "code",
   "execution_count": 18,
   "id": "c7f62303",
   "metadata": {},
   "outputs": [],
   "source": [
    "class Liczba():\n",
    "    \n",
    "    def __init__(self, wartosc):\n",
    "        self.wartosc = wartosc\n",
    "        \n",
    "    def __add__(self, inna): #zmiana zachowania przy dodawaniu \n",
    "        return (self.wartosc + inna.wartosc - 1)**2\n",
    "    \n",
    "class Liczba2():\n",
    "    \n",
    "    def __init__(self, wartosc):\n",
    "        self.wartosc = wartosc\n",
    "        \n",
    "    def __add__(self, inna): #zmiana zachowania przy dodawaniu \n",
    "        return (self.wartosc - inna.wartosc)**3 #inna metoda"
   ]
  },
  {
   "cell_type": "markdown",
   "id": "710db9e9",
   "metadata": {},
   "source": [
    "Funkcja magiczna __add__  przyjmuje dwa parametry self, czyli to co zawsze musi się tam znaleźc i \"inna\", czyli drugą instancję tej samej klasy.\n",
    "\n",
    "Będąc dokładnym: nie musi być tej samej klasy, ale musi posiadać atrybut wykorzystany w funkcji. W tym przypadku, druga klasa wykorzystana w sumowaniu musi posiadać też atrybut .wartość.\n",
    "\n",
    "W powyższej definicji pobieramy wartość obiektu klasy Liczba, dodajemy do wartości drugiego obiektu klasy Liczba, odejmujemy 1 i podnosimy do kwadratu. Oto wynik"
   ]
  },
  {
   "cell_type": "code",
   "execution_count": 19,
   "id": "230bcf87",
   "metadata": {},
   "outputs": [],
   "source": [
    "a = Liczba(10) #jedna instancja\n",
    "b = Liczba2(5) #druga instancja"
   ]
  },
  {
   "cell_type": "code",
   "execution_count": 20,
   "id": "fdc06a7b",
   "metadata": {},
   "outputs": [
    {
     "data": {
      "text/plain": [
       "196"
      ]
     },
     "execution_count": 20,
     "metadata": {},
     "output_type": "execute_result"
    }
   ],
   "source": [
    "a+b #(10+5-1)**2"
   ]
  },
  {
   "cell_type": "code",
   "execution_count": 21,
   "id": "1bd3f1bd",
   "metadata": {},
   "outputs": [
    {
     "ename": "TypeError",
     "evalue": "unsupported operand type(s) for *: 'Liczba' and 'Liczba2'",
     "output_type": "error",
     "traceback": [
      "\u001b[1;31m---------------------------------------------------------------------------\u001b[0m",
      "\u001b[1;31mTypeError\u001b[0m                                 Traceback (most recent call last)",
      "Input \u001b[1;32mIn [21]\u001b[0m, in \u001b[0;36m<cell line: 1>\u001b[1;34m()\u001b[0m\n\u001b[1;32m----> 1\u001b[0m \u001b[43ma\u001b[49m\u001b[38;5;241;43m*\u001b[39;49m\u001b[43mb\u001b[49m\n",
      "\u001b[1;31mTypeError\u001b[0m: unsupported operand type(s) for *: 'Liczba' and 'Liczba2'"
     ]
    }
   ],
   "source": [
    "a*b #nie oprogramowalismy, więc nie zadziała"
   ]
  },
  {
   "cell_type": "code",
   "execution_count": 33,
   "id": "f1511b35",
   "metadata": {
    "scrolled": true
   },
   "outputs": [
    {
     "name": "stdout",
     "output_type": "stream",
     "text": [
      "Once deleted, variables cannot be recovered. Proceed (y/[n])? y\n",
      "Don't know how to reset  #resetujemy, please run `%reset?` for details\n",
      "Don't know how to reset  pamięć, please run `%reset?` for details\n"
     ]
    }
   ],
   "source": [
    "%reset #resetujemy pamięć"
   ]
  },
  {
   "cell_type": "markdown",
   "id": "07730dcb",
   "metadata": {},
   "source": [
    "<h1> Paradygmat 2 - hermetyzacja </h1>\n",
    "Hermetyzacja ma na celu uniemożlwienie dostępu do atrybutów instancji klas.\n",
    "Odbywa się przez konwencję dodania do argumentów własnych klasy prefiksu w postaci podłogi. Zatem:"
   ]
  },
  {
   "cell_type": "code",
   "execution_count": 37,
   "id": "0307a940",
   "metadata": {},
   "outputs": [],
   "source": [
    "class Osoba():\n",
    "    \n",
    "    #dwie linijki przerwy zgodnie z PEP8\n",
    "    def __init__(self, imie, nazwisko, data_urodzenia):\n",
    "        self._imie = imie\n",
    "        self._nazwisko = nazwisko\n",
    "        self._data_urodzenia = data_urodzenia"
   ]
  },
  {
   "cell_type": "code",
   "execution_count": 38,
   "id": "81bcc464",
   "metadata": {},
   "outputs": [],
   "source": [
    "Jurek = Osoba(\"Jurek\",\"Kiler\",\"10-10-1974\")"
   ]
  },
  {
   "cell_type": "code",
   "execution_count": 39,
   "id": "7cfad5a2",
   "metadata": {},
   "outputs": [
    {
     "ename": "AttributeError",
     "evalue": "'Osoba' object has no attribute 'imie'",
     "output_type": "error",
     "traceback": [
      "\u001b[1;31m---------------------------------------------------------------------------\u001b[0m",
      "\u001b[1;31mAttributeError\u001b[0m                            Traceback (most recent call last)",
      "Input \u001b[1;32mIn [39]\u001b[0m, in \u001b[0;36m<cell line: 1>\u001b[1;34m()\u001b[0m\n\u001b[1;32m----> 1\u001b[0m \u001b[38;5;28mprint\u001b[39m(\u001b[43mJurek\u001b[49m\u001b[38;5;241;43m.\u001b[39;49m\u001b[43mimie\u001b[49m, Jurek\u001b[38;5;241m.\u001b[39mnazwisko, Jurek\u001b[38;5;241m.\u001b[39mdata_urodzenia)\n",
      "\u001b[1;31mAttributeError\u001b[0m: 'Osoba' object has no attribute 'imie'"
     ]
    }
   ],
   "source": [
    "print(Jurek.imie, Jurek.nazwisko, Jurek.data_urodzenia) #nie mamy dostępu"
   ]
  },
  {
   "cell_type": "code",
   "execution_count": 40,
   "id": "7e5c26f1",
   "metadata": {},
   "outputs": [
    {
     "name": "stdout",
     "output_type": "stream",
     "text": [
      "Jurek\n"
     ]
    }
   ],
   "source": [
    "print(Jurek._imie) #to zadziała, ale _ to tylko konwencja, użycie _ wymusza zastanowienie się nad swoimi poczynianiami"
   ]
  },
  {
   "cell_type": "markdown",
   "id": "4f8fa7bf",
   "metadata": {},
   "source": [
    "Jak się więc prawidłowo dostawać do zmiennych? Przez tak zwane settery i gettery. Tworzone w Pythonie poprzez <b>dekorator</b> @property. Getter - zwraca wartość, Setter pozwala je zmieniać"
   ]
  },
  {
   "cell_type": "code",
   "execution_count": 41,
   "id": "0eabb6db",
   "metadata": {},
   "outputs": [],
   "source": [
    "class Osoba():\n",
    "    \n",
    "    #dwie linijki przerwy zgodnie z PEP8\n",
    "    def __init__(self, imie, nazwisko, data_urodzenia):\n",
    "        self._imie = imie\n",
    "        self._nazwisko = nazwisko\n",
    "        self._data_urodzenia = data_urodzenia\n",
    "        \n",
    "    @property #getter\n",
    "    def imie(self):\n",
    "        return self._imie\n",
    "    \n",
    "    @property\n",
    "    def nazwisko(self):\n",
    "        return self._nazwisko\n",
    "    \n",
    "    @property\n",
    "    def data_urodzenia(self):\n",
    "        return self._data_urodzenia"
   ]
  },
  {
   "cell_type": "code",
   "execution_count": 42,
   "id": "bc482f9f",
   "metadata": {},
   "outputs": [],
   "source": [
    "Jurek = Osoba(\"Jurek\",\"Kiler\",\"10-10-1974\")"
   ]
  },
  {
   "cell_type": "code",
   "execution_count": 43,
   "id": "b2835e9f",
   "metadata": {},
   "outputs": [
    {
     "name": "stdout",
     "output_type": "stream",
     "text": [
      "Jurek Kiler 10-10-1974\n"
     ]
    }
   ],
   "source": [
    "print(Jurek.imie, Jurek.nazwisko, Jurek.data_urodzenia) #teraz zadziała"
   ]
  },
  {
   "cell_type": "markdown",
   "id": "424ebc71",
   "metadata": {},
   "source": [
    "Wywołując Jurek.imie uruchamiamy tak naprawdę naszą funkcję gettera, nie wywołujemy atrybuty. To co tak naprawdę dostajemy to kopia, można jej użyć w operacjach poza klasą, ale samego atrybutu nie można zmienić:"
   ]
  },
  {
   "cell_type": "code",
   "execution_count": 44,
   "id": "932e1d45",
   "metadata": {},
   "outputs": [
    {
     "ename": "AttributeError",
     "evalue": "can't set attribute",
     "output_type": "error",
     "traceback": [
      "\u001b[1;31m---------------------------------------------------------------------------\u001b[0m",
      "\u001b[1;31mAttributeError\u001b[0m                            Traceback (most recent call last)",
      "Input \u001b[1;32mIn [44]\u001b[0m, in \u001b[0;36m<cell line: 1>\u001b[1;34m()\u001b[0m\n\u001b[1;32m----> 1\u001b[0m Jurek\u001b[38;5;241m.\u001b[39mimie \u001b[38;5;241m=\u001b[39m \u001b[38;5;124m\"\u001b[39m\u001b[38;5;124mAndrzej\u001b[39m\u001b[38;5;124m\"\u001b[39m\n",
      "\u001b[1;31mAttributeError\u001b[0m: can't set attribute"
     ]
    }
   ],
   "source": [
    "Jurek.imie = \"Andrzej\" #nie można go zmienić"
   ]
  },
  {
   "cell_type": "markdown",
   "id": "2ba303bd",
   "metadata": {},
   "source": [
    "Poniżej zastosowanie settera do zmian wartości atrybutów:"
   ]
  },
  {
   "cell_type": "code",
   "execution_count": 45,
   "id": "28cb8799",
   "metadata": {},
   "outputs": [],
   "source": [
    "class Osoba():\n",
    "    \n",
    "    #dwie linijki przerwy zgodnie z PEP8\n",
    "    def __init__(self, imie, nazwisko, data_urodzenia):\n",
    "        self._imie = imie\n",
    "        self._nazwisko = nazwisko\n",
    "        self._data_urodzenia = data_urodzenia\n",
    "        \n",
    "    @property #getter\n",
    "    def imie(self):\n",
    "        return self._imie\n",
    "    \n",
    "    @property\n",
    "    def nazwisko(self):\n",
    "        return self._nazwisko\n",
    "    \n",
    "    @property\n",
    "    def data_urodzenia(self):\n",
    "        return self._data_urodzenia\n",
    "    \n",
    "    @imie.setter #setter\n",
    "    def imie(self, imie):\n",
    "        if imie == \"Maciej\":\n",
    "            print(\"WSZYSTKO TYLKO NIE MACIEJ!\")\n",
    "        else:\n",
    "            self._imie = imie\n",
    "        \n",
    "    @nazwisko.setter #setter\n",
    "    def nazwisko(self, nazwisko):\n",
    "        self._nazwisko = nazwisko\n",
    "        \n",
    "    @data_urodzenia.setter #setter\n",
    "    def data_urodzenia(self, data_urodzenia):\n",
    "        self._data_urodzenia = data_urodzenia"
   ]
  },
  {
   "cell_type": "code",
   "execution_count": 46,
   "id": "5fc3f691",
   "metadata": {},
   "outputs": [],
   "source": [
    "Jurek = Osoba(\"Jurek\",\"Kiler\",\"10-10-1974\")"
   ]
  },
  {
   "cell_type": "code",
   "execution_count": 47,
   "id": "eda0d26f",
   "metadata": {},
   "outputs": [
    {
     "name": "stdout",
     "output_type": "stream",
     "text": [
      "Jurek Kiler 10-10-1974\n"
     ]
    }
   ],
   "source": [
    "print(Jurek.imie, Jurek.nazwisko, Jurek.data_urodzenia) #to co dostajemy to kopia"
   ]
  },
  {
   "cell_type": "code",
   "execution_count": 48,
   "id": "c5306086",
   "metadata": {},
   "outputs": [],
   "source": [
    "Jurek.imie = \"Andrzej\" #już można"
   ]
  },
  {
   "cell_type": "code",
   "execution_count": 49,
   "id": "a9d6b66c",
   "metadata": {},
   "outputs": [
    {
     "name": "stdout",
     "output_type": "stream",
     "text": [
      "Andrzej\n"
     ]
    }
   ],
   "source": [
    "print(Jurek.imie)"
   ]
  },
  {
   "cell_type": "markdown",
   "id": "ab70bb23",
   "metadata": {},
   "source": [
    "W klasie zdefiniowaliśmy w setterze dodaktowy warunek, który ma za zadanie powstrzymać niechciane zmiany atrybutu obiektów:"
   ]
  },
  {
   "cell_type": "code",
   "execution_count": 50,
   "id": "e97ab090",
   "metadata": {},
   "outputs": [
    {
     "name": "stdout",
     "output_type": "stream",
     "text": [
      "WSZYSTKO TYLKO NIE MACIEJ!\n"
     ]
    }
   ],
   "source": [
    "Jurek.imie = \"Maciej\""
   ]
  },
  {
   "cell_type": "markdown",
   "id": "ce314b0a",
   "metadata": {},
   "source": [
    "Bardziej realny przykład - nie można ustawić saldu konta poniżej 0."
   ]
  },
  {
   "cell_type": "markdown",
   "id": "38f3aa80",
   "metadata": {},
   "source": [
    "<h1> Paradygmat 3 - Polimorficzność </h1>\n",
    "\n",
    "Pamietacie przykład sprzed chwili a+b, b+a? + to ten sam operator, a mimo to klasy zachowały się inaczej w zależności od kolejności. To właśnie jest przykład polimorficzności, 1 - polimorfizm operatorów.\n",
    "\n",
    "Spróbujmy jeszcze zobaczyć inny przykład:"
   ]
  },
  {
   "cell_type": "code",
   "execution_count": 72,
   "id": "467b06c2",
   "metadata": {},
   "outputs": [],
   "source": [
    "class Pies():\n",
    "    \n",
    "    def __init__(self, imie, kolor):\n",
    "        self._imie = imie\n",
    "        self._kolor = kolor\n",
    "        \n",
    "    def daj_glos(self):\n",
    "        print(\"HAU!\")\n",
    "        \n",
    "        \n",
    "class Kot():\n",
    "    \n",
    "    def __init__(self, imie, kolor):\n",
    "        self._imie = imie\n",
    "        self._kolor = kolor\n",
    "        \n",
    "    def daj_glos(self):\n",
    "        print(\"MIAU!\")"
   ]
  },
  {
   "cell_type": "code",
   "execution_count": 73,
   "id": "70b20bde",
   "metadata": {},
   "outputs": [
    {
     "name": "stdout",
     "output_type": "stream",
     "text": [
      "HAU!\n",
      "MIAU!\n"
     ]
    }
   ],
   "source": [
    "fafik = Pies(\"fafik\",\"czarny\")\n",
    "bruno = Kot(\"bruno\",\"biały\")\n",
    "\n",
    "for zwierze in (fafik,bruno):\n",
    "    zwierze.daj_glos()"
   ]
  },
  {
   "cell_type": "markdown",
   "id": "906b24a4",
   "metadata": {},
   "source": [
    "Powyższy przykład to polimoficzność metod klas - metody w zależności od klasy zachowują się inaczej. To drugi rodzaj polimorfizmu.\n",
    "\n",
    "Innym, trzecim przykładem moze być polimorficzność funkcji (czasem metod) w zależności od parametrów:"
   ]
  },
  {
   "cell_type": "code",
   "execution_count": 74,
   "id": "8878f946",
   "metadata": {},
   "outputs": [],
   "source": [
    "def co_to(parametr1):\n",
    "    if isinstance(parametr1,str): #funkcja wbudowana, sprawdza jakiego typu jest zmienna\n",
    "        print(\"TO TEKST!\")\n",
    "    elif isinstance(parametr1,float):\n",
    "        print(\"TO LICZBA ZMIENNOPRZECINKOWA!\")\n"
   ]
  },
  {
   "cell_type": "code",
   "execution_count": 75,
   "id": "5b1bcff2",
   "metadata": {},
   "outputs": [
    {
     "name": "stdout",
     "output_type": "stream",
     "text": [
      "TO TEKST!\n"
     ]
    }
   ],
   "source": [
    "co_to(\"A\")"
   ]
  },
  {
   "cell_type": "code",
   "execution_count": 76,
   "id": "8e910a23",
   "metadata": {},
   "outputs": [
    {
     "name": "stdout",
     "output_type": "stream",
     "text": [
      "TO LICZBA ZMIENNOPRZECINKOWA!\n"
     ]
    }
   ],
   "source": [
    "co_to(2.)"
   ]
  },
  {
   "cell_type": "markdown",
   "id": "d67d338c",
   "metadata": {},
   "source": [
    "Ostatni przypadek polimorfizmu związany jest z dziedziczeniem klas, a zatem ostatnim paradygmatem programowania obiektowego:"
   ]
  },
  {
   "cell_type": "markdown",
   "id": "c00a09a9",
   "metadata": {},
   "source": [
    "<h2> Czas więc na ostatni paradygmat - dziedziczność! </h2>"
   ]
  },
  {
   "cell_type": "markdown",
   "id": "209010fd",
   "metadata": {},
   "source": [
    "Spróbujmy zaimplementować fragment dziedziczenia Osoba -> Pracownik z poniższego diagramu UML"
   ]
  },
  {
   "cell_type": "markdown",
   "id": "df27456d",
   "metadata": {},
   "source": [
    "<img src=\"Image5905.gif\"/>"
   ]
  },
  {
   "cell_type": "markdown",
   "id": "5d2e9d48",
   "metadata": {},
   "source": [
    "Kod:"
   ]
  },
  {
   "cell_type": "code",
   "execution_count": 79,
   "id": "4c341029",
   "metadata": {},
   "outputs": [],
   "source": [
    "class Osoba():\n",
    "    \n",
    "    #dwie linijki przerwy zgodnie z PEP8\n",
    "    def __init__(self, imie, nazwisko, data_urodzenia):\n",
    "        self._imie = imie\n",
    "        self._nazwisko = nazwisko\n",
    "        self._data_urodzenia = data_urodzenia\n",
    "        \n",
    "    @property #getter\n",
    "    def imie(self):\n",
    "        return self._imie\n",
    "    \n",
    "    @property\n",
    "    def nazwisko(self):\n",
    "        return self._nazwisko\n",
    "    \n",
    "    @property\n",
    "    def data_urodzenia(self):\n",
    "        return self._data_urodzenia\n",
    "    \n",
    "    @imie.setter #setter\n",
    "    def imie(self, imie):\n",
    "        if imie == \"Maciej\":\n",
    "            print(\"WSZYSTKO TYLKO NIE MACIEJ!\")\n",
    "        else:\n",
    "            self._imie = imie\n",
    "        \n",
    "    @nazwisko.setter #setter\n",
    "    def nazwisko(self, nazwisko):\n",
    "        self._nazwisko = nazwisko\n",
    "        \n",
    "    @data_urodzenia.setter #setter\n",
    "    def data_urodzenia(self, data_urodzenia):\n",
    "        self._data_urodzenia = data_urodzenia\n",
    "        \n",
    "    def wiek(self):\n",
    "        return 2019 - int(self.data_urodzenia.split('-')[2])"
   ]
  },
  {
   "cell_type": "markdown",
   "id": "fd4d7c0b",
   "metadata": {},
   "source": [
    "Poniżej tworzymy klasę dziedziczącą po klasie Osoba:"
   ]
  },
  {
   "cell_type": "code",
   "execution_count": 80,
   "id": "31e646cd",
   "metadata": {},
   "outputs": [],
   "source": [
    "class Pracownik(Osoba): #tu informujemy, że dziedziczy po klasie osoba\n",
    "    \n",
    "    def __init__(self, imie, nazwisko, data_urodzenia, pensja, stanowisko): #czyli przyjmuje wszystkie atrybuty co osoba + nowe\n",
    "        Osoba.__init__(self, imie, nazwisko, data_urodzenia) #tu inicjalizacja klasy nadrzędnej z 3 parametrami\n",
    "        self._pensja = pensja #i dodatkowe parametry\n",
    "        self._stanowisko = stanowisko"
   ]
  },
  {
   "cell_type": "markdown",
   "id": "7cb57119",
   "metadata": {},
   "source": [
    "Instancjonujemy podając wszystkie atrybuty:"
   ]
  },
  {
   "cell_type": "code",
   "execution_count": 81,
   "id": "b1aba49c",
   "metadata": {},
   "outputs": [],
   "source": [
    "Jerzy = Pracownik(\"Jerzy\", \"Morgan\", \"20-12-1955\", 5400, \"Handlowiec\")"
   ]
  },
  {
   "cell_type": "code",
   "execution_count": 82,
   "id": "8c34d8f4",
   "metadata": {},
   "outputs": [
    {
     "data": {
      "text/plain": [
       "'Jerzy'"
      ]
     },
     "execution_count": 82,
     "metadata": {},
     "output_type": "execute_result"
    }
   ],
   "source": [
    "Jerzy.imie #działa, bo w klasie nadrzędnej jest getter"
   ]
  },
  {
   "cell_type": "code",
   "execution_count": 83,
   "id": "b4df3f1e",
   "metadata": {},
   "outputs": [
    {
     "ename": "AttributeError",
     "evalue": "'Pracownik' object has no attribute 'stanowisko'",
     "output_type": "error",
     "traceback": [
      "\u001b[1;31m---------------------------------------------------------------------------\u001b[0m",
      "\u001b[1;31mAttributeError\u001b[0m                            Traceback (most recent call last)",
      "Input \u001b[1;32mIn [83]\u001b[0m, in \u001b[0;36m<cell line: 1>\u001b[1;34m()\u001b[0m\n\u001b[1;32m----> 1\u001b[0m \u001b[43mJerzy\u001b[49m\u001b[38;5;241;43m.\u001b[39;49m\u001b[43mstanowisko\u001b[49m\n",
      "\u001b[1;31mAttributeError\u001b[0m: 'Pracownik' object has no attribute 'stanowisko'"
     ]
    }
   ],
   "source": [
    "Jerzy.stanowisko #nie działa, bo w tej klasie nie ma gettera (ale powinien być)"
   ]
  },
  {
   "cell_type": "code",
   "execution_count": 84,
   "id": "43666b65",
   "metadata": {},
   "outputs": [
    {
     "data": {
      "text/plain": [
       "64"
      ]
     },
     "execution_count": 84,
     "metadata": {},
     "output_type": "execute_result"
    }
   ],
   "source": [
    "Jerzy.wiek() #bo dziedziczy metody, mimo tego że w tej klasie nie zostało to zaimplementowane"
   ]
  },
  {
   "cell_type": "markdown",
   "id": "f6bbc635",
   "metadata": {},
   "source": [
    "<h3> To co z tą polimorficznością dziedziczną? </h3>\n",
    "\n",
    "A to, że możemy metody w klasie podrzędnej nadpisywać. Przy okazji, zwróćcię uwagę na zastosowanie nowej funkcji super() poniżej"
   ]
  },
  {
   "cell_type": "code",
   "execution_count": 85,
   "id": "c7f4660f",
   "metadata": {},
   "outputs": [],
   "source": [
    "class Pracownik(Osoba):\n",
    "    \n",
    "    def __init__(self, imie, nazwisko, data_urodzenia, pensja, stanowisko): \n",
    "        super().__init__(imie, nazwisko, data_urodzenia) #tu zamiast Osoba, można wywołać funkcję super, czyli odwołanie do klasy nadrzędnej (wtedy pomijamy self)\n",
    "        self._pensja = pensja\n",
    "        self._stanowisko = stanowisko\n",
    "        \n",
    "    def wiek(self): #nadpisujemy funkcję klasy nadrzędnej\n",
    "        return \"Pracownika się o wiek nie pyta\""
   ]
  },
  {
   "cell_type": "code",
   "execution_count": 86,
   "id": "57344ed0",
   "metadata": {},
   "outputs": [
    {
     "data": {
      "text/plain": [
       "'Pracownika się o wiek nie pyta'"
      ]
     },
     "execution_count": 86,
     "metadata": {},
     "output_type": "execute_result"
    }
   ],
   "source": [
    "Jerzy = Pracownik(\"Jerzy\", \"Morgan\", \"20-12-1955\", 5400, \"Handlowiec\")\n",
    "Jerzy.wiek() #metoda wiek dla klasy podrzędnej zachowuje się inaczej niż dla nadrzędnej"
   ]
  },
  {
   "cell_type": "markdown",
   "id": "65edc539",
   "metadata": {},
   "source": [
    "## Moduły\n",
    "\n",
    "Aby uporządkować kod, możemy rozbić go na moduły, które przechowują pewne funkcjonalności i w razie potrzeby są wywoływane.\n",
    "\n",
    "Dzięki temu unikamy definiciji wszystkich funkcji w pamięci za jednym razem, a jedynie wywołujemy wyłącznie potrzebne funkcje.\n",
    "\n",
    "<b> W ten sposób pisane są biblioteki programistyczne </b>\n",
    "\n",
    "Dokładnie w taki sam sposób w jaki importujemy biblioteki, mogą być importowane nasze własne moduły.\n",
    "\n",
    "Moduły również dokumentujemy!"
   ]
  },
  {
   "cell_type": "markdown",
   "id": "ccc1ed47",
   "metadata": {},
   "source": [
    "<img src=\"modules.png\"/>"
   ]
  },
  {
   "cell_type": "markdown",
   "id": "e9e0cac9",
   "metadata": {},
   "source": [
    "### Własne moduły i bilioteki (paczki)\n",
    "\n",
    "Jeśli zatem chcemy napisać własną bibliotekę(a będziemy to robić), to musi ona zawierać pewne ustalone pliki.\n",
    "\n",
    "Jeśli nasz kod zawiera funkcję __main__ należy pamiętać, że kod pod tą funkcją wykona się <b> w czasie importowania biblioteki!</b>. Czasem to bardzo użyteczna funkcja mająca na celu przygotować pewne zmienne.\n",
    "\n",
    "Biblioteka/paczka - aby była rozpoznawalna przez Pythona musi zawierać plik <b>__init.py__</b> - nawet jeśli jest pusty. Bez jego obecności paczka nie zostanie zinterpretowana jako bilbioteka."
   ]
  },
  {
   "cell_type": "markdown",
   "id": "23182c15",
   "metadata": {},
   "source": [
    "Modułami zajmiemy się bliżej, kiedy będą nam już potrzebne"
   ]
  },
  {
   "cell_type": "code",
   "execution_count": null,
   "id": "1a7c7fb2",
   "metadata": {},
   "outputs": [],
   "source": []
  }
 ],
 "metadata": {
  "kernelspec": {
   "display_name": "Python 3 (ipykernel)",
   "language": "python",
   "name": "python3"
  },
  "language_info": {
   "codemirror_mode": {
    "name": "ipython",
    "version": 3
   },
   "file_extension": ".py",
   "mimetype": "text/x-python",
   "name": "python",
   "nbconvert_exporter": "python",
   "pygments_lexer": "ipython3",
   "version": "3.9.12"
  }
 },
 "nbformat": 4,
 "nbformat_minor": 5
}