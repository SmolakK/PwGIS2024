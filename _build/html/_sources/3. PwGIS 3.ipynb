{
 "cells": [
  {
   "cell_type": "markdown",
   "id": "f505eb78",
   "metadata": {},
   "source": [
    "# Moduł 3 - (Q)GIS - warstwy, projekty, podstawowe funkcjonalności"
   ]
  },
  {
   "cell_type": "markdown",
   "id": "84b27a01",
   "metadata": {},
   "source": [
    "## Przypomnienie - co już wiemy\n",
    "\n",
    "Wiemy już, że są przynajmniej 3 sposoby w jaki możemy programować w QGIS.\n",
    "\n",
    "Na wykładzie wykorzystywaliśmy już 4 podstawowe klasy, których będziemy używać:\n",
    "\n",
    "<ul>\n",
    "    <li><b>QgsProject</b> - klasa projektu </li>\n",
    "    <li><b>QgsVectorLayer</b> - klasa warstwy wektorowej </li>\n",
    "    <li><b>QgsRasterLayer</b> - klasa warstwy rastrowej </li>\n",
    "    <li><b>iface</b> - instancja interfejsu aplikacji </li>\n",
    "</ul>\n",
    "\n",
    "Będziemy się im przyglądać z bliższej perspektywy. Rozpocznijmy od przetestowania kilku podstawowych funkcjonalności API.\n"
   ]
  },
  {
   "cell_type": "markdown",
   "id": "41c6955f",
   "metadata": {},
   "source": [
    "## Warstwy rastrowe - przypomnienie i nowe funkcjonalności"
   ]
  },
  {
   "cell_type": "markdown",
   "id": "a5fd3ced",
   "metadata": {},
   "source": [
    "### Dodawanie i usuwanie warstwy"
   ]
  },
  {
   "cell_type": "code",
   "execution_count": null,
   "id": "84ac321f",
   "metadata": {},
   "outputs": [],
   "source": [
    "iface.addRasterLayer(sciezka_do_pliku,\"NE1_50M_SR_W.tif\")"
   ]
  },
  {
   "cell_type": "code",
   "execution_count": null,
   "id": "c28bf9c4",
   "metadata": {},
   "outputs": [],
   "source": [
    "rlayer = iface.addRasterLayer(sciezka_do_pliku,\"NE1_50M_SR_W.tif\")\n",
    "projekt.removeMapLayer(rlayer)"
   ]
  },
  {
   "cell_type": "markdown",
   "id": "3bde5297",
   "metadata": {},
   "source": [
    "## Właściwości warstwy"
   ]
  },
  {
   "cell_type": "code",
   "execution_count": null,
   "id": "129b02ba",
   "metadata": {},
   "outputs": [],
   "source": [
    "rlayer.width() # wyskosc\n",
    "\n",
    "rlayer.height() # szerokosc\n",
    "\n",
    "rlayer.extent() # zakres\n",
    "\n",
    "rlayer.extent().toString()\n",
    "rlayer.rasterType() #0 = Skala szarosci, 1 = (single band), 2 = Multiband\n",
    "\n",
    "rlayer.isValid() # poprawna\n",
    "\n",
    "rlayer.bandCount() # liczba pasm\n",
    "\n",
    "rlayer.moja.rasterUnitsPerPixelX() #liczba jednostek na piksel w osi X\n",
    "\n",
    "rlayer.moja.rasterUnitsPerPixelY() #liczba jednostek na piksel w osi Y\n",
    "\n",
    "rlayer.metadata() # QgsMetadata\n"
   ]
  },
  {
   "cell_type": "markdown",
   "id": "bfe6502b",
   "metadata": {},
   "source": [
    "### Pytanie: \n",
    "\n",
    "1. Ile jest łącznie pikseli?\n",
    "\n",
    "2. Jaki jest zakres przestrzenny w osi X?"
   ]
  },
  {
   "cell_type": "markdown",
   "id": "f10ea46d",
   "metadata": {},
   "source": [
    "### Pobieranie danych z rastra\n",
    "\n",
    "Wykonujemy z wykorzystaniem metody dataProvider() <b> będziemy jej używać często </b> - więc dobrze to zapamiętajmy!\n",
    "\n",
    "dataProvider() pozwala na dostęp do plików i bazy danych, która jest przypisana do danej warstwy. Jest to metoda dostępu do jej danych!"
   ]
  },
  {
   "cell_type": "code",
   "execution_count": null,
   "id": "65033204",
   "metadata": {},
   "outputs": [],
   "source": [
    "ident = rlayer.dataProvider().identify(QgsPointXY(453138,81225), QgsRaster.IdentifyFormatValue)\n",
    "ident.results()"
   ]
  },
  {
   "cell_type": "markdown",
   "id": "83f77807",
   "metadata": {},
   "source": [
    "### Pytanie:\n",
    "\n",
    "1. Jak odczytać wszystkie piksele w bloku (tzw. BoundingBox)?"
   ]
  },
  {
   "cell_type": "markdown",
   "id": "6b8b9575",
   "metadata": {},
   "source": [
    "## Warstwy wektorowe - przypomnienie i nowe funkcjonalności"
   ]
  },
  {
   "cell_type": "markdown",
   "id": "19b884db",
   "metadata": {},
   "source": [
    "### Ładowanie danych - przypomnienie"
   ]
  },
  {
   "cell_type": "code",
   "execution_count": 1,
   "id": "3e502a82",
   "metadata": {},
   "outputs": [
    {
     "ename": "NameError",
     "evalue": "name 'iface' is not defined",
     "output_type": "error",
     "traceback": [
      "\u001b[1;31m---------------------------------------------------------------------------\u001b[0m",
      "\u001b[1;31mNameError\u001b[0m                                 Traceback (most recent call last)",
      "Input \u001b[1;32mIn [1]\u001b[0m, in \u001b[0;36m<cell line: 2>\u001b[1;34m()\u001b[0m\n\u001b[0;32m      1\u001b[0m \u001b[38;5;66;03m#Ładujemy dane\u001b[39;00m\n\u001b[1;32m----> 2\u001b[0m budynki \u001b[38;5;241m=\u001b[39m \u001b[43miface\u001b[49m\u001b[38;5;241m.\u001b[39maddVectorLayer(os\u001b[38;5;241m.\u001b[39mpath\u001b[38;5;241m.\u001b[39mjoin(wektor_folder,\u001b[38;5;124m\"\u001b[39m\u001b[38;5;124mBudynki_JG.shp\u001b[39m\u001b[38;5;124m\"\u001b[39m),\u001b[38;5;124m\"\u001b[39m\u001b[38;5;124mdrogi\u001b[39m\u001b[38;5;124m\"\u001b[39m,\u001b[38;5;124m\"\u001b[39m\u001b[38;5;124mogr\u001b[39m\u001b[38;5;124m\"\u001b[39m)\n",
      "\u001b[1;31mNameError\u001b[0m: name 'iface' is not defined"
     ]
    }
   ],
   "source": [
    "#Ładujemy dane\n",
    "budynki = iface.addVectorLayer(os.path.join(wektor_folder,\"Budynki_JG.shp\"),\"drogi\",\"ogr\")"
   ]
  },
  {
   "cell_type": "markdown",
   "id": "89dc421a",
   "metadata": {},
   "source": [
    "### Pozyskanie obiektów na warstwie - przypomnienie"
   ]
  },
  {
   "cell_type": "code",
   "execution_count": null,
   "id": "def0c0dd",
   "metadata": {},
   "outputs": [],
   "source": [
    "layer.getFeatures()\n",
    "features = [feature for feature in budynki.getFeatures()][:20]"
   ]
  },
  {
   "cell_type": "code",
   "execution_count": null,
   "id": "4cc8120d",
   "metadata": {},
   "outputs": [],
   "source": [
    "for obiekt in features:\n",
    "    print(obiekt.id())\n",
    "    \n",
    "for obiekt in features:\n",
    "    print(obiekt.geometry()) #Zwraca klasę geometrii\n",
    "\n",
    "for obiekt in features:\n",
    "    print(obiekt.geometry().length())\n",
    "\n",
    "for obiekt in features:\n",
    "    print(obiekt.attributes())\n",
    "\n",
    "for obiekt in features:\n",
    "    print(obiekt[#nazwa_atrybutu])"
   ]
  },
  {
   "cell_type": "markdown",
   "id": "e41b308c",
   "metadata": {},
   "source": [
    "### Selekcja obiektów - NOWOŚĆ"
   ]
  },
  {
   "cell_type": "markdown",
   "id": "ec5936bd",
   "metadata": {},
   "source": [
    "Wybierz wszystko:"
   ]
  },
  {
   "cell_type": "code",
   "execution_count": null,
   "id": "ba640114",
   "metadata": {},
   "outputs": [],
   "source": [
    "warstwa.selectAll()"
   ]
  },
  {
   "cell_type": "markdown",
   "id": "df434c93",
   "metadata": {},
   "source": [
    "Wybór poprzez zapytanie:"
   ]
  },
  {
   "cell_type": "code",
   "execution_count": null,
   "id": "9bfcf650",
   "metadata": {},
   "outputs": [],
   "source": [
    "warstwa.selectByExpression(<zapytanie>)"
   ]
  },
  {
   "cell_type": "markdown",
   "id": "b72d211b",
   "metadata": {},
   "source": [
    "    Zapytanie w \"\"\" \"\"\" (potrójny cudzysłów)\n",
    "    Nazwy pól w \" \" (cudzysłów)\n",
    "    Wartości w ' ' (apostrof)\n",
    "    Przyrównanie jest pojedynczym znakiem równości!"
   ]
  },
  {
   "cell_type": "code",
   "execution_count": null,
   "id": "b58404c7",
   "metadata": {},
   "outputs": [],
   "source": [
    "warstwa.selectByExpression(\"\"\"\"name\"='Poland'\"\"\")"
   ]
  },
  {
   "cell_type": "code",
   "execution_count": null,
   "id": "d9005839",
   "metadata": {},
   "outputs": [],
   "source": [
    "warstwa.selectByExpression(\"\"\" substr(\"name\",1,1)  = 'O' \"\"\")"
   ]
  },
  {
   "cell_type": "markdown",
   "id": "44040b37",
   "metadata": {},
   "source": [
    "Wybrane obiekty:"
   ]
  },
  {
   "cell_type": "code",
   "execution_count": null,
   "id": "5cb62a2b",
   "metadata": {},
   "outputs": [],
   "source": [
    "selection = warstwy.selectedFeatures()"
   ]
  },
  {
   "cell_type": "markdown",
   "id": "6bb1a012",
   "metadata": {},
   "source": [
    "Iteracja po selekcji:"
   ]
  },
  {
   "cell_type": "code",
   "execution_count": null,
   "id": "4fcc229e",
   "metadata": {},
   "outputs": [],
   "source": [
    "print(len(selection))\n",
    "for feature in selection:\n",
    "    print(feature.id())"
   ]
  },
  {
   "cell_type": "markdown",
   "id": "0294625e",
   "metadata": {},
   "source": [
    "### Właściwości selekcji"
   ]
  },
  {
   "cell_type": "markdown",
   "id": "63fc13e9",
   "metadata": {},
   "source": [
    "Klasa płótna (czyli okna mapy)"
   ]
  },
  {
   "cell_type": "code",
   "execution_count": null,
   "id": "a6402ba5",
   "metadata": {},
   "outputs": [],
   "source": [
    "iface.mapCanvas()"
   ]
  },
  {
   "cell_type": "markdown",
   "id": "3343b7e8",
   "metadata": {},
   "source": [
    "Pozwala na edycję wyświetlania zaznaczenia:"
   ]
  },
  {
   "cell_type": "code",
   "execution_count": null,
   "id": "82f94bc4",
   "metadata": {},
   "outputs": [],
   "source": [
    "iface.mapCanvas().setSelectionColor(QColor(\"magenta\"))"
   ]
  },
  {
   "cell_type": "markdown",
   "id": "6d7d7bd6",
   "metadata": {},
   "source": [
    "Lub w HEX RGB:"
   ]
  },
  {
   "cell_type": "code",
   "execution_count": null,
   "id": "9fa52da7",
   "metadata": {},
   "outputs": [],
   "source": [
    "iface.mapCanvas().setSelectionColor(QColor(\"#FFFF00\"))"
   ]
  },
  {
   "cell_type": "markdown",
   "id": "daa0a4e1",
   "metadata": {},
   "source": [
    "## Modyfikacja danych\n",
    "\n",
    "### Klasy które dotychczas używaliśmy"
   ]
  },
  {
   "cell_type": "markdown",
   "id": "9aab0b9b",
   "metadata": {},
   "source": [
    "Używaliśmy klas QGISa:\n",
    "\n",
    "    QgsProject\n",
    "    QgsVectorLayer\n",
    "    QgsRasterLayer\n",
    "    QgsMapLayer\n",
    "    QgsField\n",
    "    QgsFeature\n",
    "    QgsGeometry\n",
    "\n",
    "i klasy interfejsu, która jest automatycznie zinstancjonowana przy uruchomieniu QGISa: \n",
    "\n",
    "    iface\n",
    "    \n",
    "oraz istotnej metody dostępu do obiektów warstwy, której będziemy dziś sporo używać:\n",
    "\n",
    "    dataProvider()"
   ]
  },
  {
   "cell_type": "markdown",
   "id": "ba8fe2e8",
   "metadata": {},
   "source": [
    "### Odświeżenie wizualizacji"
   ]
  },
  {
   "cell_type": "code",
   "execution_count": null,
   "id": "c6a0f3f1",
   "metadata": {},
   "outputs": [],
   "source": [
    "#odświeżanie\n",
    "warstwa.triggerRepaint() #metoda warstwy\n",
    "#LUB\n",
    "iface.mapCanvas().refresh() #metoda intefejsu, mapCanvas() zwraca referencję do \"płótna\" mapy"
   ]
  },
  {
   "cell_type": "markdown",
   "id": "7c05660d",
   "metadata": {},
   "source": [
    "### Dodawanie nowych obiektów"
   ]
  },
  {
   "cell_type": "markdown",
   "id": "7c14a5f5",
   "metadata": {},
   "source": [
    "Zakładamy, że pracujemy na jakiejś warstwie wektorowej o charakterze LineString. Do wykładu dołączyłem taką warstwę.\n",
    "\n",
    "Każdy obiekt (QgsFeature) warstwy wektorowej (QgsVectorLayer) ma:\n",
    "<ul>\n",
    "    <li> Atrybuty </li>\n",
    "    <li> Geometrię (QgsGeometry) </li>\n",
    "</ul>\n",
    "\n",
    "Przy tworzeniu obiektów należy ustalić oba.\n",
    "\n",
    "Najpierw tworzymy pusty obiekt:"
   ]
  },
  {
   "cell_type": "code",
   "execution_count": null,
   "id": "c2ff20e5",
   "metadata": {},
   "outputs": [],
   "source": [
    "feat = QgsFeature(warstwa.fields()) #instancja obiektu QgsFeature, parametrem są pola wartości QgsField warstwy"
   ]
  },
  {
   "cell_type": "markdown",
   "id": "053a4aa6",
   "metadata": {},
   "source": [
    "Nie jest jeszcze przypisany do warstwy, zrobimy to później. Teraz nadajemy mu atrybuty oraz goemetrię:"
   ]
  },
  {
   "cell_type": "code",
   "execution_count": 3,
   "id": "01aea04d",
   "metadata": {},
   "outputs": [
    {
     "ename": "NameError",
     "evalue": "name 'feat' is not defined",
     "output_type": "error",
     "traceback": [
      "\u001b[1;31m---------------------------------------------------------------------------\u001b[0m",
      "\u001b[1;31mNameError\u001b[0m                                 Traceback (most recent call last)",
      "Input \u001b[1;32mIn [3]\u001b[0m, in \u001b[0;36m<cell line: 1>\u001b[1;34m()\u001b[0m\n\u001b[1;32m----> 1\u001b[0m \u001b[43mfeat\u001b[49m\u001b[38;5;241m.\u001b[39msetAttributes([\u001b[38;5;124m'\u001b[39m\u001b[38;5;124mA\u001b[39m\u001b[38;5;124m'\u001b[39m,\u001b[38;5;124m'\u001b[39m\u001b[38;5;124mB\u001b[39m\u001b[38;5;124m'\u001b[39m,\u001b[38;5;124m'\u001b[39m\u001b[38;5;124mC\u001b[39m\u001b[38;5;124m'\u001b[39m,\u001b[38;5;124m'\u001b[39m\u001b[38;5;124mD\u001b[39m\u001b[38;5;124m'\u001b[39m,\u001b[38;5;124m'\u001b[39m\u001b[38;5;124mE\u001b[39m\u001b[38;5;124m'\u001b[39m,\u001b[38;5;124m'\u001b[39m\u001b[38;5;124mF\u001b[39m\u001b[38;5;124m'\u001b[39m,\u001b[38;5;124m'\u001b[39m\u001b[38;5;124mG\u001b[39m\u001b[38;5;124m'\u001b[39m,\u001b[38;5;124m'\u001b[39m\u001b[38;5;124mH\u001b[39m\u001b[38;5;124m'\u001b[39m])\n",
      "\u001b[1;31mNameError\u001b[0m: name 'feat' is not defined"
     ]
    }
   ],
   "source": [
    "feat.setAttributes(['A','B','C','D','E','F','G','H']) #dodajemy atrybuty, ta warstwa ma 8 atrybutów"
   ]
  },
  {
   "cell_type": "code",
   "execution_count": 4,
   "id": "63ad775d",
   "metadata": {},
   "outputs": [
    {
     "ename": "NameError",
     "evalue": "name 'QgsPointXY' is not defined",
     "output_type": "error",
     "traceback": [
      "\u001b[1;31m---------------------------------------------------------------------------\u001b[0m",
      "\u001b[1;31mNameError\u001b[0m                                 Traceback (most recent call last)",
      "Input \u001b[1;32mIn [4]\u001b[0m, in \u001b[0;36m<cell line: 2>\u001b[1;34m()\u001b[0m\n\u001b[0;32m      1\u001b[0m \u001b[38;5;66;03m#Tworzymy geometrię - czworokąt z czterech punktów\u001b[39;00m\n\u001b[1;32m----> 2\u001b[0m left_up \u001b[38;5;241m=\u001b[39m \u001b[43mQgsPointXY\u001b[49m(\u001b[38;5;241m60.00\u001b[39m,\u001b[38;5;241m-\u001b[39m\u001b[38;5;241m63.89\u001b[39m)\n\u001b[0;32m      3\u001b[0m left_down \u001b[38;5;241m=\u001b[39m QgsPointXY(\u001b[38;5;241m60.00\u001b[39m,\u001b[38;5;241m-\u001b[39m\u001b[38;5;241m60.89\u001b[39m)\n\u001b[0;32m      4\u001b[0m right_down \u001b[38;5;241m=\u001b[39m QgsPointXY(\u001b[38;5;241m62.00\u001b[39m,\u001b[38;5;241m-\u001b[39m\u001b[38;5;241m60.89\u001b[39m)\n",
      "\u001b[1;31mNameError\u001b[0m: name 'QgsPointXY' is not defined"
     ]
    }
   ],
   "source": [
    "#Tworzymy geometrię - czworokąt z czterech punktów\n",
    "left_up = QgsPointXY(60.00,-63.89)\n",
    "left_down = QgsPointXY(60.00,-60.89)\n",
    "right_down = QgsPointXY(62.00,-60.89)\n",
    "right_up = QgsPointXY(62.00,-63.89)"
   ]
  },
  {
   "cell_type": "markdown",
   "id": "16160381",
   "metadata": {},
   "source": [
    "QgsGeometry to klasa geometrii, która może przyjmować postać punktów, linii i poligonów. Najczęściej budowana jest z punktów, czyli z klasy ([nowa klasa!]) QgsPoint:\n",
    "\n",
    "    QgsPoint(x,y)\n",
    "\n",
    "Następnie stosujemy jedno z poleceń .from __geometria__, czyli:\n",
    " \n",
    "    fromPolyline, fromPolygonXY, fromPointXY lub fromWKT - czyli typu danych WKT"
   ]
  },
  {
   "cell_type": "code",
   "execution_count": null,
   "id": "9642d68e",
   "metadata": {},
   "outputs": [],
   "source": [
    "points = [left_up, left_down, right_down, right_up, left_up]\n",
    "geometria = QgsGeometry.fromPolygonXY([points])\n",
    "feat.setGeometry(geometria)"
   ]
  },
  {
   "cell_type": "markdown",
   "id": "c529fe2c",
   "metadata": {},
   "source": [
    "Teraz możemy go dodać do warstwy:"
   ]
  },
  {
   "cell_type": "code",
   "execution_count": null,
   "id": "ebff1a16",
   "metadata": {},
   "outputs": [],
   "source": [
    "warstwa.dataProvider().addFeatures([feat])"
   ]
  },
  {
   "cell_type": "markdown",
   "id": "fde1b377",
   "metadata": {},
   "source": [
    "### QgsGeometry\n",
    "\n",
    "Geometria w QGIS dotyczy warstw wektorowych i jest klasą opisującą właściwości przestrzenne obiektu.\n",
    "\n",
    "Geometria może przyjąć trzy rodzaje:\n",
    "\n",
    "    Puntkowa\n",
    "    Liniowa\n",
    "    Wielokątowa\n",
    "    \n",
    "W QGIS jest kilka typów geometrii przypisanych do tych typów warstw:\n",
    "\n",
    "    Puntkowa - Point lub MultiPoint\n",
    "    Liniowa - Polyline lub MultiPolyline\n",
    "    Wielokątowa - Polygon lub MultiPolygon\n",
    "\n",
    "Każda z nich ma własną funkcję konstruującą QgsGeometry: https://api.qgis.org/api/classQgsGeometry.html#aae8fe6015cafdd4990feff3077881b60\n"
   ]
  },
  {
   "cell_type": "markdown",
   "id": "c8595c7f",
   "metadata": {},
   "source": [
    "### WKT - Well-known text representation of geometry\n",
    "\n",
    "Wygodniej jest stosować format WKT"
   ]
  },
  {
   "cell_type": "markdown",
   "id": "1a254c78",
   "metadata": {},
   "source": [
    "To jeden ze standardów OGC, który pozwala na opisanie każdego typu geometrii:\n",
    "\n",
    "    Point (jeden), MultiPoint (kolekcja),\n",
    "    LineString (jeden), MultiLineString (kolekcja),\n",
    "    Polygon (jeden), MultiPolygon (kolekcja).\n",
    "\n",
    "Definicja:\n",
    "\n",
    "    Nazwa (x y)\n",
    "\n",
    "Punkt:\n",
    "\n",
    "    POINT (10 30) - Punkt o współrzędnych x=10 i y = 30\n",
    "\n",
    "Linia:\n",
    "\n",
    "    LINESTRING (30 10, 10 30) - to linia (prosta) o współrzędnych pierwszego wierzchołka X = 30, Y = 10 i drugiego X = 10, Y = 30\n",
    "\n",
    "    LINESTRING (30 10, 10 30, 40 40) - to linia łamana, o trzech punktach\n",
    "    \n",
    "Poligon:\n",
    "\n",
    "    POLYGON ((30 10, 40 40, 20 20, 10 20, 30 10))\n",
    "    \n",
    "    POLYGON ((35 10, 45 45, 15 40, 10 20, 35 10), (20 30, 35 35, 30 20, 20 30))\n",
    "    \n",
    "    Pierwsza i ostatnia współrzędna się powtarzają, bo wielobok musi mieć zamkniętą geometrię (czyli ma 4 wierzchołki)\n",
    "    \n",
    "    Zapis w podwójnym nawiasie umowżliwia podanie współrzędnych “otworu” w geometrii. Jak w drugim przykładzie.\n",
    "    \n",
    "    Kolekcje geometrii skłdają się z przynajmniej podwójnego zagnieżdżenia nawiasów. \n",
    "    \n",
    "Naprawdę niezły przykład jest w tabelce na Wikipedii:\n",
    "\n",
    "    https://en.wikipedia.org/wiki/Well-known_text_representation_of_geometry"
   ]
  },
  {
   "cell_type": "markdown",
   "id": "1154524a",
   "metadata": {},
   "source": [
    "### WKB - Well-known binary\n",
    "\n",
    "Binarny odpowiednik WKT. Zapis tych samych geometrii, ale językiem binarnym. Szybszy w składowaniu o odczytywaniu."
   ]
  },
  {
   "cell_type": "markdown",
   "id": "7e9753f1",
   "metadata": {},
   "source": [
    "Przykład zastosowania WKT do kreacji obiektu na warstwie:"
   ]
  },
  {
   "cell_type": "code",
   "execution_count": null,
   "id": "55ebc54f",
   "metadata": {},
   "outputs": [],
   "source": [
    "wkt_polygon = 'POLYGON ((40.0 -63.89, 60.0 -60.89, 62.0 -60.89, 62.0 -63.89, 40.0 -63.89))'"
   ]
  },
  {
   "cell_type": "code",
   "execution_count": null,
   "id": "97c2b29d",
   "metadata": {},
   "outputs": [],
   "source": [
    "geometria = QgsGeometry.fromWkt(wkt_polygon)"
   ]
  },
  {
   "cell_type": "markdown",
   "id": "70fb8fd7",
   "metadata": {},
   "source": [
    "<h2> Usuwanie obiektów </h2>\n",
    "\n",
    "Wystarczy podać ich indeks:"
   ]
  },
  {
   "cell_type": "code",
   "execution_count": null,
   "id": "3d85ceff",
   "metadata": {},
   "outputs": [],
   "source": [
    "warstwa.dataProvider().deleteFeatures([0])"
   ]
  },
  {
   "cell_type": "markdown",
   "id": "0f437732",
   "metadata": {},
   "source": [
    "Teraz zmieńmy wartość podanych atrybutów pierwszego obiektu:"
   ]
  },
  {
   "cell_type": "code",
   "execution_count": 5,
   "id": "ec7bc29f",
   "metadata": {},
   "outputs": [
    {
     "ename": "NameError",
     "evalue": "name 'warstwa' is not defined",
     "output_type": "error",
     "traceback": [
      "\u001b[1;31m---------------------------------------------------------------------------\u001b[0m",
      "\u001b[1;31mNameError\u001b[0m                                 Traceback (most recent call last)",
      "Input \u001b[1;32mIn [5]\u001b[0m, in \u001b[0;36m<cell line: 2>\u001b[1;34m()\u001b[0m\n\u001b[0;32m      1\u001b[0m attrs \u001b[38;5;241m=\u001b[39m { \u001b[38;5;241m0\u001b[39m : \u001b[38;5;124m'\u001b[39m\u001b[38;5;124mA\u001b[39m\u001b[38;5;124m'\u001b[39m, \u001b[38;5;241m1\u001b[39m : \u001b[38;5;124m'\u001b[39m\u001b[38;5;124mB\u001b[39m\u001b[38;5;124m'\u001b[39m, \u001b[38;5;241m2\u001b[39m: \u001b[38;5;124m'\u001b[39m\u001b[38;5;124mC\u001b[39m\u001b[38;5;124m'\u001b[39m, \u001b[38;5;241m3\u001b[39m: \u001b[38;5;124m'\u001b[39m\u001b[38;5;124mD\u001b[39m\u001b[38;5;124m'\u001b[39m } \u001b[38;5;66;03m#pole 1 otrzyma 'A', pole 2 otrzyma 'B', itd.\u001b[39;00m\n\u001b[1;32m----> 2\u001b[0m \u001b[43mwarstwa\u001b[49m\u001b[38;5;241m.\u001b[39mdataProvider()\u001b[38;5;241m.\u001b[39mchangeAttributeValues({ \u001b[38;5;241m1\u001b[39m : attrs })\n",
      "\u001b[1;31mNameError\u001b[0m: name 'warstwa' is not defined"
     ]
    }
   ],
   "source": [
    "attrs = { 0 : 'A', 1 : 'B', 2: 'C', 3: 'D' } #pole 1 otrzyma 'A', pole 2 otrzyma 'B', itd.\n",
    "warstwa.dataProvider().changeAttributeValues({ 1 : attrs }) #obiekt o indeksie nr 1 zostanie zmieniony"
   ]
  },
  {
   "cell_type": "markdown",
   "id": "05ba812c",
   "metadata": {},
   "source": [
    "Zmieńmy jeszcze geometrię:"
   ]
  },
  {
   "cell_type": "code",
   "execution_count": null,
   "id": "b9d99dc5",
   "metadata": {},
   "outputs": [],
   "source": [
    "wkt_polygon = 'POLYGON ((60.0 -63.89, 60.0 -60.89, 62.0 -60.89, 62.0 -63.89, 60.0 -63.89))'"
   ]
  },
  {
   "cell_type": "code",
   "execution_count": null,
   "id": "06b41ad0",
   "metadata": {},
   "outputs": [],
   "source": [
    "geom = QgsGeometry.fromWkt(wkt_polygon)\n",
    "warstwa.dataProvider().changeGeometryValues({1: geom})"
   ]
  },
  {
   "cell_type": "markdown",
   "id": "77e6458f",
   "metadata": {},
   "source": [
    "## Tryb edycji"
   ]
  },
  {
   "cell_type": "markdown",
   "id": "2d12ac4e",
   "metadata": {},
   "source": [
    "Ta zmiana jest <b> stała </b>. \n",
    "\n",
    "Tryb edycji jest niezbędny do tego, żeby zatwierdzać lub odrzucać zmiany."
   ]
  },
  {
   "cell_type": "markdown",
   "id": "dabcea18",
   "metadata": {},
   "source": [
    "Zmiany dokonane w trybie edycji mogą zostać odwrócone, dlatego też przed każdą decyzją najlepiej skorzystać jest z metod warstwy wektorowej:\n",
    "\n",
    "    startEditing() - rozpocznij edycje\n",
    "    commitChanges() - dokonaj zmian\n",
    "    rollBack() - przywróć zmiany\n",
    "    \n",
    "    isEditable() - sprawdź czy warstwa jest edytowalna\n",
    "    \n"
   ]
  }
 ],
 "metadata": {
  "kernelspec": {
   "display_name": "Python 3 (ipykernel)",
   "language": "python",
   "name": "python3"
  },
  "language_info": {
   "codemirror_mode": {
    "name": "ipython",
    "version": 3
   },
   "file_extension": ".py",
   "mimetype": "text/x-python",
   "name": "python",
   "nbconvert_exporter": "python",
   "pygments_lexer": "ipython3",
   "version": "3.9.12"
  }
 },
 "nbformat": 4,
 "nbformat_minor": 5
}
