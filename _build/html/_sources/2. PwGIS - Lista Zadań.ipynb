{
 "cells": [
  {
   "cell_type": "markdown",
   "id": "92f5689a",
   "metadata": {},
   "source": [
    "# Moduł 2 - Lista Zadań\n",
    "\n",
    "Ćwiczenia odbywają się z wykorzystaniem warstw shp \n",
    "\n",
    "Granic przynależności terenów do sądów apelacyjnych: https://www.gis-support.pl/downloads/sad_apelacyjny.zip\n",
    "\n",
    "Oraz granic archiwów Państwowych Polski: https://www.gis-support.pl/downloads/archiwum_panstwowe.zip\n",
    "\n",
    "Raster powierzchni Ziemi: https://www.naturalearthdata.com/http//www.naturalearthdata.com/download/50m/raster/NE1_50M_SR_W.zip\n",
    "\n",
    "Miejscowości: https://dane.gov.pl/pl/dataset/780,panstwowy-rejestr-nazw-geograficznych-prng/resource/26773"
   ]
  },
  {
   "cell_type": "markdown",
   "id": "c8c178cf",
   "metadata": {},
   "source": [
    "1. Za pomocą wczytywania warstw wektorowych wczytaj warstwy do QGIS i dodaje je do mapy. Zapisz projekt za pomocą kodu.\n"
   ]
  },
  {
   "cell_type": "markdown",
   "id": "26787fab",
   "metadata": {},
   "source": [
    "2. Napisz funkcję, która wczytuje warstwę z wykorzystaniem odpowiedniej funkcji, w zależności od tego czy jest to warstwa wektorowa czy też rastrowa."
   ]
  },
  {
   "cell_type": "markdown",
   "id": "54af45cb",
   "metadata": {},
   "source": [
    "3. Napisz funkcję, która wczytaje wszystkie warstwy danych z podanego folderu."
   ]
  },
  {
   "cell_type": "markdown",
   "id": "f5c06d86",
   "metadata": {},
   "source": [
    "4. Napisz funkcję, która liczy i zwraca całkowitą liczbę obiektów na warstwie wektorowej."
   ]
  },
  {
   "cell_type": "markdown",
   "id": "3b051460",
   "metadata": {},
   "source": [
    "5. Napisz funkcję, która wyświetla wszystkie pola danych warstwy, które mają podany typ danej."
   ]
  },
  {
   "cell_type": "markdown",
   "id": "8240f198",
   "metadata": {},
   "source": [
    "6. Napisz funkcję, która oblicza łączną powierzchnię wszystkich obiektów na warstwie. Opcjonalnie dopuść możliwość, że użytkownik podaje ile N pierwszych obiektów chce wykorzystać do obliczenia. Domyślnie wczytywane mają być wszystkie obiekty z warstwy."
   ]
  },
  {
   "cell_type": "markdown",
   "id": "14fcf2b7",
   "metadata": {},
   "source": [
    "7. Napisz funkcję, która wyświetla wszystkie wartości atrybutu o zadanej nazwie pola."
   ]
  }
 ],
 "metadata": {
  "kernelspec": {
   "display_name": "Python 3 (ipykernel)",
   "language": "python",
   "name": "python3"
  },
  "language_info": {
   "codemirror_mode": {
    "name": "ipython",
    "version": 3
   },
   "file_extension": ".py",
   "mimetype": "text/x-python",
   "name": "python",
   "nbconvert_exporter": "python",
   "pygments_lexer": "ipython3",
   "version": "3.9.12"
  }
 },
 "nbformat": 4,
 "nbformat_minor": 5
}
