{
 "cells": [
  {
   "cell_type": "markdown",
   "id": "85068d4e",
   "metadata": {},
   "source": [
    "# Moduł 7 - Własna wtyczka do QGIS (Część 2)"
   ]
  },
  {
   "cell_type": "markdown",
   "id": "c4e8fcbf",
   "metadata": {},
   "source": [
    "Dziś kontynuujemy zagadnienie tworzenia własnego pluginu. Wykład obejmie zagadnienia:\n",
    "    \n",
    "    Dodawania elementów interfejsu i ich oprogramowanie\n",
    "    \n",
    "    Wykorzystanie funkcjonalności QGISa we własnej aplikacji"
   ]
  },
  {
   "cell_type": "markdown",
   "id": "974fb9a0",
   "metadata": {},
   "source": [
    "Jedna uwaga. Na górze wtyczki warto zaimportować wszystkie funkcjonalności QGISa, w razie gdyby coś wam nie działało upewnijcie się że na górze dodany został import:"
   ]
  },
  {
   "cell_type": "code",
   "execution_count": null,
   "id": "719fca03",
   "metadata": {},
   "outputs": [],
   "source": [
    "from qgis.utils import *\n",
    "from qgis.core import *\n",
    "from qgis.gui import *"
   ]
  },
  {
   "cell_type": "markdown",
   "id": "4359cebe",
   "metadata": {},
   "source": [
    "## Umiejscowienie wtyczki w głównym oknie"
   ]
  },
  {
   "cell_type": "markdown",
   "id": "2874685d",
   "metadata": {},
   "source": [
    "Obecnie nasz plugin jest już dostępny i jest otwieralny w środowisku QGIS. Dostępny jest jako ikonka na głównym pasku.\n",
    "\n",
    "Możemy zmienić umiejscowienie wtyczki w QGIS i umieścić ją w rozwijalnym menu. Jest to zwłaszcza przydatne gdy chcemy dodać więcej niż jedno uruchamialne okno w ramach naszej wtyczki.\n",
    "\n",
    "Do tego musimy (poza ikoną QAction) zdefiniować nowe menu QMenu:"
   ]
  },
  {
   "cell_type": "code",
   "execution_count": null,
   "id": "4fa999a8",
   "metadata": {},
   "outputs": [],
   "source": [
    "self.menu = QMenu(self.iface.mainWindow()) #tworzymy nowy obiekt QMenu przypisany do głownego okna\n",
    "self.menu.setTitle(\"Menu Wtyczki\") #nadajemy nazwę menu"
   ]
  },
  {
   "cell_type": "markdown",
   "id": "0575e112",
   "metadata": {},
   "source": [
    "Teraz do menu możemy dodać naszą \"Akcję\" czyli ikonkę. W ten sam sposob możemy dodawać naszą aplikacją do już istniejących pasków rozwijalnych menu."
   ]
  },
  {
   "cell_type": "code",
   "execution_count": null,
   "id": "85c8d2fc",
   "metadata": {},
   "outputs": [],
   "source": [
    "self.menu.addAction(self.action)"
   ]
  },
  {
   "cell_type": "markdown",
   "id": "5f35e271",
   "metadata": {},
   "source": [
    "W tym momencie nasz pasek menu jeszcze nie został dodany do interfejsu QGIS, by to zrobić musimy wykonać dwa kroki:"
   ]
  },
  {
   "cell_type": "code",
   "execution_count": null,
   "id": "70f82969",
   "metadata": {},
   "outputs": [],
   "source": [
    "menuBar = self.iface.mainWindow().menuBar() #pobrać referencję do głównego paska menu\n",
    "menuBar.addAction(self.menu.menuAction())\n",
    "#i metodą addAction dodać nasze nowe menu do menuBar"
   ]
  },
  {
   "cell_type": "markdown",
   "id": "2b1bedcc",
   "metadata": {},
   "source": [
    "Pamiętamy o zmianie funkcji unload() by usuawała menu przy a nie ikonkę!"
   ]
  },
  {
   "cell_type": "code",
   "execution_count": null,
   "id": "bf4c7e79",
   "metadata": {},
   "outputs": [],
   "source": [
    "    def unload(self):\n",
    "        self.menu.deleteLater()\n",
    "        del self.action"
   ]
  },
  {
   "cell_type": "markdown",
   "id": "8c38964e",
   "metadata": {},
   "source": [
    "Teraz nasza wtyczka dostępna jest w nowym menu:"
   ]
  },
  {
   "cell_type": "markdown",
   "id": "9f72a6f5",
   "metadata": {},
   "source": [
    "<img src='wyk7_img/1.png' />"
   ]
  },
  {
   "cell_type": "markdown",
   "id": "75169de5",
   "metadata": {},
   "source": [
    "## Rozwijanie interfejsu wtyczki\n",
    "\n",
    "Rozwińmy naszą wtyczkę. Dodajmy kilka nowych elementów:\n",
    "\n",
    "    TabWidget - zakładki.\n",
    "    \n",
    "    W zakładce 1:\n",
    "    Dwa przyciski PushButton\n",
    "    I pole tekstowe LineEdit\n",
    "    \n",
    "    W zakładce 2:\n",
    "    Jeden SpinBox\n",
    "    Jeden CheckBox\n",
    "    \n",
    "Nazwy pozostawiam domyślne, zmieniłem jednak tekst wyświetlany na elementach."
   ]
  },
  {
   "cell_type": "markdown",
   "id": "6e16bc55",
   "metadata": {},
   "source": [
    "<img src='wyk7_img/2.png' />"
   ]
  },
  {
   "cell_type": "markdown",
   "id": "1aaf4365",
   "metadata": {},
   "source": [
    "<img src='wyk7_img/3.png' />"
   ]
  },
  {
   "cell_type": "markdown",
   "id": "9b5f67f8",
   "metadata": {},
   "source": [
    "Oczywiście elementy można modyfikować - zmieniać nazwy, tekst, parametry, wszystko zależnie od klasy obiektu. Przyciski mogą być wyłączane i uruchamiane  w zależności od wciśnięcia jakiegoś innego przycisku lub załadowania określonego pliku. SpinBox może mieć ustaloną domyślną wartość, być zwiększany za każdym kliknięciem o więcej niż 1 i tak dalej. Omówienie wszystkich funkcjonalności widżetów Qt jest zbędne, gdyż ich liczba jest naprawdę duża a w zależności od używanego widżetu w Qt Designer łatwo jest poznać i edytować parametry każdego elementu.\n",
    "\n",
    "Istotne jest zaznaczenie, że parametry elementów które możemy zmieniać w Qt Designer, możemy też zmieniać w Pythonie używając tych samych nazw. Na przykład QWidget posiada parametr enabled (czyli czy widżet jest \"klikalny\"). W programowaniu wtyczki możemy odwołać się do tego przycisku i użyć na nim metody setEnabled by zmienić jego parametr w czasie działania wtyczki. Jeśli nie jest to jasne, to bez obwaw, później zobaczymy to na przykładzie.\n",
    "\n",
    "Zapisujemy okno i pamiętamy o przełożeniu na interfejs Pythona (tak jak na ćwiczeniach)\n",
    "\n",
    "Po przeładowaniu wtyczki zmiany są widoczne:"
   ]
  },
  {
   "cell_type": "markdown",
   "id": "d3c4ab55",
   "metadata": {},
   "source": [
    "<img src='wyk7_img/4.png' />"
   ]
  },
  {
   "cell_type": "markdown",
   "id": "f1575b72",
   "metadata": {},
   "source": [
    "Przyciski nie wykonują jednak żadnej akcji bo takowej nie zaprogramowaliśmy!\n",
    "\n",
    "## Programowanie widżetów\n",
    "\n",
    "Zacznijmy od oprogramowania naszego przycisku \"Otwórz\", jak się domyślamy, ma on pozwalać na otwarcie/wczytanie warstwy do QGIS.\n",
    "\n",
    "Nasz przycisk ma domyślną nazwę pushButton co widać w pliku form.py "
   ]
  },
  {
   "cell_type": "markdown",
   "id": "6355017d",
   "metadata": {},
   "source": [
    "<img src='wyk7_img/5.png' />"
   ]
  },
  {
   "cell_type": "markdown",
   "id": "224caac1",
   "metadata": {},
   "source": [
    "Działanie przycisków będziemy oprogramowywać w funkcji run().\n",
    "\n",
    "Nasz intefrejs został już zapisany pod zmienną klasy self.form. Każdy widżet jest powiązany (dziedziczy) z intefejsem, więc będziemy używać odwołania self.form aby połączyć się z każym widżetem naszego interfejsu.\n",
    "\n",
    "A zatem odwołanie do naszego przycisku to:"
   ]
  },
  {
   "cell_type": "code",
   "execution_count": null,
   "id": "24ba2db9",
   "metadata": {},
   "outputs": [],
   "source": [
    "self.form.pushButton"
   ]
  },
  {
   "cell_type": "markdown",
   "id": "dcaa52ab",
   "metadata": {},
   "source": [
    "Wykorzystując to odwołanie możemy wykonywać na nim opracje. Przykładowo zmienić tekst:"
   ]
  },
  {
   "cell_type": "code",
   "execution_count": null,
   "id": "58175824",
   "metadata": {},
   "outputs": [],
   "source": [
    "self.form.pushButton.setText(\"Otwieraj\")"
   ]
  },
  {
   "cell_type": "markdown",
   "id": "daecbd66",
   "metadata": {},
   "source": [
    "Efekt:\n",
    "    \n",
    "<img src='wyk7_img/6.png' />"
   ]
  },
  {
   "cell_type": "markdown",
   "id": "8031bf0f",
   "metadata": {},
   "source": [
    "Dwie uwagi:\n",
    "\n",
    "    1.Kod należy wprowdzić przed metodą show(), bo metoda show() zatrzymuje wykonywanie kodu\n",
    "    \n",
    "    2. Jako, że zmianę tekstu zaprogramowaliśmy w funkcji run, która jest uruchamiana przy otwarciu okna, zmianę widzimy od razu."
   ]
  },
  {
   "cell_type": "markdown",
   "id": "b242221d",
   "metadata": {},
   "source": [
    "## Uruchamanie funkcji za pomocą przycisksów\n",
    "\n",
    "Aby oprogramować działanie przycisku związane z akcją na nim wykonaną należy wykorzystać sformułowanie:\n",
    "\n",
    "        self.form.nazwa_widżetu.nazwa_sygnału.connect(self.nazwa_funkcji)\n",
    "        \n",
    "Strukturę tę już widzieliśmy na poprzednim wykładzie. Dla naszego przycisku będzie wyglądać tak:     \n",
    "\n"
   ]
  },
  {
   "cell_type": "code",
   "execution_count": null,
   "id": "624d5e1f",
   "metadata": {},
   "outputs": [],
   "source": [
    "self.form.pushButton.clicked.connect(self.otworz)"
   ]
  },
  {
   "cell_type": "markdown",
   "id": "8703c37f",
   "metadata": {},
   "source": [
    "Czyli pushButton po wciśnięciu uruchomi funkcję otworz, którą musimy zaprogramować. Programujemy ją poniżej funkcji run().\n",
    "\n",
    "Istnieje wiele innych sygnałów z których możemy korzystać. Clicked jest podstawowym dla przycisków, ale może to również być zmiana tekstu w polu tekstowym, zmiana wartości SpinBox itp.\n",
    "\n",
    "Tworzymy zatem nową funkcję, która otworzy okno wyboru pliku."
   ]
  },
  {
   "cell_type": "code",
   "execution_count": null,
   "id": "5e67122b",
   "metadata": {},
   "outputs": [],
   "source": [
    "    def otworz(self):\n",
    "        sciezka = QFileDialog.getOpenFileName(self.window, \"Otworz\", \"C:\\\\\", '*.shp')\n",
    "        if QFileDialog.accepted: #jeśli okno zostanie zamknięte\n",
    "            pass #tu rób coś"
   ]
  },
  {
   "cell_type": "markdown",
   "id": "94d082c7",
   "metadata": {},
   "source": [
    "QFileDialog to okno wyboru pliku, które zostanie otworzone przy wywołaniu tej funkcji. Wywoływana jest metoda getOpenFileName, która przekaże scieżkę do wybranego pliku do zmiennej \"sciezka\". \n",
    "\n",
    "Metoda getOpenFileName przyjmuje argumenty (obiekt nadrzędny (tu self.okno), nazwa okna, folder w którym ma się domyślnie otworzć i filtr (tutaj dowolny plik o rozszerzeniu shp).\n",
    "\n",
    "Po przeładowaniu wtyczki możemy zobaczyć czy funkcja działa:"
   ]
  },
  {
   "cell_type": "markdown",
   "id": "81544c61",
   "metadata": {},
   "source": [
    "<img src='wyk7_img/7.png' />"
   ]
  },
  {
   "cell_type": "markdown",
   "id": "a17be994",
   "metadata": {},
   "source": [
    "Oczywiście po wybraniu pliku nic się nie stanie. Należy oprogramować dodanie pliku z odczytanej ścieżki do projektu."
   ]
  },
  {
   "cell_type": "code",
   "execution_count": null,
   "id": "909c147a",
   "metadata": {},
   "outputs": [],
   "source": [
    "    def otworz(self):\n",
    "        sciezka = QFileDialog.getOpenFileName(self.window, \"Otworz\", \"C:\\\\\", '*.shp')\n",
    "        if QFileDialog.accepted:\n",
    "            self.iface.addVectorLayer(sciezka[0], \"plik\", \"ogr\") #[0] bo pod [1] przechowywany jest jeszcze typ pliku"
   ]
  },
  {
   "cell_type": "markdown",
   "id": "d491ba1a",
   "metadata": {},
   "source": [
    "Wyświetlmy jeszcze tę ścieżkę do pliku w naszym widżecie LineEdit:"
   ]
  },
  {
   "cell_type": "code",
   "execution_count": null,
   "id": "61f7c4c7",
   "metadata": {},
   "outputs": [],
   "source": [
    "    def otworz(self):\n",
    "        sciezka = QFileDialog.getOpenFileName(self.window, \"Otworz\", \"C:\\\\\", '*.shp')\n",
    "        if QFileDialog.accepted:\n",
    "            self.iface.addVectorLayer(sciezka[0], \"plik\", \"ogr\")\n",
    "            self.form.lineEdit.setText(sciezka[0]) #zmieniamy tekst w lineEdit"
   ]
  },
  {
   "cell_type": "markdown",
   "id": "fe773c5b",
   "metadata": {},
   "source": [
    "<img src='wyk7_img/8.png' />"
   ]
  },
  {
   "cell_type": "markdown",
   "id": "ffa373bf",
   "metadata": {},
   "source": [
    "Oprogramujmy również nasz przycisk \"Zapisz\". W funkcji run() musimy dodać uruchomienie nowej funkcji zapis. Skorzystamy z innego sygnału \"released\", czyli okno uruchomi się dopiero po tym jak <b> puścimy </b> przycisk:"
   ]
  },
  {
   "cell_type": "code",
   "execution_count": null,
   "id": "13741a9d",
   "metadata": {},
   "outputs": [],
   "source": [
    "self.form.pushButton_2.released.connect(self.zapisz)"
   ]
  },
  {
   "cell_type": "markdown",
   "id": "8d75fb3c",
   "metadata": {},
   "source": [
    "Analogicznie tworzymy funkcję zapisu. Zapisywana będzie aktywna warstwa:"
   ]
  },
  {
   "cell_type": "code",
   "execution_count": null,
   "id": "1ef420e8",
   "metadata": {},
   "outputs": [],
   "source": [
    "    def zapisz(self):\n",
    "        sciezka = QFileDialog.getSaveFileName(self.window, \"Zapisz\", \"C:\\\\\")\n",
    "        if QFileDialog.accepted:\n",
    "            QgsVectorFileWriter.writeAsVectorFormat(self.iface.activeLayer(), sciezka[0], \"UTF-8\")\n"
   ]
  },
  {
   "cell_type": "markdown",
   "id": "ba1f3ede",
   "metadata": {},
   "source": [
    "### Druga zakładka wtyczki"
   ]
  },
  {
   "cell_type": "markdown",
   "id": "8f369334",
   "metadata": {},
   "source": [
    "Przejdźmy do drugiej zakładki. Oprogramujmy jeszcze nasz CheckBox i SpinBox, tak by każde kliknięcie CheckBox powodowało zwiększenie liczby w SpinBox o 1 i zwiększało jego rozmiar. Do dzieła!\n",
    "\n",
    "Oprogramujmy kliknięcie CheckBox w run():"
   ]
  },
  {
   "cell_type": "code",
   "execution_count": null,
   "id": "04e53c90",
   "metadata": {},
   "outputs": [],
   "source": [
    "        self.form.checkBox.clicked.connect(self.modyfikacje)"
   ]
  },
  {
   "cell_type": "markdown",
   "id": "55d47324",
   "metadata": {},
   "source": [
    "Następnie w połączonej funkcji dokonujemy zmian parametrów widżetów:\n",
    "\n"
   ]
  },
  {
   "cell_type": "code",
   "execution_count": null,
   "id": "69b7d20f",
   "metadata": {},
   "outputs": [],
   "source": [
    "    def modyfikacje(self):\n",
    "        self.form.spinBox.setValue(self.form.spinBox.value()+1)\n",
    "        self.form.spinBox.setGeometry(self.form.spinBox.x(),self.form.spinBox.y(),self.form.spinBox.width()+1, self.form.spinBox.height()+1)"
   ]
  },
  {
   "cell_type": "markdown",
   "id": "4d161ff9",
   "metadata": {},
   "source": [
    "W pierwszej linijce ustalamy wartość spinBox na podstawie jego obecnej wartości o podnosimy ją o 1\n",
    "\n",
    "W drugiej linijce zmieniamy geometrię obiektu. setGeometry przyjmuje argumenty (pozycja x, pozycja y, szerokosc, wysokosc). Pobieramy je z obecnych wartości a szerokość i wysokości zwiększamy o 1. W rezultacie:"
   ]
  },
  {
   "cell_type": "markdown",
   "id": "e89bc119",
   "metadata": {},
   "source": [
    "<img src='wyk7_img/9.png' />"
   ]
  },
  {
   "cell_type": "markdown",
   "id": "cde503d8",
   "metadata": {},
   "source": [
    "W sumie nasz kod wyglądania obecnie tak:"
   ]
  },
  {
   "cell_type": "code",
   "execution_count": null,
   "id": "2639e22a",
   "metadata": {},
   "outputs": [],
   "source": [
    "from qgis.PyQt.QtGui import *\n",
    "from qgis.PyQt.QtWidgets import *\n",
    "from qgis.utils import *\n",
    "from qgis.core import *\n",
    "from qgis.gui import *\n",
    "from .form import Ui_Okno\n",
    "\n",
    "\n",
    "def classFactory(iface):\n",
    "    return NaszPlugin(iface)\n",
    "\n",
    "\n",
    "class NaszPlugin:\n",
    "    \"\"\"To klasa naszego pluginu\"\"\"\n",
    "    def __init__(self, iface):\n",
    "        \"\"\"\n",
    "        Inicjalizacja\n",
    "        :param iface: QgisInterface\n",
    "        :return:\n",
    "        \"\"\"\n",
    "        self.iface = iface\n",
    "\n",
    "    def initGui(self):\n",
    "        self.action = QAction(QIcon(\"\"\"C:\\\\Users\\\\kamil\\\\AppData\\\\Roaming\\\\QGIS\\\\QGIS3\\\\profiles\\\\default\\\\python\\\\plugins\\\\plugin\\\\icon.png\"\"\"),\"NaszPlugin\",self.iface.mainWindow())\n",
    "\n",
    "        self.menu = QMenu(self.iface.mainWindow())\n",
    "        self.menu.setTitle(\"Menu Wtyczki\")\n",
    "        self.menu.addAction(self.action)\n",
    "\n",
    "        #self.iface.addToolBarIcon(self.action)\n",
    "        self.action.triggered.connect(self.run)\n",
    "\n",
    "        menuBar = self.iface.mainWindow().menuBar()\n",
    "        menuBar.addAction(self.menu.menuAction())\n",
    "\n",
    "    def unload(self):\n",
    "        self.menu.deleteLater()\n",
    "        del self.action\n",
    "\n",
    "    def run(self):\n",
    "        self.window = QDialog()\n",
    "        self.form = Ui_Okno()\n",
    "        self.form.setupUi(self.window)\n",
    "        self.form.pushButton.setText(\"Otwieraj\")\n",
    "        self.form.pushButton.clicked.connect(self.otworz)\n",
    "        self.form.pushButton_2.released.connect(self.zapisz)\n",
    "        self.form.checkBox.clicked.connect(self.modyfikacje)\n",
    "        self.window.show()\n",
    "\n",
    "    def otworz(self):\n",
    "        sciezka = QFileDialog.getOpenFileName(self.window, \"Otworz\", \"C:\\\\\", '*.shp')\n",
    "        if QFileDialog.accepted:\n",
    "            self.iface.addVectorLayer(sciezka[0], \"plik\", \"ogr\")\n",
    "            self.form.lineEdit.setText(sciezka[0])\n",
    "\n",
    "    def zapisz(self):\n",
    "        sciezka = QFileDialog.getSaveFileName(self.window, \"Zapisz\", \"C:\\\\\")\n",
    "        if QFileDialog.accepted:\n",
    "            QgsVectorFileWriter.writeAsVectorFormat(self.iface.activeLayer(), sciezka[0], \"UTF-8\")\n",
    "\n",
    "    def modyfikacje(self):\n",
    "        self.form.spinBox.setValue(self.form.spinBox.value()+1)\n",
    "        self.form.spinBox.setGeometry(self.form.spinBox.x(),self.form.spinBox.y(),self.form.spinBox.width()+1, self.form.spinBox.height()+1)\n"
   ]
  },
  {
   "cell_type": "markdown",
   "id": "163625a8",
   "metadata": {},
   "source": [
    "W tym momencie powinniście być w stanie oprogramować komunikację między widżetami wtyczki."
   ]
  },
  {
   "cell_type": "code",
   "execution_count": null,
   "id": "1141bf9b",
   "metadata": {},
   "outputs": [],
   "source": []
  }
 ],
 "metadata": {
  "kernelspec": {
   "display_name": "Python 3 (ipykernel)",
   "language": "python",
   "name": "python3"
  },
  "language_info": {
   "codemirror_mode": {
    "name": "ipython",
    "version": 3
   },
   "file_extension": ".py",
   "mimetype": "text/x-python",
   "name": "python",
   "nbconvert_exporter": "python",
   "pygments_lexer": "ipython3",
   "version": "3.9.12"
  }
 },
 "nbformat": 4,
 "nbformat_minor": 5
}
